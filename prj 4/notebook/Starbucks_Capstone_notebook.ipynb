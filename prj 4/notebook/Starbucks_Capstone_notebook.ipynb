{
 "cells": [
  {
   "cell_type": "markdown",
   "metadata": {},
   "source": [
    "# Starbucks - scheduling promotion strategy using Machine Learning"
   ]
  },
  {
   "cell_type": "markdown",
   "metadata": {},
   "source": [
    "## Table of Contents\n",
    "\n",
    "[Introduction](#introduction)\n",
    "\n",
    "[1 Business Understanding](#business_understanding)\n",
    "\n",
    "[2 Data Understanding](#data_understanding)\n",
    "\n",
    "[3 Data Preparation](#data_preparation)\n",
    "\n",
    "[4 Exploratory Data Analysis](#exploratory_data_analysis)\n",
    "\n",
    "[5 Modeling and Evaluation](#modeling_and_evaluation)\n",
    "\n",
    "[6 Deployment](#deployment)\n",
    "\n",
    "[References](#references)"
   ]
  },
  {
   "cell_type": "markdown",
   "metadata": {},
   "source": [
    "## Introduction <a class='anchor' id='introduction'></a>"
   ]
  },
  {
   "cell_type": "markdown",
   "metadata": {},
   "source": [
    "<p>In this project we will analyse simulated data provided by Starbucks which mimics customer behavior in relation to promotion offers on the Starbucks rewards mobile app. \n",
    "    First we will explore and clean the data, then make exploratory analysis and finally we build a machine learning classification model to predict customer responses on individual promotional offers. \n",
    "\n",
    "<h3>About Starbucks</h3>\n",
    "<p>At first let me introduce the company with some general information: Starbucks Corporation, existing since 1971, is a multinational chain of coffee houses and roastery reserves with headquarter in Seattle, United States. \n",
    "    It is the world's largest coffee house chain with over 30,000 locations worldwide in more than 70 countries. \n",
    "    Starbucks locations serve in general hot and cold drinks, whole-bean coffee, microground instant coffee, espresso, caffe latte, full- and loose-leaf teas including Teavana tea products, Evolution Fresh juices, Frappuccino beverages, La Boulange pastries, and snacks including items such as chips and crackers.[1]\n",
    "    \n",
    "<h3>Starbucks rewards mobile app</h3>\n",
    "<p>The provided data set for this project contains simulated data which mimics customer behavior on the Starbucks rewards mobile app. \n",
    "    This mobile app is a simplified version of the real Starbucks app, because the underlying simulator only has one product, while the real app contains dozens of Starbucks product. \n",
    "    In particular the data set contains data of transactions, customer demographics and offer types.[2]\n",
    "    \n",
    "<p>This mobile app works as follows: once every few days, Starbucks sends out a promotional offer to its users. \n",
    "    An offer can be merely an advertisement for a drink or an actual offer such as a discount or BOGO (i.e. Buy One Get One free). \n",
    "    Some users might not receive any offer during certain weeks and not all users receive the same offer.\n",
    "    Every offer has a validity period before the offer expires. For example, a BOGO offer might be valid for only 5 days.\n",
    "    The data set contains also informational offers which are merely providing information about a product. For example, if an informational offer has 7 days of validity, it can be assumed the customer is feeling the influence of the offer for 7 days after receiving the advertisement. \n",
    "    Furthermore the transactional data shows user purchases made on the app including the timestamp of each purchase and the amount of money spent on a purchase. \n",
    "    This transactional data also has a record for each offer that a user receives as well as a record for when a user actually views the offer. \n",
    "    There are also records for when a user completes an offer. It can be also possible that a customer using the app might make a purchase through the app without having received an offer or seen an offer.[2]\n",
    "     \n",
    "<p>To give an example how the reward process works, a user could receive a discount offer buy 10 dollars get 2 off. \n",
    "    The offer is valid for 10 days from receipt. \n",
    "    If the customer accumulates at least 10 dollars in purchases during the validity period, the customer completes the offer. \n",
    "    It has also to be considered that a customer can receive an offer, never actually views the offer, and still completes the offer. \n",
    "    For example, a customer might receive the \"buy 10 dollars get 2 dollars off offer\", but never opens the offer during the 10 day validity period, while he spends 15 dollars during those ten days. \n",
    "    Thus there will be an offer completion record in the data set while the customer was not influenced by the offer.[2]\n",
    "  \n",
    "<p>Analysing customer data and finding preferences in customer behaviour is an exciting and important field for catering, retail and other service trades. I'm very excited to explore the given data sets and see which insights can be found and how well the machine learning classification models will predict customer responses.\n",
    "\n",
    "<p>The following analysis is a project of Udacity's Data Science Nanodegree and will be structures according the Cross-Industry Standard Process for Data Mining (CRISP-DM). As tool for the analysis we use the programming language python with its libraries numpy, pandas, sklearn for data analysis and matplotlib, seaborn for data vizualization. "
   ]
  },
  {
   "cell_type": "markdown",
   "metadata": {},
   "source": [
    "## 1 Business Understanding <a class='anchor' id='business_understanding'></a>"
   ]
  },
  {
   "cell_type": "markdown",
   "metadata": {},
   "source": [
    "<p>As a first step we need to find out the purpose of our analysis. Therefore we pose following business questions which we will answer with the analysis of the data set:\n",
    "<ol>\n",
    "    <li>Can we find relationships between customer demographic group age and income?\n",
    "    <li>How are offer types distributed in data set related to customer demographics age, income and gender?</li>\n",
    "    <li>Which are the most popular offers?</li>\n",
    "    <li>Are there significant differences in age, income and registration date for promotion success?</li>  \n",
    "    <li>Can we build a classification model to predict promotional offer success for new customers based on their demographical data age, income, registration date and gender?</li>\n",
    "</ol>"
   ]
  },
  {
   "cell_type": "markdown",
   "metadata": {},
   "source": [
    "## 2 Data Understanding <a class='anchor' id='data_understanding'></a>"
   ]
  },
  {
   "cell_type": "markdown",
   "metadata": {},
   "source": [
    "### 2.1 Setup"
   ]
  },
  {
   "cell_type": "code",
   "execution_count": 1,
   "metadata": {},
   "outputs": [],
   "source": [
    "### setup calculus\n",
    "import pandas as pd\n",
    "pd.set_option(\"display.max_columns\", None)\n",
    "import numpy as np\n",
    "from scipy import stats\n",
    "import json\n",
    "import datetime\n",
    "import joblib\n",
    "\n",
    "### setup visualisation\n",
    "%matplotlib inline\n",
    "import matplotlib.pyplot as plt\n",
    "import seaborn as sns\n",
    "\n",
    "### setup sklearn\n",
    "from sklearn.model_selection import train_test_split, GridSearchCV, StratifiedKFold\n",
    "from sklearn.preprocessing import MinMaxScaler\n",
    "from sklearn.naive_bayes import GaussianNB\n",
    "from sklearn.svm import SVC\n",
    "from sklearn.ensemble import RandomForestClassifier\n",
    "from sklearn.tree import DecisionTreeClassifier\n",
    "from sklearn.neighbors import KNeighborsClassifier\n",
    "from sklearn.linear_model import LogisticRegression\n",
    "from sklearn.metrics import accuracy_score, f1_score, recall_score, precision_score, classification_report, confusion_matrix\n",
    "\n",
    "### setup warnings\n",
    "import warnings\n",
    "warnings.filterwarnings(\"ignore\")"
   ]
  },
  {
   "cell_type": "markdown",
   "metadata": {},
   "source": [
    "### 2.2 Load data"
   ]
  },
  {
   "cell_type": "code",
   "execution_count": 2,
   "metadata": {
    "scrolled": false
   },
   "outputs": [
    {
     "data": {
      "text/plain": [
       "(10, 6)"
      ]
     },
     "metadata": {},
     "output_type": "display_data"
    },
    {
     "data": {
      "text/plain": [
       "(17000, 5)"
      ]
     },
     "metadata": {},
     "output_type": "display_data"
    },
    {
     "data": {
      "text/plain": [
       "(306534, 4)"
      ]
     },
     "metadata": {},
     "output_type": "display_data"
    },
    {
     "data": {
      "text/html": [
       "<div>\n",
       "<style scoped>\n",
       "    .dataframe tbody tr th:only-of-type {\n",
       "        vertical-align: middle;\n",
       "    }\n",
       "\n",
       "    .dataframe tbody tr th {\n",
       "        vertical-align: top;\n",
       "    }\n",
       "\n",
       "    .dataframe thead th {\n",
       "        text-align: right;\n",
       "    }\n",
       "</style>\n",
       "<table border=\"1\" class=\"dataframe\">\n",
       "  <thead>\n",
       "    <tr style=\"text-align: right;\">\n",
       "      <th></th>\n",
       "      <th>reward</th>\n",
       "      <th>channels</th>\n",
       "      <th>difficulty</th>\n",
       "      <th>duration</th>\n",
       "      <th>offer_type</th>\n",
       "      <th>id</th>\n",
       "    </tr>\n",
       "  </thead>\n",
       "  <tbody>\n",
       "    <tr>\n",
       "      <th>0</th>\n",
       "      <td>10</td>\n",
       "      <td>[email, mobile, social]</td>\n",
       "      <td>10</td>\n",
       "      <td>7</td>\n",
       "      <td>bogo</td>\n",
       "      <td>ae264e3637204a6fb9bb56bc8210ddfd</td>\n",
       "    </tr>\n",
       "  </tbody>\n",
       "</table>\n",
       "</div>"
      ],
      "text/plain": [
       "   reward                 channels  difficulty  duration offer_type  \\\n",
       "0      10  [email, mobile, social]          10         7       bogo   \n",
       "\n",
       "                                 id  \n",
       "0  ae264e3637204a6fb9bb56bc8210ddfd  "
      ]
     },
     "metadata": {},
     "output_type": "display_data"
    },
    {
     "data": {
      "text/html": [
       "<div>\n",
       "<style scoped>\n",
       "    .dataframe tbody tr th:only-of-type {\n",
       "        vertical-align: middle;\n",
       "    }\n",
       "\n",
       "    .dataframe tbody tr th {\n",
       "        vertical-align: top;\n",
       "    }\n",
       "\n",
       "    .dataframe thead th {\n",
       "        text-align: right;\n",
       "    }\n",
       "</style>\n",
       "<table border=\"1\" class=\"dataframe\">\n",
       "  <thead>\n",
       "    <tr style=\"text-align: right;\">\n",
       "      <th></th>\n",
       "      <th>gender</th>\n",
       "      <th>age</th>\n",
       "      <th>id</th>\n",
       "      <th>became_member_on</th>\n",
       "      <th>income</th>\n",
       "    </tr>\n",
       "  </thead>\n",
       "  <tbody>\n",
       "    <tr>\n",
       "      <th>0</th>\n",
       "      <td>None</td>\n",
       "      <td>118</td>\n",
       "      <td>68be06ca386d4c31939f3a4f0e3dd783</td>\n",
       "      <td>20170212</td>\n",
       "      <td>NaN</td>\n",
       "    </tr>\n",
       "  </tbody>\n",
       "</table>\n",
       "</div>"
      ],
      "text/plain": [
       "  gender  age                                id  became_member_on  income\n",
       "0   None  118  68be06ca386d4c31939f3a4f0e3dd783          20170212     NaN"
      ]
     },
     "metadata": {},
     "output_type": "display_data"
    },
    {
     "data": {
      "text/html": [
       "<div>\n",
       "<style scoped>\n",
       "    .dataframe tbody tr th:only-of-type {\n",
       "        vertical-align: middle;\n",
       "    }\n",
       "\n",
       "    .dataframe tbody tr th {\n",
       "        vertical-align: top;\n",
       "    }\n",
       "\n",
       "    .dataframe thead th {\n",
       "        text-align: right;\n",
       "    }\n",
       "</style>\n",
       "<table border=\"1\" class=\"dataframe\">\n",
       "  <thead>\n",
       "    <tr style=\"text-align: right;\">\n",
       "      <th></th>\n",
       "      <th>person</th>\n",
       "      <th>event</th>\n",
       "      <th>value</th>\n",
       "      <th>time</th>\n",
       "    </tr>\n",
       "  </thead>\n",
       "  <tbody>\n",
       "    <tr>\n",
       "      <th>0</th>\n",
       "      <td>78afa995795e4d85b5d9ceeca43f5fef</td>\n",
       "      <td>offer received</td>\n",
       "      <td>{'offer id': '9b98b8c7a33c4b65b9aebfe6a799e6d9'}</td>\n",
       "      <td>0</td>\n",
       "    </tr>\n",
       "  </tbody>\n",
       "</table>\n",
       "</div>"
      ],
      "text/plain": [
       "                             person           event  \\\n",
       "0  78afa995795e4d85b5d9ceeca43f5fef  offer received   \n",
       "\n",
       "                                              value  time  \n",
       "0  {'offer id': '9b98b8c7a33c4b65b9aebfe6a799e6d9'}     0  "
      ]
     },
     "metadata": {},
     "output_type": "display_data"
    }
   ],
   "source": [
    "### read in json files\n",
    "portfolio = pd.read_json(\"data/portfolio.json\", orient=\"records\", lines=True)\n",
    "profile = pd.read_json(\"data/profile.json\", orient=\"records\", lines=True)\n",
    "transcript = pd.read_json(\"data/transcript.json\", orient=\"records\", lines=True)\n",
    "\n",
    "### display shape of each data frame\n",
    "display(portfolio.shape, profile.shape, transcript.shape)\n",
    "\n",
    "### display first row of each data frame\n",
    "display(portfolio.head(1), profile.head(1), transcript.head(1))"
   ]
  },
  {
   "cell_type": "markdown",
   "metadata": {},
   "source": [
    "### 2.3 Format and Explore data"
   ]
  },
  {
   "cell_type": "markdown",
   "metadata": {},
   "source": [
    "#### 2.3.1 portfolio"
   ]
  },
  {
   "cell_type": "code",
   "execution_count": 3,
   "metadata": {
    "scrolled": true
   },
   "outputs": [
    {
     "name": "stdout",
     "output_type": "stream",
     "text": [
      "<class 'pandas.core.frame.DataFrame'>\n",
      "RangeIndex: 10 entries, 0 to 9\n",
      "Data columns (total 6 columns):\n",
      " #   Column      Non-Null Count  Dtype \n",
      "---  ------      --------------  ----- \n",
      " 0   reward      10 non-null     int64 \n",
      " 1   channels    10 non-null     object\n",
      " 2   difficulty  10 non-null     int64 \n",
      " 3   duration    10 non-null     int64 \n",
      " 4   offer_type  10 non-null     object\n",
      " 5   id          10 non-null     object\n",
      "dtypes: int64(3), object(3)\n",
      "memory usage: 608.0+ bytes\n"
     ]
    },
    {
     "data": {
      "text/plain": [
       "None"
      ]
     },
     "metadata": {},
     "output_type": "display_data"
    }
   ],
   "source": [
    "### display column info of data set\n",
    "display(portfolio.info())"
   ]
  },
  {
   "cell_type": "code",
   "execution_count": 4,
   "metadata": {
    "scrolled": true
   },
   "outputs": [
    {
     "data": {
      "text/plain": [
       "reward        0.0\n",
       "channels      0.0\n",
       "difficulty    0.0\n",
       "duration      0.0\n",
       "offer_type    0.0\n",
       "id            0.0\n",
       "dtype: float64"
      ]
     },
     "metadata": {},
     "output_type": "display_data"
    }
   ],
   "source": [
    "### display proportion of missing data for all selected columns\n",
    "display(portfolio.isnull().mean())"
   ]
  },
  {
   "cell_type": "markdown",
   "metadata": {},
   "source": [
    "<h4>Data understanding of portfolio data set</h4>\n",
    "<p>Data set containing offer ids and meta data about each offer (duration, type, etc.):\n",
    "<ul>    \n",
    "    <li>id (string): offer id</li>\n",
    "    <li>offer_type (string): totally 3 offer types (BOGO, discount, informational)</li>\n",
    "    <li>difficulty (int): minimum required spend to complete an offer in USD</li>\n",
    "    <li>reward (int): reward given for completing an offer in USD</li>\n",
    "    <li>duration (int): time in days for offer to be opened</li>\n",
    "    <li>channels (list of strings): totally 4 channel types (web, email, mobile, social)</li>\n",
    "</ul>\n",
    "<p>Observations:\n",
    "    \n",
    "<ul>    \n",
    "    <li>10 rows and 6 columns</li>\n",
    "    <li>no missing values</li>\n",
    "</ul>"
   ]
  },
  {
   "cell_type": "markdown",
   "metadata": {},
   "source": [
    "#### 2.3.2 profile"
   ]
  },
  {
   "cell_type": "code",
   "execution_count": 5,
   "metadata": {
    "scrolled": false
   },
   "outputs": [
    {
     "name": "stdout",
     "output_type": "stream",
     "text": [
      "<class 'pandas.core.frame.DataFrame'>\n",
      "RangeIndex: 17000 entries, 0 to 16999\n",
      "Data columns (total 5 columns):\n",
      " #   Column            Non-Null Count  Dtype  \n",
      "---  ------            --------------  -----  \n",
      " 0   gender            14825 non-null  object \n",
      " 1   age               17000 non-null  int64  \n",
      " 2   id                17000 non-null  object \n",
      " 3   became_member_on  17000 non-null  int64  \n",
      " 4   income            14825 non-null  float64\n",
      "dtypes: float64(1), int64(2), object(2)\n",
      "memory usage: 664.2+ KB\n"
     ]
    },
    {
     "data": {
      "text/plain": [
       "None"
      ]
     },
     "metadata": {},
     "output_type": "display_data"
    }
   ],
   "source": [
    "### display column info of data set\n",
    "display(profile.info())"
   ]
  },
  {
   "cell_type": "markdown",
   "metadata": {},
   "source": [
    "<p>Explore gender data: \n",
    "<ul>\n",
    "    <li>check type and size of categories</li>\n",
    "</ul>"
   ]
  },
  {
   "cell_type": "code",
   "execution_count": 6,
   "metadata": {
    "scrolled": false
   },
   "outputs": [
    {
     "data": {
      "image/png": "[encoded data removed]",
      "text/plain": [
       "<Figure size 432x288 with 1 Axes>"
      ]
     },
     "metadata": {
      "needs_background": "light"
     },
     "output_type": "display_data"
    }
   ],
   "source": [
    "### define base color for bars\n",
    "base_color = sns.color_palette()[0]\n",
    "### define frequency with value counts in decreasing order of gender column\n",
    "freq = profile[\"gender\"].value_counts()\n",
    "### get index of Series\n",
    "gen_order = freq.index\n",
    "\n",
    "### plot bar chart in decreasing order of gender value counts\n",
    "plt.figure(figsize = [6,4])\n",
    "sns.countplot(data = profile, x = \"gender\", color = base_color, order = gen_order)\n",
    "\n",
    "### get current tick locations and labels\n",
    "locs, labels = plt.xticks(rotation=0) \n",
    "### loop through each pair of locations and labels\n",
    "for loc, label in zip(locs, labels):\n",
    "    ### get text property for label to get the correct count\n",
    "    count = freq[label.get_text()]\n",
    "    pct_string = \"{}\".format(count)\n",
    "    ### print annotation just above top of the bar\n",
    "    plt.text(loc, count+100, pct_string, ha = \"center\", color = \"black\")\n",
    "\n",
    "plt.title(\"Portfolio - gender count\")\n",
    "plt.show();"
   ]
  },
  {
   "cell_type": "markdown",
   "metadata": {},
   "source": [
    "<p>Explore age data: \n",
    "<ul>\n",
    "    <li>check age distribution</li>\n",
    "</ul>"
   ]
  },
  {
   "cell_type": "code",
   "execution_count": 7,
   "metadata": {
    "scrolled": true
   },
   "outputs": [
    {
     "data": {
      "image/png": "[encoded data removed]",
      "text/plain": [
       "<Figure size 1152x144 with 1 Axes>"
      ]
     },
     "metadata": {
      "needs_background": "light"
     },
     "output_type": "display_data"
    }
   ],
   "source": [
    "### define base color\n",
    "base_color = sns.color_palette()[0]\n",
    "### define figuere size of plot\n",
    "plt.figure(figsize = [16,2])\n",
    "### plot box plot showing outliers\n",
    "sns.boxplot(x = profile[\"age\"], color = base_color)\n",
    "plt.title(\"Portfolio - age ditribution\")\n",
    "plt.show();"
   ]
  },
  {
   "cell_type": "markdown",
   "metadata": {},
   "source": [
    "We can see in the box plot that there are one or more values with age of 118 years. This seems not to be realsitic and looks like an outlier which has to be checked in detail in the data preparation section."
   ]
  },
  {
   "cell_type": "markdown",
   "metadata": {},
   "source": [
    "<p>Format and explore become_member_on data:\n",
    "<ul>\n",
    "    <li>convert dtype from int64 to datetime64</li>\n",
    "    <li>view chart with monthly registrations</li>\n",
    "</ul>"
   ]
  },
  {
   "cell_type": "code",
   "execution_count": 8,
   "metadata": {
    "scrolled": true
   },
   "outputs": [
    {
     "data": {
      "image/png": "[encoded data removed]",
      "text/plain": [
       "<Figure size 432x288 with 1 Axes>"
      ]
     },
     "metadata": {
      "needs_background": "light"
     },
     "output_type": "display_data"
    }
   ],
   "source": [
    "### convert Dtype from int64 to datetime64 in column \"became_member_on\"\n",
    "profile[\"became_member_on\"] = pd.to_datetime(profile.became_member_on.astype(str))\n",
    "\n",
    "### specify Grouper for monthly counts of registrations\n",
    "monthly_reg = profile.groupby([pd.Grouper(key=\"became_member_on\", freq=\"M\")])[\"became_member_on\"].count()\n",
    "### show line chart with registration date development\n",
    "plt.figure(figsize = [6,4])\n",
    "monthly_reg.plot(title = \"Portfolio - monthly customer registrations\", ylabel = \"count\");"
   ]
  },
  {
   "cell_type": "markdown",
   "metadata": {},
   "source": [
    "<p>Explore income data: \n",
    "<ul>\n",
    "    <li>check income distribution</li>\n",
    "</ul>"
   ]
  },
  {
   "cell_type": "code",
   "execution_count": 9,
   "metadata": {},
   "outputs": [
    {
     "data": {
      "image/png": "[encoded data removed]",
      "text/plain": [
       "<Figure size 1152x144 with 1 Axes>"
      ]
     },
     "metadata": {
      "needs_background": "light"
     },
     "output_type": "display_data"
    }
   ],
   "source": [
    "### define base color\n",
    "base_color = sns.color_palette()[0]\n",
    "### define figuere size of plot\n",
    "plt.figure(figsize = [16,2])\n",
    "### plot box plot showing outliers\n",
    "sns.boxplot(x = profile[\"income\"], color = base_color)\n",
    "plt.title(\"Portfolio - income distribution\")\n",
    "plt.show();"
   ]
  },
  {
   "cell_type": "markdown",
   "metadata": {},
   "source": [
    "<p>Explore missing and dulicated data: \n",
    "<ul>\n",
    "    <li>check for missing data</li>\n",
    "    <li>check for dulicated data</li>\n",
    "</ul>"
   ]
  },
  {
   "cell_type": "code",
   "execution_count": 10,
   "metadata": {
    "scrolled": false
   },
   "outputs": [
    {
     "data": {
      "text/plain": [
       "gender              2175\n",
       "age                    0\n",
       "id                     0\n",
       "became_member_on       0\n",
       "income              2175\n",
       "dtype: int64"
      ]
     },
     "metadata": {},
     "output_type": "display_data"
    }
   ],
   "source": [
    "### display proportion of missing data for all selected columns\n",
    "display(profile.isnull().sum())"
   ]
  },
  {
   "cell_type": "code",
   "execution_count": 11,
   "metadata": {},
   "outputs": [
    {
     "data": {
      "text/plain": [
       "gender                 0\n",
       "age                 2175\n",
       "id                  2175\n",
       "became_member_on    2175\n",
       "income                 0\n",
       "dtype: int64"
      ]
     },
     "metadata": {},
     "output_type": "display_data"
    }
   ],
   "source": [
    "### Check rows with age = 118\n",
    "age_118 = profile[profile[\"age\"] == 118]\n",
    "display(age_118.count())"
   ]
  },
  {
   "cell_type": "markdown",
   "metadata": {},
   "source": [
    "<p>There are exactly 2,175 customers with missing data for gender and income. Aside we have 2,175 customers with not realistic age of 118. \n",
    "Probably data for gender, income and age was simply not collected for those 2,175 customers at the registration process. We have here a data entry error where for gender and income no values were inserted and for age 118 was inserted.\n",
    "\n",
    "<p>These 2,175 registrations are appr. 12.8 % of the total customers in the data set, which is not few. Nevertheless rather to compute a value for the missing data (by imputation), we decide to remove all these customers for the further data anaylsis process."
   ]
  },
  {
   "cell_type": "code",
   "execution_count": 12,
   "metadata": {
    "scrolled": true
   },
   "outputs": [
    {
     "name": "stdout",
     "output_type": "stream",
     "text": [
      "Duplicated rows: 0\n"
     ]
    }
   ],
   "source": [
    "### check for duplicated data (duplicated users):\n",
    "profile_dupicated = profile.duplicated().sum()\n",
    "print(\"Duplicated rows:\", profile_dupicated)"
   ]
  },
  {
   "cell_type": "markdown",
   "metadata": {},
   "source": [
    "<h4>Data understanding of profile data set</h4>\n",
    "<p>Data set containing demographic data for each customer:\n",
    "<ul>  \n",
    "    <li>age (int): age of the customer</li>\n",
    "    <li>became_member_on (int): date when customer created an app account</li>\n",
    "    <li>gender (str): gender of the customer with totally 3 categories (M, F, O)</li>\n",
    "    <li>id (string): customer id</li>\n",
    "    <li>income (float): yearly customer's income in USD</li>\n",
    "</ul>\n",
    "\n",
    "<p>Observations:\n",
    "<ul>  \n",
    "    <li>17,000 rows and 5 columns</li>\n",
    "    <li>age has 2175 values with 118 which must be an data entry error (outlier will be removed)</li>    \n",
    "    <li>gender and income have each 2175 missing values which are in the same rows as the high age value of 118 which we consider as data entry error too</li>\n",
    "    <li>became_member_on dtype has to be reformated from integer to datetime</li> \n",
    "    <li>no duplicated rows</li>\n",
    "</ul>    "
   ]
  },
  {
   "cell_type": "markdown",
   "metadata": {},
   "source": [
    "#### 2.3.3 transcript"
   ]
  },
  {
   "cell_type": "code",
   "execution_count": 13,
   "metadata": {
    "scrolled": true
   },
   "outputs": [
    {
     "name": "stdout",
     "output_type": "stream",
     "text": [
      "<class 'pandas.core.frame.DataFrame'>\n",
      "RangeIndex: 306534 entries, 0 to 306533\n",
      "Data columns (total 4 columns):\n",
      " #   Column  Non-Null Count   Dtype \n",
      "---  ------  --------------   ----- \n",
      " 0   person  306534 non-null  object\n",
      " 1   event   306534 non-null  object\n",
      " 2   value   306534 non-null  object\n",
      " 3   time    306534 non-null  int64 \n",
      "dtypes: int64(1), object(3)\n",
      "memory usage: 9.4+ MB\n"
     ]
    },
    {
     "data": {
      "text/plain": [
       "None"
      ]
     },
     "metadata": {},
     "output_type": "display_data"
    }
   ],
   "source": [
    "display(transcript.info())"
   ]
  },
  {
   "cell_type": "markdown",
   "metadata": {},
   "source": [
    "<p>Explore event data: \n",
    "<ul>\n",
    "    <li>check type and size of categories</li>\n",
    "</ul>"
   ]
  },
  {
   "cell_type": "code",
   "execution_count": 14,
   "metadata": {},
   "outputs": [
    {
     "data": {
      "image/png": "[encoded data removed]",
      "text/plain": [
       "<Figure size 432x288 with 1 Axes>"
      ]
     },
     "metadata": {
      "needs_background": "light"
     },
     "output_type": "display_data"
    }
   ],
   "source": [
    "### define base color for bars\n",
    "base_color = sns.color_palette()[0]\n",
    "### define frequency with value counts in decreasing order of gender column\n",
    "freq = transcript[\"event\"].value_counts()\n",
    "### get index of Series\n",
    "gen_order = freq.index\n",
    "\n",
    "### plot bar chart in decreasing order of gender value counts\n",
    "plt.figure(figsize = [6,4])\n",
    "sns.countplot(data = transcript, x = \"event\", color = base_color, order = gen_order)\n",
    "\n",
    "### get current tick locations and labels\n",
    "locs, labels = plt.xticks(rotation=0) \n",
    "### loop through each pair of locations and labels\n",
    "for loc, label in zip(locs, labels):\n",
    "    ### get text property for label to get the correct count\n",
    "    count = freq[label.get_text()]\n",
    "    pct_string = '{}'.format(count)\n",
    "    ### print annotation just above top of the bar\n",
    "    plt.text(loc, count+100, pct_string, ha = \"center\", color = \"black\")\n",
    "\n",
    "plt.title(\"Transcript - event count\")\n",
    "plt.show();"
   ]
  },
  {
   "cell_type": "markdown",
   "metadata": {},
   "source": [
    "<p>Explore time data: \n",
    "<ul>\n",
    "    <li>view chart with time registrations since start of test</li>\n",
    "</ul>"
   ]
  },
  {
   "cell_type": "code",
   "execution_count": 15,
   "metadata": {},
   "outputs": [
    {
     "data": {
      "image/png": "[encoded data removed]",
      "text/plain": [
       "<Figure size 432x288 with 1 Axes>"
      ]
     },
     "metadata": {
      "needs_background": "light"
     },
     "output_type": "display_data"
    }
   ],
   "source": [
    "### line plot showing distribution of time\n",
    "plt.figure(figsize = [6,4])\n",
    "sns.distplot(transcript[\"time\"], hist = False, kde_kws = {\"shade\": True})\n",
    "plt.title(\"Transcript - Distribution of time in hours since start of test\")\n",
    "plt.xlabel(\"Time [h]\");"
   ]
  },
  {
   "cell_type": "markdown",
   "metadata": {},
   "source": [
    "<p>Explore transcript data set for one single customer: \n",
    "<ul>\n",
    "    <li>view process with events and transactions of one customer for better understanding</li>\n",
    "</ul>"
   ]
  },
  {
   "cell_type": "code",
   "execution_count": 16,
   "metadata": {
    "scrolled": false
   },
   "outputs": [
    {
     "data": {
      "text/html": [
       "<div>\n",
       "<style scoped>\n",
       "    .dataframe tbody tr th:only-of-type {\n",
       "        vertical-align: middle;\n",
       "    }\n",
       "\n",
       "    .dataframe tbody tr th {\n",
       "        vertical-align: top;\n",
       "    }\n",
       "\n",
       "    .dataframe thead th {\n",
       "        text-align: right;\n",
       "    }\n",
       "</style>\n",
       "<table border=\"1\" class=\"dataframe\">\n",
       "  <thead>\n",
       "    <tr style=\"text-align: right;\">\n",
       "      <th></th>\n",
       "      <th>person</th>\n",
       "      <th>event</th>\n",
       "      <th>value</th>\n",
       "      <th>time</th>\n",
       "    </tr>\n",
       "  </thead>\n",
       "  <tbody>\n",
       "    <tr>\n",
       "      <th>0</th>\n",
       "      <td>78afa995795e4d85b5d9ceeca43f5fef</td>\n",
       "      <td>offer received</td>\n",
       "      <td>{'offer id': '9b98b8c7a33c4b65b9aebfe6a799e6d9'}</td>\n",
       "      <td>0</td>\n",
       "    </tr>\n",
       "    <tr>\n",
       "      <th>15561</th>\n",
       "      <td>78afa995795e4d85b5d9ceeca43f5fef</td>\n",
       "      <td>offer viewed</td>\n",
       "      <td>{'offer id': '9b98b8c7a33c4b65b9aebfe6a799e6d9'}</td>\n",
       "      <td>6</td>\n",
       "    </tr>\n",
       "    <tr>\n",
       "      <th>47582</th>\n",
       "      <td>78afa995795e4d85b5d9ceeca43f5fef</td>\n",
       "      <td>transaction</td>\n",
       "      <td>{'amount': 19.89}</td>\n",
       "      <td>132</td>\n",
       "    </tr>\n",
       "    <tr>\n",
       "      <th>47583</th>\n",
       "      <td>78afa995795e4d85b5d9ceeca43f5fef</td>\n",
       "      <td>offer completed</td>\n",
       "      <td>{'offer_id': '9b98b8c7a33c4b65b9aebfe6a799e6d9...</td>\n",
       "      <td>132</td>\n",
       "    </tr>\n",
       "    <tr>\n",
       "      <th>49502</th>\n",
       "      <td>78afa995795e4d85b5d9ceeca43f5fef</td>\n",
       "      <td>transaction</td>\n",
       "      <td>{'amount': 17.78}</td>\n",
       "      <td>144</td>\n",
       "    </tr>\n",
       "    <tr>\n",
       "      <th>53176</th>\n",
       "      <td>78afa995795e4d85b5d9ceeca43f5fef</td>\n",
       "      <td>offer received</td>\n",
       "      <td>{'offer id': '5a8bc65990b245e5a138643cd4eb9837'}</td>\n",
       "      <td>168</td>\n",
       "    </tr>\n",
       "    <tr>\n",
       "      <th>85291</th>\n",
       "      <td>78afa995795e4d85b5d9ceeca43f5fef</td>\n",
       "      <td>offer viewed</td>\n",
       "      <td>{'offer id': '5a8bc65990b245e5a138643cd4eb9837'}</td>\n",
       "      <td>216</td>\n",
       "    </tr>\n",
       "    <tr>\n",
       "      <th>87134</th>\n",
       "      <td>78afa995795e4d85b5d9ceeca43f5fef</td>\n",
       "      <td>transaction</td>\n",
       "      <td>{'amount': 19.67}</td>\n",
       "      <td>222</td>\n",
       "    </tr>\n",
       "    <tr>\n",
       "      <th>92104</th>\n",
       "      <td>78afa995795e4d85b5d9ceeca43f5fef</td>\n",
       "      <td>transaction</td>\n",
       "      <td>{'amount': 29.72}</td>\n",
       "      <td>240</td>\n",
       "    </tr>\n",
       "    <tr>\n",
       "      <th>141566</th>\n",
       "      <td>78afa995795e4d85b5d9ceeca43f5fef</td>\n",
       "      <td>transaction</td>\n",
       "      <td>{'amount': 23.93}</td>\n",
       "      <td>378</td>\n",
       "    </tr>\n",
       "    <tr>\n",
       "      <th>150598</th>\n",
       "      <td>78afa995795e4d85b5d9ceeca43f5fef</td>\n",
       "      <td>offer received</td>\n",
       "      <td>{'offer id': 'ae264e3637204a6fb9bb56bc8210ddfd'}</td>\n",
       "      <td>408</td>\n",
       "    </tr>\n",
       "    <tr>\n",
       "      <th>163375</th>\n",
       "      <td>78afa995795e4d85b5d9ceeca43f5fef</td>\n",
       "      <td>offer viewed</td>\n",
       "      <td>{'offer id': 'ae264e3637204a6fb9bb56bc8210ddfd'}</td>\n",
       "      <td>408</td>\n",
       "    </tr>\n",
       "    <tr>\n",
       "      <th>201572</th>\n",
       "      <td>78afa995795e4d85b5d9ceeca43f5fef</td>\n",
       "      <td>offer received</td>\n",
       "      <td>{'offer id': 'f19421c1d4aa40978ebb69ca19b0e20d'}</td>\n",
       "      <td>504</td>\n",
       "    </tr>\n",
       "    <tr>\n",
       "      <th>218393</th>\n",
       "      <td>78afa995795e4d85b5d9ceeca43f5fef</td>\n",
       "      <td>transaction</td>\n",
       "      <td>{'amount': 21.72}</td>\n",
       "      <td>510</td>\n",
       "    </tr>\n",
       "    <tr>\n",
       "      <th>218394</th>\n",
       "      <td>78afa995795e4d85b5d9ceeca43f5fef</td>\n",
       "      <td>offer completed</td>\n",
       "      <td>{'offer_id': 'ae264e3637204a6fb9bb56bc8210ddfd...</td>\n",
       "      <td>510</td>\n",
       "    </tr>\n",
       "    <tr>\n",
       "      <th>218395</th>\n",
       "      <td>78afa995795e4d85b5d9ceeca43f5fef</td>\n",
       "      <td>offer completed</td>\n",
       "      <td>{'offer_id': 'f19421c1d4aa40978ebb69ca19b0e20d...</td>\n",
       "      <td>510</td>\n",
       "    </tr>\n",
       "    <tr>\n",
       "      <th>230412</th>\n",
       "      <td>78afa995795e4d85b5d9ceeca43f5fef</td>\n",
       "      <td>transaction</td>\n",
       "      <td>{'amount': 26.56}</td>\n",
       "      <td>534</td>\n",
       "    </tr>\n",
       "    <tr>\n",
       "      <th>262138</th>\n",
       "      <td>78afa995795e4d85b5d9ceeca43f5fef</td>\n",
       "      <td>offer viewed</td>\n",
       "      <td>{'offer id': 'f19421c1d4aa40978ebb69ca19b0e20d'}</td>\n",
       "      <td>582</td>\n",
       "    </tr>\n",
       "  </tbody>\n",
       "</table>\n",
       "</div>"
      ],
      "text/plain": [
       "                                  person            event  \\\n",
       "0       78afa995795e4d85b5d9ceeca43f5fef   offer received   \n",
       "15561   78afa995795e4d85b5d9ceeca43f5fef     offer viewed   \n",
       "47582   78afa995795e4d85b5d9ceeca43f5fef      transaction   \n",
       "47583   78afa995795e4d85b5d9ceeca43f5fef  offer completed   \n",
       "49502   78afa995795e4d85b5d9ceeca43f5fef      transaction   \n",
       "53176   78afa995795e4d85b5d9ceeca43f5fef   offer received   \n",
       "85291   78afa995795e4d85b5d9ceeca43f5fef     offer viewed   \n",
       "87134   78afa995795e4d85b5d9ceeca43f5fef      transaction   \n",
       "92104   78afa995795e4d85b5d9ceeca43f5fef      transaction   \n",
       "141566  78afa995795e4d85b5d9ceeca43f5fef      transaction   \n",
       "150598  78afa995795e4d85b5d9ceeca43f5fef   offer received   \n",
       "163375  78afa995795e4d85b5d9ceeca43f5fef     offer viewed   \n",
       "201572  78afa995795e4d85b5d9ceeca43f5fef   offer received   \n",
       "218393  78afa995795e4d85b5d9ceeca43f5fef      transaction   \n",
       "218394  78afa995795e4d85b5d9ceeca43f5fef  offer completed   \n",
       "218395  78afa995795e4d85b5d9ceeca43f5fef  offer completed   \n",
       "230412  78afa995795e4d85b5d9ceeca43f5fef      transaction   \n",
       "262138  78afa995795e4d85b5d9ceeca43f5fef     offer viewed   \n",
       "\n",
       "                                                    value  time  \n",
       "0        {'offer id': '9b98b8c7a33c4b65b9aebfe6a799e6d9'}     0  \n",
       "15561    {'offer id': '9b98b8c7a33c4b65b9aebfe6a799e6d9'}     6  \n",
       "47582                                   {'amount': 19.89}   132  \n",
       "47583   {'offer_id': '9b98b8c7a33c4b65b9aebfe6a799e6d9...   132  \n",
       "49502                                   {'amount': 17.78}   144  \n",
       "53176    {'offer id': '5a8bc65990b245e5a138643cd4eb9837'}   168  \n",
       "85291    {'offer id': '5a8bc65990b245e5a138643cd4eb9837'}   216  \n",
       "87134                                   {'amount': 19.67}   222  \n",
       "92104                                   {'amount': 29.72}   240  \n",
       "141566                                  {'amount': 23.93}   378  \n",
       "150598   {'offer id': 'ae264e3637204a6fb9bb56bc8210ddfd'}   408  \n",
       "163375   {'offer id': 'ae264e3637204a6fb9bb56bc8210ddfd'}   408  \n",
       "201572   {'offer id': 'f19421c1d4aa40978ebb69ca19b0e20d'}   504  \n",
       "218393                                  {'amount': 21.72}   510  \n",
       "218394  {'offer_id': 'ae264e3637204a6fb9bb56bc8210ddfd...   510  \n",
       "218395  {'offer_id': 'f19421c1d4aa40978ebb69ca19b0e20d...   510  \n",
       "230412                                  {'amount': 26.56}   534  \n",
       "262138   {'offer id': 'f19421c1d4aa40978ebb69ca19b0e20d'}   582  "
      ]
     },
     "metadata": {},
     "output_type": "display_data"
    }
   ],
   "source": [
    "### view all transcripts of one customer\n",
    "single_customer = transcript[transcript[\"person\"] == transcript[\"person\"][0]]\n",
    "display(single_customer)"
   ]
  },
  {
   "cell_type": "markdown",
   "metadata": {},
   "source": [
    "<p>The steps to complete an offer are explained according to the dataframe above for the customer \"78afa995795e4d85b5d9ceeca43f5fef\" with the offer \"9b98b8c7a33c4b65b9aebfe6a799e6d9\" (BOGO: difficulty 5 USD, reward 5 USD, duration 7 days):\n",
    "<ol>\n",
    "    <li>time 0 hours: offer was received by customer</li>\n",
    "    <li>time 6 hours: offer was viewed by customer</li>\n",
    "    <li>time 132 hours: customer made a purchase with a transaction of 19.89 USD</li>\n",
    "    <li>time 132 hours: as the transaction was above 5 USD and prior 7 days (168 hours) from offer receive, the offer was completed and the customer got a reward of 5 USD</li>\n",
    "</ol>\n",
    "\n",
    "<p>The promotional offer campaign is always successful when the customer first views and then completes the offer. "
   ]
  },
  {
   "cell_type": "markdown",
   "metadata": {},
   "source": [
    "<p>Explore missing and dulicated data: \n",
    "<ul>\n",
    "    <li>check for missing data</li>\n",
    "    <li>check for dulicated data</li>\n",
    "</ul>"
   ]
  },
  {
   "cell_type": "code",
   "execution_count": 17,
   "metadata": {},
   "outputs": [
    {
     "data": {
      "text/plain": [
       "person    0\n",
       "event     0\n",
       "value     0\n",
       "time      0\n",
       "dtype: int64"
      ]
     },
     "metadata": {},
     "output_type": "display_data"
    }
   ],
   "source": [
    "### display proportion of missing data for all selected columns\n",
    "display(transcript.isnull().sum())"
   ]
  },
  {
   "cell_type": "markdown",
   "metadata": {},
   "source": [
    "<h4>Data understanding of transcript data set</h4>\n",
    "<p>Data set containing records for transactions, offers received, offers viewed, and offers completed:   \n",
    "<ul>\n",
    "    <li>event (str): record description (categories: transaction, offer received, offer viewed, offer competed)</li>\n",
    "    <li>person (str): customer id</li>\n",
    "    <li>time (int): time in hours since start of test beginning at t=0</li>\n",
    "    <li>value (dict of strings): either an offer id or transaction amount in USD depending on the record</li>\n",
    "</ul>\n",
    "\n",
    "<p>Observations:\n",
    "<ul>\n",
    "    <li>306,534 rows and 4 columns</li>\n",
    "    <li>no missing values</li>\n",
    "    <li>duplicated rows 374 to be removed</li>\n",
    "</ul>"
   ]
  },
  {
   "cell_type": "markdown",
   "metadata": {},
   "source": [
    "## 3 Data Preparation <a class='anchor' id='data_preparation'></a>"
   ]
  },
  {
   "cell_type": "markdown",
   "metadata": {},
   "source": [
    "### 3.1 Cleaning and Engineering data"
   ]
  },
  {
   "cell_type": "markdown",
   "metadata": {},
   "source": [
    "<p>We perform cleaning and engineering for all data sets (portfolio, profile, transcript). In particular we focus on following working steps:\n",
    "    \n",
    "<ul>\n",
    "    <li>change alphanumerical ids (offer and customer) to more readable code with integers</li>\n",
    "    <li>convert dtype of features where necessary</li>\n",
    "    <li>drop rows with missing data or outliers</li>\n",
    "    <li>drop rows with duplicated data</li>\n",
    "    <li>group data for further data analysis</li>\n",
    "    <li>create new features with binaries from categorical variables</li>\n",
    "</ul>"
   ]
  },
  {
   "cell_type": "markdown",
   "metadata": {},
   "source": [
    "#### 3.1.1 portfolio"
   ]
  },
  {
   "cell_type": "markdown",
   "metadata": {},
   "source": [
    "<p>Offer id is a long and difficult to read alphanumerical string. \n",
    "We will map this alphanumerical string to more readable ID code with integers."
   ]
  },
  {
   "cell_type": "code",
   "execution_count": 18,
   "metadata": {},
   "outputs": [
    {
     "data": {
      "text/html": [
       "<div>\n",
       "<style scoped>\n",
       "    .dataframe tbody tr th:only-of-type {\n",
       "        vertical-align: middle;\n",
       "    }\n",
       "\n",
       "    .dataframe tbody tr th {\n",
       "        vertical-align: top;\n",
       "    }\n",
       "\n",
       "    .dataframe thead th {\n",
       "        text-align: right;\n",
       "    }\n",
       "</style>\n",
       "<table border=\"1\" class=\"dataframe\">\n",
       "  <thead>\n",
       "    <tr style=\"text-align: right;\">\n",
       "      <th></th>\n",
       "      <th>reward</th>\n",
       "      <th>channels</th>\n",
       "      <th>difficulty</th>\n",
       "      <th>duration</th>\n",
       "      <th>offer_type</th>\n",
       "      <th>offer_id</th>\n",
       "    </tr>\n",
       "  </thead>\n",
       "  <tbody>\n",
       "    <tr>\n",
       "      <th>8</th>\n",
       "      <td>5</td>\n",
       "      <td>[web, email, mobile, social]</td>\n",
       "      <td>5</td>\n",
       "      <td>120</td>\n",
       "      <td>bogo</td>\n",
       "      <td>9</td>\n",
       "    </tr>\n",
       "    <tr>\n",
       "      <th>3</th>\n",
       "      <td>5</td>\n",
       "      <td>[web, email, mobile]</td>\n",
       "      <td>5</td>\n",
       "      <td>168</td>\n",
       "      <td>bogo</td>\n",
       "      <td>4</td>\n",
       "    </tr>\n",
       "    <tr>\n",
       "      <th>1</th>\n",
       "      <td>10</td>\n",
       "      <td>[web, email, mobile, social]</td>\n",
       "      <td>10</td>\n",
       "      <td>120</td>\n",
       "      <td>bogo</td>\n",
       "      <td>2</td>\n",
       "    </tr>\n",
       "    <tr>\n",
       "      <th>0</th>\n",
       "      <td>10</td>\n",
       "      <td>[email, mobile, social]</td>\n",
       "      <td>10</td>\n",
       "      <td>168</td>\n",
       "      <td>bogo</td>\n",
       "      <td>1</td>\n",
       "    </tr>\n",
       "    <tr>\n",
       "      <th>5</th>\n",
       "      <td>3</td>\n",
       "      <td>[web, email, mobile, social]</td>\n",
       "      <td>7</td>\n",
       "      <td>168</td>\n",
       "      <td>discount</td>\n",
       "      <td>6</td>\n",
       "    </tr>\n",
       "    <tr>\n",
       "      <th>9</th>\n",
       "      <td>2</td>\n",
       "      <td>[web, email, mobile]</td>\n",
       "      <td>10</td>\n",
       "      <td>168</td>\n",
       "      <td>discount</td>\n",
       "      <td>10</td>\n",
       "    </tr>\n",
       "    <tr>\n",
       "      <th>6</th>\n",
       "      <td>2</td>\n",
       "      <td>[web, email, mobile, social]</td>\n",
       "      <td>10</td>\n",
       "      <td>240</td>\n",
       "      <td>discount</td>\n",
       "      <td>7</td>\n",
       "    </tr>\n",
       "    <tr>\n",
       "      <th>4</th>\n",
       "      <td>5</td>\n",
       "      <td>[web, email]</td>\n",
       "      <td>20</td>\n",
       "      <td>240</td>\n",
       "      <td>discount</td>\n",
       "      <td>5</td>\n",
       "    </tr>\n",
       "    <tr>\n",
       "      <th>7</th>\n",
       "      <td>0</td>\n",
       "      <td>[email, mobile, social]</td>\n",
       "      <td>0</td>\n",
       "      <td>72</td>\n",
       "      <td>informational</td>\n",
       "      <td>8</td>\n",
       "    </tr>\n",
       "    <tr>\n",
       "      <th>2</th>\n",
       "      <td>0</td>\n",
       "      <td>[web, email, mobile]</td>\n",
       "      <td>0</td>\n",
       "      <td>96</td>\n",
       "      <td>informational</td>\n",
       "      <td>3</td>\n",
       "    </tr>\n",
       "  </tbody>\n",
       "</table>\n",
       "</div>"
      ],
      "text/plain": [
       "   reward                      channels  difficulty  duration     offer_type  \\\n",
       "8       5  [web, email, mobile, social]           5       120           bogo   \n",
       "3       5          [web, email, mobile]           5       168           bogo   \n",
       "1      10  [web, email, mobile, social]          10       120           bogo   \n",
       "0      10       [email, mobile, social]          10       168           bogo   \n",
       "5       3  [web, email, mobile, social]           7       168       discount   \n",
       "9       2          [web, email, mobile]          10       168       discount   \n",
       "6       2  [web, email, mobile, social]          10       240       discount   \n",
       "4       5                  [web, email]          20       240       discount   \n",
       "7       0       [email, mobile, social]           0        72  informational   \n",
       "2       0          [web, email, mobile]           0        96  informational   \n",
       "\n",
       "   offer_id  \n",
       "8         9  \n",
       "3         4  \n",
       "1         2  \n",
       "0         1  \n",
       "5         6  \n",
       "9        10  \n",
       "6         7  \n",
       "4         5  \n",
       "7         8  \n",
       "2         3  "
      ]
     },
     "metadata": {},
     "output_type": "display_data"
    }
   ],
   "source": [
    "def create_new_ids(id_series):\n",
    "    \"\"\"\n",
    "    Method for creating new and more readable ID codes (integers) \n",
    "    by taking exisitng IDs and adding new IDs starting with number 1.\n",
    "\n",
    "    Args:\n",
    "        id_series (pd.DataSeries): Dataframe column with existing IDs\n",
    "\n",
    "    Returns:\n",
    "        ids: arrays with existing and new altered IDs\n",
    "    \"\"\"\n",
    "\n",
    "    ids, idn = dict(), 1\n",
    "    for i in id_series.unique():\n",
    "        ids[i] = idn\n",
    "        idn += 1\n",
    "    return ids\n",
    "\n",
    "### create mapping for offer ID\n",
    "offer_id_mapping = create_new_ids(portfolio[\"id\"])\n",
    "\n",
    "### map offer IDs in offer metadata to integers\n",
    "portfolio[\"offer_id\"] = portfolio[\"id\"].map(offer_id_mapping)\n",
    "\n",
    "### drop column with old alphanumerical id\n",
    "portfolio.drop(\"id\", axis = 1, inplace = True)\n",
    "\n",
    "### change the duration from day to hour\n",
    "portfolio[\"duration\"] = portfolio[\"duration\"] * 24\n",
    "\n",
    "### sort portfolio dataframe order of reward size: bogo - discount - informational\n",
    "portfolio.sort_values([\"offer_type\", \"difficulty\", \"duration\"], ascending = [True, True, True], inplace = True)\n",
    "display(portfolio)"
   ]
  },
  {
   "cell_type": "markdown",
   "metadata": {},
   "source": [
    "<h4>Data Engineering steps of portfolio data set</h4>\n",
    "\n",
    "<ul>\n",
    "    <li>map offer IDs from alphanumerical unreadable code to integers and remove old offer id column</li>\n",
    "    <li>change duration value from days to hours</li>\n",
    "    <li>sort rows according offer_type, difficulty and duration</li>\n",
    "</ul>"
   ]
  },
  {
   "cell_type": "markdown",
   "metadata": {},
   "source": [
    "#### 3.1.2 profile"
   ]
  },
  {
   "cell_type": "markdown",
   "metadata": {},
   "source": [
    "Identify rows with missing user values (gender, income, age = 118) and remove these rows."
   ]
  },
  {
   "cell_type": "code",
   "execution_count": 19,
   "metadata": {
    "scrolled": true
   },
   "outputs": [
    {
     "data": {
      "text/plain": [
       "(14825, 5)"
      ]
     },
     "metadata": {},
     "output_type": "display_data"
    }
   ],
   "source": [
    "### Create array with users containing missing data (gender)\n",
    "missing_users = profile.loc[profile.gender.isnull(), \"id\"].values\n",
    "\n",
    "### drop all rows containing missing data\n",
    "profile.dropna(inplace=True)\n",
    "display(profile.shape)"
   ]
  },
  {
   "cell_type": "markdown",
   "metadata": {},
   "source": [
    "<p>User id is a long and difficult to read alphanumerical string. \n",
    "We will map this alphanumerical string to more readable ID code with integers."
   ]
  },
  {
   "cell_type": "code",
   "execution_count": 20,
   "metadata": {
    "scrolled": true
   },
   "outputs": [],
   "source": [
    "### create mapping for user ID\n",
    "user_id_mapping = create_new_ids(profile[\"id\"])\n",
    "\n",
    "### map user IDs in user metadata to integers\n",
    "profile[\"customer_id\"] = profile[\"id\"].map(user_id_mapping)\n",
    "\n",
    "### drop column with old alphanumerical id\n",
    "profile.drop(\"id\", axis = 1, inplace = True)\n",
    "#profile.head(1)"
   ]
  },
  {
   "cell_type": "markdown",
   "metadata": {},
   "source": [
    "<p>Create new features: \n",
    "<ul>\n",
    "    <li>add dummy columns with binaries of gender categories</li>\n",
    "    <li>add categorical feature with predefined income ranges</li>\n",
    "    <li>add categorical feature with predefined age groups</li>\n",
    "</ul>"
   ]
  },
  {
   "cell_type": "code",
   "execution_count": 21,
   "metadata": {},
   "outputs": [
    {
     "data": {
      "text/html": [
       "<div>\n",
       "<style scoped>\n",
       "    .dataframe tbody tr th:only-of-type {\n",
       "        vertical-align: middle;\n",
       "    }\n",
       "\n",
       "    .dataframe tbody tr th {\n",
       "        vertical-align: top;\n",
       "    }\n",
       "\n",
       "    .dataframe thead th {\n",
       "        text-align: right;\n",
       "    }\n",
       "</style>\n",
       "<table border=\"1\" class=\"dataframe\">\n",
       "  <thead>\n",
       "    <tr style=\"text-align: right;\">\n",
       "      <th></th>\n",
       "      <th>gender</th>\n",
       "      <th>age</th>\n",
       "      <th>became_member_on</th>\n",
       "      <th>income</th>\n",
       "      <th>customer_id</th>\n",
       "      <th>F</th>\n",
       "      <th>M</th>\n",
       "      <th>O</th>\n",
       "      <th>income_range</th>\n",
       "      <th>age_group</th>\n",
       "    </tr>\n",
       "  </thead>\n",
       "  <tbody>\n",
       "    <tr>\n",
       "      <th>1</th>\n",
       "      <td>F</td>\n",
       "      <td>55</td>\n",
       "      <td>2017-07-15</td>\n",
       "      <td>112000</td>\n",
       "      <td>1</td>\n",
       "      <td>1</td>\n",
       "      <td>0</td>\n",
       "      <td>0</td>\n",
       "      <td>105k-120k</td>\n",
       "      <td>45-55</td>\n",
       "    </tr>\n",
       "  </tbody>\n",
       "</table>\n",
       "</div>"
      ],
      "text/plain": [
       "  gender  age became_member_on  income  customer_id  F  M  O income_range  \\\n",
       "1      F   55       2017-07-15  112000            1  1  0  0    105k-120k   \n",
       "\n",
       "  age_group  \n",
       "1     45-55  "
      ]
     },
     "metadata": {},
     "output_type": "display_data"
    }
   ],
   "source": [
    "### add dummy columns for gender type categories. \n",
    "dummies_gender = pd.get_dummies(profile[\"gender\"], columns = [\"gender\"])\n",
    "profile = pd.concat([profile, dummies_gender.set_index(profile.index)], axis = 1)\n",
    "\n",
    "### convert Dtype from float64 to int64 in column \"income\"\n",
    "profile[\"income\"] = profile.income.astype(int)\n",
    "\n",
    "### add new column income_range with category of income ranges\n",
    "profile[\"income_range\"] = pd.cut(profile[\"income\"], bins=[29900, 45000, 60000, 75000, 90000, 105000, 120100],\n",
    "                                 labels=[\"30k-45k\", \"45k-60k\", \"60k-75k\", \"75k-90k\", \"90k-105k\", \"105k-120k\"])\n",
    "\n",
    "### add new column age_group with category of age groups\n",
    "profile[\"age_group\"] = pd.cut(profile[\"age\"], bins=[17, 25, 35, 45, 55, 65, 105],\n",
    "                                 labels=[\"18-25\", \"25-35\", \"35-45\", \"45-55\", \"55-65\", \">65\"])\n",
    "\n",
    "display(profile.head(1), profile.shape)"
   ]
  },
  {
   "cell_type": "markdown",
   "metadata": {},
   "source": [
    "<h4>Data Engineering steps of profile data set</h4>\n",
    "\n",
    "<ul>\n",
    "    <li>remove rows with missing information (gender, age = 118, income)</li>\n",
    "    <li>map user IDs from alphanumerical unreadable code to integers and remove old user id column</li>\n",
    "    <li>create dummy variables with binaries of gender column</li>\n",
    "    <li>convert dtype of income column from float64 to int64</li>\n",
    "    <li>create new feature with income range</li>\n",
    "    <li>create new feature with age group</li>\n",
    "</ul>"
   ]
  },
  {
   "cell_type": "markdown",
   "metadata": {},
   "source": [
    "#### 3.1.3 transcript"
   ]
  },
  {
   "cell_type": "markdown",
   "metadata": {},
   "source": [
    "<p>Remove data with missing customer entries and change customer id alphanumerical string to more readable ID code with integers:"
   ]
  },
  {
   "cell_type": "code",
   "execution_count": 22,
   "metadata": {},
   "outputs": [],
   "source": [
    "### identify events of customers with missing data (gender, age, income)\n",
    "missing_user_events = transcript[transcript.person.isin(missing_users)].index.values\n",
    "### drop events with missing customer data\n",
    "transcript.drop(missing_user_events, inplace = True) # drop events\n",
    "\n",
    "### map user IDs in offer metadata to integers\n",
    "transcript[\"customer_id\"] = transcript[\"person\"].map(user_id_mapping)\n",
    "### drop column with ld alphanumerica id\n",
    "transcript.drop(\"person\", axis = 1, inplace = True)\n",
    "#transcript.head(1)"
   ]
  },
  {
   "cell_type": "markdown",
   "metadata": {},
   "source": [
    "<p>Create new features: \n",
    "<ul>\n",
    "    <li>unpack categorical variables of value column</li>\n",
    "    <li>create dummy variables with binaries of value column (categories: offer_id, reward, amount) and remove value column</li>\n",
    "    <li>map alphanumerical offer id string to more readable ID code with integers</li>\n",
    "    <li>create dummy variables with binaries of event column</li>\n",
    "</ul>"
   ]
  },
  {
   "cell_type": "code",
   "execution_count": 23,
   "metadata": {},
   "outputs": [],
   "source": [
    "### create empty arrays for categorical values (offer_id, reward and amount) \n",
    "value_cols={\"offer_ids\": [], \"reward\": [], \"amount\": []}\n",
    "\n",
    "### iterate through value column, look for categorical variables \n",
    "### and store those in new columns (offer_ids, reward and amount)\n",
    "for row in transcript.itertuples():\n",
    "    ### create empty lists for categorical values (offer_id, reward and amount)\n",
    "    offer_id = None\n",
    "    reward = None\n",
    "    amount = None\n",
    "    \n",
    "    ### categorical variable offer_id is written in two spellings (offer_id and offer id) which are both the same\n",
    "    if \"offer_id\" in row.value.keys():\n",
    "        offer_id = row.value[\"offer_id\"]\n",
    "    if \"offer id\" in row.value.keys():\n",
    "        offer_id = row.value[\"offer id\"]\n",
    "    if 'reward' in row.value.keys():\n",
    "        reward = row.value[\"reward\"]\n",
    "    if 'amount' in row.value.keys():  \n",
    "        amount = row.value[\"amount\"]\n",
    "    \n",
    "    ### store values in new columns (offer_ids, reward and amount)\n",
    "    value_cols[\"offer_ids\"].append(offer_id)\n",
    "    value_cols[\"reward\"].append(reward)\n",
    "    value_cols[\"amount\"].append(amount)\n",
    "\n",
    "### Add new columns (offer_ids, reward and amount) to transcript dataframe and drop value column\n",
    "transcript = pd.concat([transcript, pd.DataFrame(value_cols).\n",
    "                        set_index(transcript.index)], axis=1).drop(columns=[\"value\"])\n",
    "\n",
    "### map offer IDs to integers and delete helper offer_ids column\n",
    "transcript[\"offer_id\"] = transcript[\"offer_ids\"].map(offer_id_mapping)\n",
    "del transcript[\"offer_ids\"]\n",
    "\n",
    "### add dummy columns for event type categories.\n",
    "dummies_event = pd.get_dummies(transcript[\"event\"], columns = [\"event\"])\n",
    "transcript = pd.concat([transcript, dummies_event.set_index(transcript.index)], axis=1)"
   ]
  },
  {
   "cell_type": "markdown",
   "metadata": {},
   "source": [
    "<p>Remove dulicated data: \n",
    "<ul>\n",
    "    <li>identify duplicated rows</li>\n",
    "    <li>drop duplicated rows</li>\n",
    "</ul>"
   ]
  },
  {
   "cell_type": "code",
   "execution_count": 24,
   "metadata": {},
   "outputs": [
    {
     "name": "stdout",
     "output_type": "stream",
     "text": [
      "Duplicated events: 374\n"
     ]
    },
    {
     "data": {
      "text/html": [
       "<div>\n",
       "<style scoped>\n",
       "    .dataframe tbody tr th:only-of-type {\n",
       "        vertical-align: middle;\n",
       "    }\n",
       "\n",
       "    .dataframe tbody tr th {\n",
       "        vertical-align: top;\n",
       "    }\n",
       "\n",
       "    .dataframe thead th {\n",
       "        text-align: right;\n",
       "    }\n",
       "</style>\n",
       "<table border=\"1\" class=\"dataframe\">\n",
       "  <thead>\n",
       "    <tr style=\"text-align: right;\">\n",
       "      <th></th>\n",
       "      <th>event</th>\n",
       "      <th>time</th>\n",
       "      <th>customer_id</th>\n",
       "      <th>reward</th>\n",
       "      <th>amount</th>\n",
       "      <th>offer_id</th>\n",
       "      <th>offer completed</th>\n",
       "      <th>offer received</th>\n",
       "      <th>offer viewed</th>\n",
       "      <th>transaction</th>\n",
       "    </tr>\n",
       "  </thead>\n",
       "  <tbody>\n",
       "    <tr>\n",
       "      <th>66122</th>\n",
       "      <td>offer completed</td>\n",
       "      <td>168</td>\n",
       "      <td>1271</td>\n",
       "      <td>2.0</td>\n",
       "      <td>NaN</td>\n",
       "      <td>10.0</td>\n",
       "      <td>1</td>\n",
       "      <td>0</td>\n",
       "      <td>0</td>\n",
       "      <td>0</td>\n",
       "    </tr>\n",
       "    <tr>\n",
       "      <th>66123</th>\n",
       "      <td>offer completed</td>\n",
       "      <td>168</td>\n",
       "      <td>1271</td>\n",
       "      <td>2.0</td>\n",
       "      <td>NaN</td>\n",
       "      <td>10.0</td>\n",
       "      <td>1</td>\n",
       "      <td>0</td>\n",
       "      <td>0</td>\n",
       "      <td>0</td>\n",
       "    </tr>\n",
       "    <tr>\n",
       "      <th>66782</th>\n",
       "      <td>offer completed</td>\n",
       "      <td>168</td>\n",
       "      <td>3872</td>\n",
       "      <td>10.0</td>\n",
       "      <td>NaN</td>\n",
       "      <td>1.0</td>\n",
       "      <td>1</td>\n",
       "      <td>0</td>\n",
       "      <td>0</td>\n",
       "      <td>0</td>\n",
       "    </tr>\n",
       "    <tr>\n",
       "      <th>66783</th>\n",
       "      <td>offer completed</td>\n",
       "      <td>168</td>\n",
       "      <td>3872</td>\n",
       "      <td>10.0</td>\n",
       "      <td>NaN</td>\n",
       "      <td>1.0</td>\n",
       "      <td>1</td>\n",
       "      <td>0</td>\n",
       "      <td>0</td>\n",
       "      <td>0</td>\n",
       "    </tr>\n",
       "    <tr>\n",
       "      <th>67613</th>\n",
       "      <td>offer completed</td>\n",
       "      <td>168</td>\n",
       "      <td>7462</td>\n",
       "      <td>5.0</td>\n",
       "      <td>NaN</td>\n",
       "      <td>4.0</td>\n",
       "      <td>1</td>\n",
       "      <td>0</td>\n",
       "      <td>0</td>\n",
       "      <td>0</td>\n",
       "    </tr>\n",
       "  </tbody>\n",
       "</table>\n",
       "</div>"
      ],
      "text/plain": [
       "                 event  time  customer_id  reward  amount  offer_id  \\\n",
       "66122  offer completed   168         1271     2.0     NaN      10.0   \n",
       "66123  offer completed   168         1271     2.0     NaN      10.0   \n",
       "66782  offer completed   168         3872    10.0     NaN       1.0   \n",
       "66783  offer completed   168         3872    10.0     NaN       1.0   \n",
       "67613  offer completed   168         7462     5.0     NaN       4.0   \n",
       "\n",
       "       offer completed  offer received  offer viewed  transaction  \n",
       "66122                1               0             0            0  \n",
       "66123                1               0             0            0  \n",
       "66782                1               0             0            0  \n",
       "66783                1               0             0            0  \n",
       "67613                1               0             0            0  "
      ]
     },
     "metadata": {},
     "output_type": "display_data"
    },
    {
     "data": {
      "text/plain": [
       "offer completed    747\n",
       "Name: event, dtype: int64"
      ]
     },
     "metadata": {},
     "output_type": "display_data"
    }
   ],
   "source": [
    "### identify duplicated data (duplicated events):\n",
    "number_duplicated = transcript.duplicated().sum()\n",
    "print(\"Duplicated events:\", number_duplicated)\n",
    "\n",
    "### prepare df with duplicated events for checking\n",
    "duplicated_events = transcript[transcript.duplicated(keep=False)]\n",
    "duplicated_events_value_counts = duplicated_events[\"event\"].value_counts()\n",
    "display(duplicated_events.head(), duplicated_events_value_counts)"
   ]
  },
  {
   "cell_type": "markdown",
   "metadata": {},
   "source": [
    "<p>There are totally 374 duplicated events only with offers beeing completed. This looks like an error at data insertation because the events were all documented at the same time and it is unlikely that one user completes one offer type twice. As this is a data entry error we will remove these duplicates. "
   ]
  },
  {
   "cell_type": "code",
   "execution_count": 25,
   "metadata": {},
   "outputs": [
    {
     "name": "stdout",
     "output_type": "stream",
     "text": [
      "Duplicated events: 0\n"
     ]
    }
   ],
   "source": [
    "### Drop duplicated events\n",
    "transcript.drop_duplicates(inplace=True)\n",
    "number_duplicated_new = transcript.duplicated().sum()\n",
    "print(\"Duplicated events:\", number_duplicated_new)"
   ]
  },
  {
   "cell_type": "markdown",
   "metadata": {},
   "source": [
    "<p>Check missing values in transcript dataframe after data engineering."
   ]
  },
  {
   "cell_type": "code",
   "execution_count": 26,
   "metadata": {},
   "outputs": [
    {
     "data": {
      "text/plain": [
       "event                   0\n",
       "time                    0\n",
       "customer_id             0\n",
       "reward             240318\n",
       "amount             148431\n",
       "offer_id           123957\n",
       "offer completed         0\n",
       "offer received          0\n",
       "offer viewed            0\n",
       "transaction             0\n",
       "dtype: int64"
      ]
     },
     "metadata": {},
     "output_type": "display_data"
    }
   ],
   "source": [
    "### display proportion of missing data for all selected columns\n",
    "display(transcript.isnull().sum())"
   ]
  },
  {
   "cell_type": "markdown",
   "metadata": {},
   "source": [
    "<p>We have missing values in columns reward, amount and offer_id. This are the created dummy features from the value column.\n",
    "<p>We will keep all missing values due to following reasons:\n",
    "<ul>\n",
    "    <li>for event \"offer_received\" and \"offer_viewed\" there is no reward and no amount</li>\n",
    "    <li>for the event \"offer_completed\" there is no transaction and no amount</li>\n",
    "    <li>for the event \"transaction\" there is no offer_id and no reward corresponding to any transaction</li>\n",
    "</ul>\n",
    "<p>All missing data (NaN) will be replaced in a further step by 0.0."
   ]
  },
  {
   "cell_type": "markdown",
   "metadata": {},
   "source": [
    "<h4>Data Engineering steps of transcript data set</h4>\n",
    "\n",
    "<ul>   \n",
    "    <li>drop rows with missing user information (gender, age = 118, income) in profile dataframe</li>\n",
    "    <li>map customer IDs from alphanumerical unreadable code to integers and remove old customer id column</li>\n",
    "    <li>create dummy variables with binaries of value column</li>\n",
    "    <li>create dummy variables with binaries of event column</li>\n",
    "    <li>map offer IDs from alphanumerical unreadable code to integers and remove old offer id column (initially value column)</li>\n",
    "    <li>remove 374 duplicated events</li>\n",
    "</ul>"
   ]
  },
  {
   "cell_type": "markdown",
   "metadata": {},
   "source": [
    "#### 3.1.4 master"
   ]
  },
  {
   "cell_type": "markdown",
   "metadata": {},
   "source": [
    "<p>Finally we create a master dataframe where we merge data of transcript (transaction), profile (demographic) and portfolio (offer) with the goal to use it for exploratory data analysis and modeling. Here we perform following steps:\n",
    "\n",
    "<ul>\n",
    "    <li>create promotion_success dataframe on basis of transcript dataframe with one row per offer id and per customer containing information of several events (offer received, offer_viewed, offer_completed, treansaction)</li>\n",
    "    <li>replace NaN values with 0.0</li>\n",
    "    <li>create new feature promotion_success with binaries (1 for promotion was successfull and 0 for not successful)</li>\n",
    "    <li>take promotion_success dataframe and merge portfolio dataframe on offer_id</li>\n",
    "    <li>merge profile dataframe on cutomer_id</li>\n",
    "    <li>rename column names</li>\n",
    "</ul>"
   ]
  },
  {
   "cell_type": "code",
   "execution_count": 27,
   "metadata": {},
   "outputs": [
    {
     "data": {
      "text/html": [
       "<div>\n",
       "<style scoped>\n",
       "    .dataframe tbody tr th:only-of-type {\n",
       "        vertical-align: middle;\n",
       "    }\n",
       "\n",
       "    .dataframe tbody tr th {\n",
       "        vertical-align: top;\n",
       "    }\n",
       "\n",
       "    .dataframe thead th {\n",
       "        text-align: right;\n",
       "    }\n",
       "</style>\n",
       "<table border=\"1\" class=\"dataframe\">\n",
       "  <thead>\n",
       "    <tr style=\"text-align: right;\">\n",
       "      <th>event</th>\n",
       "      <th>customer_id</th>\n",
       "      <th>offer_id</th>\n",
       "      <th>promotion success</th>\n",
       "    </tr>\n",
       "  </thead>\n",
       "  <tbody>\n",
       "    <tr>\n",
       "      <th>0</th>\n",
       "      <td>1</td>\n",
       "      <td>3.0</td>\n",
       "      <td>0</td>\n",
       "    </tr>\n",
       "  </tbody>\n",
       "</table>\n",
       "</div>"
      ],
      "text/plain": [
       "event  customer_id  offer_id  promotion success\n",
       "0                1       3.0                  0"
      ]
     },
     "metadata": {},
     "output_type": "display_data"
    }
   ],
   "source": [
    "### create new dataframe\n",
    "promotion_success = transcript.groupby([\"customer_id\", \"offer_id\", \"event\"])[\"time\"].count().unstack()   \n",
    "promotion_success.reset_index(level=[0,1],inplace = True)\n",
    "    \n",
    "### Replace NaN values with 0.0   \n",
    "promotion_success.fillna(0.0, inplace = True)\n",
    "\n",
    "### create new feature promotion_success with binaries\n",
    "### promotion is only successfull in case offer was viewed and completed, otherwise sended offer had no influence\n",
    "### promotion_success will be computed: offer completed * offer viewed (1 for success and 0 for no success)\n",
    "### in case one customer received during the testing period the same offer multiple times \n",
    "### it will be considered as success if customer completed at least one time the offer\n",
    "promotion_success[\"promotion success\"] = promotion_success[\"offer completed\"] * promotion_success[\"offer viewed\"]\n",
    "promotion_success[\"promotion success\"] = promotion_success[\"promotion success\"].map(lambda x: 0 if x == 0.0 else 1)\n",
    "promotion_success.drop([\"offer completed\", \"offer viewed\", \"offer received\"], axis = 1, inplace = True)\n",
    "\n",
    "display(promotion_success.head(1))"
   ]
  },
  {
   "cell_type": "code",
   "execution_count": 28,
   "metadata": {
    "scrolled": false
   },
   "outputs": [
    {
     "data": {
      "text/html": [
       "<div>\n",
       "<style scoped>\n",
       "    .dataframe tbody tr th:only-of-type {\n",
       "        vertical-align: middle;\n",
       "    }\n",
       "\n",
       "    .dataframe tbody tr th {\n",
       "        vertical-align: top;\n",
       "    }\n",
       "\n",
       "    .dataframe thead th {\n",
       "        text-align: right;\n",
       "    }\n",
       "</style>\n",
       "<table border=\"1\" class=\"dataframe\">\n",
       "  <thead>\n",
       "    <tr style=\"text-align: right;\">\n",
       "      <th></th>\n",
       "      <th>customer_id</th>\n",
       "      <th>offer_id</th>\n",
       "      <th>promotion success</th>\n",
       "      <th>reward (USD)</th>\n",
       "      <th>difficulty (USD)</th>\n",
       "      <th>duration (hrs)</th>\n",
       "      <th>offer_type</th>\n",
       "      <th>gender</th>\n",
       "      <th>age</th>\n",
       "      <th>became_member_on</th>\n",
       "      <th>income year (USD)</th>\n",
       "      <th>gender F</th>\n",
       "      <th>gender M</th>\n",
       "      <th>gender O</th>\n",
       "      <th>income_range</th>\n",
       "      <th>age_group</th>\n",
       "    </tr>\n",
       "  </thead>\n",
       "  <tbody>\n",
       "    <tr>\n",
       "      <th>0</th>\n",
       "      <td>1</td>\n",
       "      <td>3.0</td>\n",
       "      <td>0</td>\n",
       "      <td>0</td>\n",
       "      <td>0</td>\n",
       "      <td>96</td>\n",
       "      <td>informational</td>\n",
       "      <td>F</td>\n",
       "      <td>55</td>\n",
       "      <td>2017-07-15</td>\n",
       "      <td>112000</td>\n",
       "      <td>1</td>\n",
       "      <td>0</td>\n",
       "      <td>0</td>\n",
       "      <td>105k-120k</td>\n",
       "      <td>45-55</td>\n",
       "    </tr>\n",
       "    <tr>\n",
       "      <th>1</th>\n",
       "      <td>1</td>\n",
       "      <td>4.0</td>\n",
       "      <td>0</td>\n",
       "      <td>5</td>\n",
       "      <td>5</td>\n",
       "      <td>168</td>\n",
       "      <td>bogo</td>\n",
       "      <td>F</td>\n",
       "      <td>55</td>\n",
       "      <td>2017-07-15</td>\n",
       "      <td>112000</td>\n",
       "      <td>1</td>\n",
       "      <td>0</td>\n",
       "      <td>0</td>\n",
       "      <td>105k-120k</td>\n",
       "      <td>45-55</td>\n",
       "    </tr>\n",
       "    <tr>\n",
       "      <th>2</th>\n",
       "      <td>2</td>\n",
       "      <td>1.0</td>\n",
       "      <td>1</td>\n",
       "      <td>10</td>\n",
       "      <td>10</td>\n",
       "      <td>168</td>\n",
       "      <td>bogo</td>\n",
       "      <td>F</td>\n",
       "      <td>75</td>\n",
       "      <td>2017-05-09</td>\n",
       "      <td>100000</td>\n",
       "      <td>1</td>\n",
       "      <td>0</td>\n",
       "      <td>0</td>\n",
       "      <td>90k-105k</td>\n",
       "      <td>&gt;65</td>\n",
       "    </tr>\n",
       "    <tr>\n",
       "      <th>3</th>\n",
       "      <td>2</td>\n",
       "      <td>4.0</td>\n",
       "      <td>1</td>\n",
       "      <td>5</td>\n",
       "      <td>5</td>\n",
       "      <td>168</td>\n",
       "      <td>bogo</td>\n",
       "      <td>F</td>\n",
       "      <td>75</td>\n",
       "      <td>2017-05-09</td>\n",
       "      <td>100000</td>\n",
       "      <td>1</td>\n",
       "      <td>0</td>\n",
       "      <td>0</td>\n",
       "      <td>90k-105k</td>\n",
       "      <td>&gt;65</td>\n",
       "    </tr>\n",
       "    <tr>\n",
       "      <th>4</th>\n",
       "      <td>2</td>\n",
       "      <td>8.0</td>\n",
       "      <td>0</td>\n",
       "      <td>0</td>\n",
       "      <td>0</td>\n",
       "      <td>72</td>\n",
       "      <td>informational</td>\n",
       "      <td>F</td>\n",
       "      <td>75</td>\n",
       "      <td>2017-05-09</td>\n",
       "      <td>100000</td>\n",
       "      <td>1</td>\n",
       "      <td>0</td>\n",
       "      <td>0</td>\n",
       "      <td>90k-105k</td>\n",
       "      <td>&gt;65</td>\n",
       "    </tr>\n",
       "  </tbody>\n",
       "</table>\n",
       "</div>"
      ],
      "text/plain": [
       "   customer_id  offer_id  promotion success  reward (USD)  difficulty (USD)  \\\n",
       "0            1       3.0                  0             0                 0   \n",
       "1            1       4.0                  0             5                 5   \n",
       "2            2       1.0                  1            10                10   \n",
       "3            2       4.0                  1             5                 5   \n",
       "4            2       8.0                  0             0                 0   \n",
       "\n",
       "   duration (hrs)     offer_type gender  age became_member_on  \\\n",
       "0              96  informational      F   55       2017-07-15   \n",
       "1             168           bogo      F   55       2017-07-15   \n",
       "2             168           bogo      F   75       2017-05-09   \n",
       "3             168           bogo      F   75       2017-05-09   \n",
       "4              72  informational      F   75       2017-05-09   \n",
       "\n",
       "   income year (USD)  gender F  gender M  gender O income_range age_group  \n",
       "0             112000         1         0         0    105k-120k     45-55  \n",
       "1             112000         1         0         0    105k-120k     45-55  \n",
       "2             100000         1         0         0     90k-105k       >65  \n",
       "3             100000         1         0         0     90k-105k       >65  \n",
       "4             100000         1         0         0     90k-105k       >65  "
      ]
     },
     "metadata": {},
     "output_type": "display_data"
    }
   ],
   "source": [
    "### create master from promotion_success dataframe and merge portfolio and profile dataframes\n",
    "master = promotion_success.merge(portfolio, how =\"left\", on = \"offer_id\")\n",
    "master = master.merge(profile, how =\"left\", on =\"customer_id\")   \n",
    "\n",
    "### delete channels column\n",
    "del master[\"channels\"]\n",
    "\n",
    "### rename column names\n",
    "master.rename(columns={\"F\": \"gender F\", \"M\": \"gender M\", \"O\": \"gender O\", \n",
    "                       \"duration\": \"duration (hrs)\", \"reward\": \"reward (USD)\", \n",
    "                       \"difficulty\": \"difficulty (USD)\", \"income\": \"income year (USD)\"}, inplace=True)\n",
    "display(master.head())"
   ]
  },
  {
   "cell_type": "markdown",
   "metadata": {},
   "source": [
    "<p>We grouped the master dataframe so that we have in the end one single row for each combination of customer id and offer id which represents one complete promotion. Promotion is only successful when offer was viewed and completed by the customer. We added new feature promotion_success with 1 for success and 0 for no success. In case one customer received during the testing period the same offer multiple times, promotion success will be determined as successful if customer completed at least one time the offer."
   ]
  },
  {
   "cell_type": "markdown",
   "metadata": {},
   "source": [
    "### 3.2 Save data"
   ]
  },
  {
   "cell_type": "code",
   "execution_count": 29,
   "metadata": {},
   "outputs": [],
   "source": [
    "### save dataframe as pkl file\n",
    "#portfolio.to_pickle(\"data/data_prep/portfolio.pkl\")\n",
    "#profile.to_pickle(\"data/data_prep/profile.pkl\")\n",
    "#transcript.to_pickle(\"data/data_prep/transcript.pkl\")\n",
    "#master.to_pickle(\"data/data_prep/master.pkl\")"
   ]
  },
  {
   "cell_type": "markdown",
   "metadata": {},
   "source": [
    "### 3.3 Summary Data Preparation"
   ]
  },
  {
   "cell_type": "markdown",
   "metadata": {},
   "source": [
    "<p>We have performed data cleaning and data engineering on the data sets portfolio, profile and transcript. Then, as final product, we prepared master dataframe for exploratory data analysis and modeling. Here is an abstract of the master dataframe content: \n",
    "    \n",
    "<ul>\n",
    "    <li>customer_id (int): customer id with transformed easy to read integers</li>\n",
    "    <li>offer_id (float): offer id with transformed easy to read integers</li>\n",
    "    <li>promotion success (int): new feature with binaries (1 for promotion was successful and 0 for not successful) which will be used as target variable in the modeling part</li>\n",
    "    <li>reward (USD) (int): reward given for completing an offer in USD</li>    \n",
    "    <li>difficulty (USD) (int): minimum required spend to complete an offer in USD</li>\n",
    "    <li>duration (hrs) (int): time in hours for offer to be opened</li>\n",
    "    <li>offer_type (str): information about offer types (BOGO, discount, informational)</li>\n",
    "    <li>gender (str): information about gender of the customer (M, F, O)</li>\n",
    "    <li>age (int): age of the customer</li>\n",
    "    <li>became_member_on (datetime): date when customer created an app account</li>\n",
    "    <li>income (USD) (float): yearly customer's income</li>\n",
    "    <li>gender F (int): new feature with binaries (1 for customer is female and 0 for no female) which will be used as feature variable in the modeling part</li>\n",
    "    <li>gender M (int): new feature with binaries (1 for customer is male and 0 for no male) which will be used as feature variable in the modeling part</li>\n",
    "    <li>gender O (int): new feature with binaries (1 for customer is others and 0 for male or female) which will be used as feature variable in the modeling part</li>\n",
    "    <li>income_range (str): new categorical variable with income range which will be used in the explanatory analysis part</li>\n",
    "    <li>age_group (str): new categorical variable with age group which will be used in the explanatory analysis part</li>   \n",
    "</ul>"
   ]
  },
  {
   "cell_type": "markdown",
   "metadata": {},
   "source": [
    "## 4 Exploratory Data Analysis<a class='anchor' id='exploratory_data_analysis'></a>"
   ]
  },
  {
   "cell_type": "markdown",
   "metadata": {},
   "source": [
    "<p>In this chapter we will answer following business questions using exploratory analysis and statistics:\n",
    "<ol>\n",
    "    <li>Can we find relationships between customer demographic group age and income?\n",
    "    <li>How are offer types distributed in data set related to customer demographics age, income and gender?</li>\n",
    "    <li>Which are the most popular offers?</li>\n",
    "    <li>Are there significant differences in age, income and registration date for promotion success?</li>  \n",
    "</ol>"
   ]
  },
  {
   "cell_type": "code",
   "execution_count": 30,
   "metadata": {},
   "outputs": [],
   "source": [
    "### import data\n",
    "#master = pd.read_pickle(\"data/data_prep/master.pkl\")"
   ]
  },
  {
   "cell_type": "markdown",
   "metadata": {},
   "source": [
    "### 4.1 Question 1: Can we find relationships between demographic group age and income?"
   ]
  },
  {
   "cell_type": "code",
   "execution_count": 31,
   "metadata": {},
   "outputs": [
    {
     "data": {
      "image/png": "[encoded data removed]",
      "text/plain": [
       "<Figure size 1296x360 with 2 Axes>"
      ]
     },
     "metadata": {
      "needs_background": "light"
     },
     "output_type": "display_data"
    }
   ],
   "source": [
    "### make plot with 2 frames\n",
    "plt.figure(figsize = [18, 5])\n",
    "\n",
    "### left plot: Boxplot for each age group with distribution of income\n",
    "plt.subplot(1, 2, 1)\n",
    "### Types of age groups\n",
    "age_groups = [\"18-25\", \"25-35\", \"35-45\", \"45-55\", \"55-65\", \">65\"]\n",
    "### Returns the types for age_groups with the categories and orderedness\n",
    "age = pd.api.types.CategoricalDtype(ordered=True, categories=age_groups)\n",
    "### Use pandas.astype() to convert the \"age\" column from a plain object type into an ordered categorical type \n",
    "profile[\"age_group\"] = profile[\"age_group\"].astype(age)\n",
    "\n",
    "sns.boxplot(data = profile, x = \"age_group\", y = \"income\")\n",
    "plt.title(\"Boxplots - Income distribution of each age group\");\n",
    "\n",
    "### right plot: clustered bar chart of categorical variables age and income range\n",
    "plt.subplot(1, 2, 2)\n",
    "sns.countplot(x = \"age_group\", hue = \"income_range\", data = profile)\n",
    "plt.title(\"Income range of each age group\")\n",
    "plt.ylabel(\"Count\")\n",
    "plt.xlabel(\"Age Group\")\n",
    "plt.legend(title=\"Income\")\n",
    "plt.show();"
   ]
  },
  {
   "cell_type": "markdown",
   "metadata": {},
   "source": [
    "<p>In general young people and career starters have less income than elder people in working age. Here we want to check if this is true for the sample of customers where we have information on their age and yearly income.\n",
    "<p>We can observe as follows:\n",
    "<ul>\n",
    "    <li>as higher the age group as more customers are included in the data set (see right chart)</li>\n",
    "    <li>there is no customer younger than 35 with an yearly income above 75k USD</li>\n",
    "    <li>there is no customer younger than 45 with an yearly income above 105k USD</li>\n",
    "    <li>in age groups 18-25 and 25-35 the mode of the customer distribution is at the lowest income range 30k-45k USD</li>\n",
    "    <li>in the age groups 45-55, 55-65 and >65 the mode of the customer distribution is in income range 60k-75k USD</li>\n",
    "    <li>in the age groups 35-45 and above the higher income ranges 75k-90k, 90k-105k and 105k-120k increase with each age group (see right chart)</li>\n",
    "</ul>   \n",
    "    \n",
    "<p>There are more elder than young customers included in the data set. Generally as higher the age group as higher gets the yearly income. Thus the given customer data seems to represent a realsitic population distribution in relation of age and income."
   ]
  },
  {
   "cell_type": "markdown",
   "metadata": {},
   "source": [
    "### 4.2 Question 2: How are offer types distributed in data set related to customer demographics age, income and gender?"
   ]
  },
  {
   "cell_type": "code",
   "execution_count": 32,
   "metadata": {
    "scrolled": true
   },
   "outputs": [
    {
     "data": {
      "image/png": "[encoded data removed]",
      "text/plain": [
       "<Figure size 1296x360 with 3 Axes>"
      ]
     },
     "metadata": {
      "needs_background": "light"
     },
     "output_type": "display_data"
    }
   ],
   "source": [
    "### make plot with 3 frames\n",
    "plt.figure(figsize = [18, 5])\n",
    "\n",
    "### left plot: clustered bar chart with most popular offers in various age groups\n",
    "plt.subplot(1, 3, 1)\n",
    "sns.countplot(x = \"age_group\", hue = \"offer_type\", data = master)\n",
    "plt.title(\"Offer types according to age group\")\n",
    "plt.ylabel(\"Count\")\n",
    "plt.xlabel(\"Age group\")\n",
    "plt.legend(title = \"Offer Type\");\n",
    "\n",
    "### central plot: clustered bar chart with most popular offers in various income groups\n",
    "plt.subplot(1, 3, 2)\n",
    "sns.countplot(x = \"income_range\", hue = \"offer_type\", data = master)\n",
    "plt.title(\"Offer types according to income range\")\n",
    "plt.ylabel(\"Count\")\n",
    "plt.xlabel(\"Income range\")\n",
    "plt.legend(title = \"Offer Type\");\n",
    "\n",
    "### right plot: clustered bar chart with most popular offers distibuted to gender\n",
    "plt.subplot(1, 3, 3)\n",
    "sns.countplot(x = \"gender\", hue = \"offer_type\", data = master)\n",
    "plt.title(\"Offer types according to gender\")\n",
    "plt.ylabel(\"Count\")\n",
    "plt.xlabel(\"Gender\")\n",
    "plt.legend(title = \"Offer Type\");"
   ]
  },
  {
   "cell_type": "markdown",
   "metadata": {},
   "source": [
    "<p>Here we want to check the distribution of offer types (informational, bogo, discount) according to customer age group, income range and gender. Can we find any patterns on how the offers were transmitted (event: offer received) to the customers?\n",
    "<p>We can observe as follows:\n",
    "<ul>\n",
    "    <li>offer types bogo and discount are approximately same size for all age, income and gender categories while offer type informational is appr. half of their size. The reason therefore is because all offers were sent to customers in a similar size. Moreover there are only 2 informational offers in the portfolio while bogo and discount have each 4 offers.</li>  \n",
    "    <li>the elder the age group the more customers are included in the data set</li>\n",
    "    <li>most of the customer have a middle income range of 60k-75k</li>\n",
    "    <li>there is a significant imbalance in gender: there are far more male customers than female while only a small proportion hasn't declared a gender</li>\n",
    "</ul>   "
   ]
  },
  {
   "cell_type": "markdown",
   "metadata": {},
   "source": [
    "### 4.3 Question 3: Which are the most popular offers?"
   ]
  },
  {
   "cell_type": "code",
   "execution_count": 33,
   "metadata": {},
   "outputs": [
    {
     "data": {
      "text/html": [
       "<div>\n",
       "<style scoped>\n",
       "    .dataframe tbody tr th:only-of-type {\n",
       "        vertical-align: middle;\n",
       "    }\n",
       "\n",
       "    .dataframe tbody tr th {\n",
       "        vertical-align: top;\n",
       "    }\n",
       "\n",
       "    .dataframe thead th {\n",
       "        text-align: right;\n",
       "    }\n",
       "</style>\n",
       "<table border=\"1\" class=\"dataframe\">\n",
       "  <thead>\n",
       "    <tr style=\"text-align: right;\">\n",
       "      <th></th>\n",
       "      <th>promotion success</th>\n",
       "      <th>0</th>\n",
       "      <th>1</th>\n",
       "      <th>total counts</th>\n",
       "      <th>success_rate [%]</th>\n",
       "    </tr>\n",
       "    <tr>\n",
       "      <th>offer_id</th>\n",
       "      <th>offer_type</th>\n",
       "      <th></th>\n",
       "      <th></th>\n",
       "      <th></th>\n",
       "      <th></th>\n",
       "    </tr>\n",
       "  </thead>\n",
       "  <tbody>\n",
       "    <tr>\n",
       "      <th>7.0</th>\n",
       "      <th>discount</th>\n",
       "      <td>1390.0</td>\n",
       "      <td>4154.0</td>\n",
       "      <td>5544.0</td>\n",
       "      <td>74.93</td>\n",
       "    </tr>\n",
       "    <tr>\n",
       "      <th>6.0</th>\n",
       "      <th>discount</th>\n",
       "      <td>1445.0</td>\n",
       "      <td>4062.0</td>\n",
       "      <td>5507.0</td>\n",
       "      <td>73.76</td>\n",
       "    </tr>\n",
       "    <tr>\n",
       "      <th>9.0</th>\n",
       "      <th>bogo</th>\n",
       "      <td>1964.0</td>\n",
       "      <td>3481.0</td>\n",
       "      <td>5445.0</td>\n",
       "      <td>63.93</td>\n",
       "    </tr>\n",
       "    <tr>\n",
       "      <th>2.0</th>\n",
       "      <th>bogo</th>\n",
       "      <td>2706.0</td>\n",
       "      <td>2805.0</td>\n",
       "      <td>5511.0</td>\n",
       "      <td>50.90</td>\n",
       "    </tr>\n",
       "    <tr>\n",
       "      <th>1.0</th>\n",
       "      <th>bogo</th>\n",
       "      <td>2751.0</td>\n",
       "      <td>2813.0</td>\n",
       "      <td>5564.0</td>\n",
       "      <td>50.56</td>\n",
       "    </tr>\n",
       "    <tr>\n",
       "      <th>4.0</th>\n",
       "      <th>bogo</th>\n",
       "      <td>3145.0</td>\n",
       "      <td>2397.0</td>\n",
       "      <td>5542.0</td>\n",
       "      <td>43.25</td>\n",
       "    </tr>\n",
       "    <tr>\n",
       "      <th>10.0</th>\n",
       "      <th>discount</th>\n",
       "      <td>3145.0</td>\n",
       "      <td>2335.0</td>\n",
       "      <td>5480.0</td>\n",
       "      <td>42.61</td>\n",
       "    </tr>\n",
       "    <tr>\n",
       "      <th>5.0</th>\n",
       "      <th>discount</th>\n",
       "      <td>4136.0</td>\n",
       "      <td>1452.0</td>\n",
       "      <td>5588.0</td>\n",
       "      <td>25.98</td>\n",
       "    </tr>\n",
       "    <tr>\n",
       "      <th>3.0</th>\n",
       "      <th>informational</th>\n",
       "      <td>5524.0</td>\n",
       "      <td>0.0</td>\n",
       "      <td>5524.0</td>\n",
       "      <td>0.00</td>\n",
       "    </tr>\n",
       "    <tr>\n",
       "      <th>8.0</th>\n",
       "      <th>informational</th>\n",
       "      <td>5517.0</td>\n",
       "      <td>0.0</td>\n",
       "      <td>5517.0</td>\n",
       "      <td>0.00</td>\n",
       "    </tr>\n",
       "  </tbody>\n",
       "</table>\n",
       "</div>"
      ],
      "text/plain": [
       "promotion success            0       1  total counts  success_rate [%]\n",
       "offer_id offer_type                                                   \n",
       "7.0      discount       1390.0  4154.0        5544.0             74.93\n",
       "6.0      discount       1445.0  4062.0        5507.0             73.76\n",
       "9.0      bogo           1964.0  3481.0        5445.0             63.93\n",
       "2.0      bogo           2706.0  2805.0        5511.0             50.90\n",
       "1.0      bogo           2751.0  2813.0        5564.0             50.56\n",
       "4.0      bogo           3145.0  2397.0        5542.0             43.25\n",
       "10.0     discount       3145.0  2335.0        5480.0             42.61\n",
       "5.0      discount       4136.0  1452.0        5588.0             25.98\n",
       "3.0      informational  5524.0     0.0        5524.0              0.00\n",
       "8.0      informational  5517.0     0.0        5517.0              0.00"
      ]
     },
     "metadata": {},
     "output_type": "display_data"
    },
    {
     "data": {
      "image/png": "[encoded data removed]",
      "text/plain": [
       "<Figure size 648x360 with 1 Axes>"
      ]
     },
     "metadata": {
      "needs_background": "light"
     },
     "output_type": "display_data"
    }
   ],
   "source": [
    "### prepare dataframe with success rate of each offer\n",
    "success_rate = master.groupby([\"offer_id\", \"offer_type\", \"promotion success\"])[\"promotion success\"].count().unstack()\n",
    "### Replace NaN values with 0.0   \n",
    "success_rate.fillna(0.0, inplace = True)\n",
    "### add new colun with total counts (offer success 0 + 1) per offer\n",
    "success_rate[\"total counts\"] = success_rate[0]+success_rate[1]\n",
    "### add new colun with offer success rate in percent per offer\n",
    "success_rate[\"success_rate [%]\"] = (100 * success_rate[1]/success_rate[\"total counts\"]).round(2)\n",
    "display(success_rate.sort_values(\"success_rate [%]\", ascending = False))\n",
    "\n",
    "plt.figure(figsize = [9, 5])\n",
    "\n",
    "### promotion success by offer id\n",
    "#plt.subplot(1, 2, 1)\n",
    "sns.countplot(x = \"offer_id\", hue = \"promotion success\", data = master)\n",
    "plt.title(\"Promotion success by offer ID\")\n",
    "plt.ylabel(\"Count\")\n",
    "plt.xlabel(\"Offer ID\")\n",
    "plt.legend([\"No success\", \"success\"], frameon = False);\n",
    "\n",
    "### Right plot: promotion success by offer id\n",
    "#plt.subplot(1, 2, 2)\n",
    "#sns.barplot(success_rate.index.values, success_rate[\"success_rate [%]\"], color = \"grey\")\n",
    "#plt.title(\"Promotion success rate by offer ID\")\n",
    "#plt.ylabel(\"Success rate [%]\")\n",
    "#plt.xlabel(\"Offer ID\")\n",
    "#plt.show();"
   ]
  },
  {
   "cell_type": "markdown",
   "metadata": {},
   "source": [
    "<p>Here we compare counts of completed offers (success) with counts of not completed offers (no success) for each offer id. Furthermore we compute a success rate for each offer.\n",
    "\n",
    "<p>We can observe as follows:\n",
    "<ul>\n",
    "    <li>offer 3 and 8 are informational offers where a completion of the offer with a reward is not forseen and therefore the success rate is always 0. In the modeling part we will not consider those two offers</li>\n",
    "    <li>offer 1 and 2 are bogo offers where success and no success are roughly equal</li>\n",
    "    <li>offer 4 and 9 are bogo offers with an imbalance between success and no success</li>\n",
    "    <li>offer 10 is a discount offer with an imbalance between success and no success</li>\n",
    "    <li>offer 5,6 and 7 are discount offers with a heavy imbalance between success and no success</li>\n",
    "    <li>most popular offers are offer 7 and 6 while the least popular offer is offer 5</li>\n",
    "</ul>"
   ]
  },
  {
   "cell_type": "markdown",
   "metadata": {},
   "source": [
    "### 4.4 Question 4: Are there significant differences in age, income and registration date for promotion success?"
   ]
  },
  {
   "cell_type": "markdown",
   "metadata": {},
   "source": [
    "<p>Here we will explore if there is a significant difference between the distribution means of successful and unsuccessful promotions for the demographics age, income and registration date. We will use significance testing (t-testing) to determine whether the relationship of the two samples (success and no success of demographic) is caused by something other than chance. One precondition will be to have large sample size for each group so that the t-test will also be valid for non normal distributions.\n",
    "\n",
    "<ul>\n",
    "    <li>for normal distributions and non-normal distributions (large sample size) with equal variances: independent t-test [3]</li>\n",
    "    <li>for normal distributions and non-normal distributions (large sample size) with unequal variances: Welch's t-test [4]</li>\n",
    "</ul>\n",
    "\n",
    "<p>Below are the helper functions we will use for performing the statistical comparison on the distributions of the demographics age, income and registration date:"
   ]
  },
  {
   "cell_type": "code",
   "execution_count": 34,
   "metadata": {},
   "outputs": [],
   "source": [
    "def is_equal_variance(d1, d2, alpha):\n",
    "    \"\"\"\n",
    "    Method for performing stats.levene test on two input samples. \n",
    "    As returns we get a boolian if sample variances are equal.\n",
    "\n",
    "    Args:\n",
    "        d1, d2 (pd.DataSeries): input sample data\n",
    "        alpha (float): alpha value as proportion \n",
    "\n",
    "    Returns:\n",
    "        boolian: true if variances between input distributions are equal (p > alpha), false otherwise (p <= alpha)\n",
    "        W: test statistic as float\n",
    "        p: p value for the test\n",
    "    \"\"\"\n",
    "    ### check if variances are equal   \n",
    "    W, p = stats.levene(d1, d2)\n",
    "    if p <= alpha:\n",
    "        print(f\"group variances unequal: W = {W:.4f}, p = {p:.4f}\")\n",
    "        return False        \n",
    "    else:\n",
    "        print(f\"group variances equal: W = {W:.4f}, p = {p:.4f}\")\n",
    "        return True"
   ]
  },
  {
   "cell_type": "code",
   "execution_count": 35,
   "metadata": {},
   "outputs": [],
   "source": [
    "def are_normal(d1, d2, alpha):\n",
    "    \"\"\"\n",
    "    Method for performing stats.normaltest on two input samples and returns boolian if sample distibutions are normal \n",
    "    As return we get a boolian if sample distibutions are normal.\n",
    "\n",
    "    Args:\n",
    "        d1, d2 (pd.DataSeries): input sample data\n",
    "        alpha (float): alpha value as proportion \n",
    "\n",
    "    Returns:\n",
    "        boolian: true if sample distributions are normal (p > alpha), false otherwise (p <= alpha)\n",
    "    \"\"\"\n",
    "    ### check if sample distributions are normal   \n",
    "    for d in [d1, d2]:\n",
    "        k2, p = stats.normaltest(d)\n",
    "        if p <= alpha:\n",
    "            print(f\"sample distribution not normal\")\n",
    "            return False\n",
    "    return True"
   ]
  },
  {
   "cell_type": "code",
   "execution_count": 36,
   "metadata": {},
   "outputs": [],
   "source": [
    "def t_test(d1, d2, alpha):\n",
    "    \"\"\"\n",
    "    Method for performing t-test on two sample distributions:\n",
    "        Welch's t-test for unequal variance\n",
    "        independent t-test for equal variance \n",
    "    For non-normal distributions of groups, sample size has to be of large size (appr. > 50) \n",
    "    to get a valid t-test on a non normal distribution.\n",
    "        \n",
    "    Args:\n",
    "        d1, d2 (pd.DataSeries): input sample data\n",
    "        alpha (float): alpha value as proportion \n",
    "    \n",
    "    Returns:\n",
    "        statistic (float): test statistic\n",
    "        p (float): p value for marginal significance\n",
    "        interpretation (string): interpretation of statistical significance for the two means\n",
    "    \"\"\"\n",
    "    ### check of equal variance\n",
    "    equal_var = is_equal_variance(d1, d2, alpha)\n",
    "    \n",
    "    ### check if group values are normally distributed\n",
    "    normal = are_normal(d1, d2, alpha)    \n",
    "    \n",
    "    ### select appropriate test\n",
    "    if not equal_var:\n",
    "        print(\"Welch's t-test on non-normal distributed samples with unequal variances:\")\n",
    "        statistic, p = stats.ttest_ind(d1, d2, equal_var = equal_var)\n",
    "    else:\n",
    "        print(\"Independent t-test:\")\n",
    "        statistic, p = stats.ttest_ind(d1, d2, equal_var = equal_var) \n",
    "        \n",
    "    ### t-test interpretation \n",
    "    significant = \"statistically significant\" if p <= alpha else \"not statistically significant\"\n",
    "    interpretation = f\"mean difference between groups is {significant}.\"\n",
    "    \n",
    "    return statistic, p, interpretation "
   ]
  },
  {
   "cell_type": "code",
   "execution_count": 37,
   "metadata": {},
   "outputs": [],
   "source": [
    "def compare_group_means(d1, d2, alpha):\n",
    "    \"\"\"\n",
    "    Method for performing sample means comparison with statistics summary of samples, \n",
    "    mean difference calulation, effect size test and t-test. \n",
    "    \n",
    "    Args:\n",
    "        d1, d2 (pd.DataSeries): input sample data\n",
    "        alpha (float): alpha value as proportion \n",
    "    \n",
    "    Returns: \n",
    "        print statements for statistics of samples, mean difference calulation, effect size test and t-test\n",
    "    \"\"\"\n",
    "    \n",
    "    ### aggregate statistics\n",
    "    print (\"sample statistics:\")\n",
    "    d1_describe = d1.agg([\"count\", \"mean\", \"median\", \"std\"])\n",
    "    d2_describe = d2.agg([\"count\", \"mean\", \"median\", \"std\"])\n",
    "    display(d1_describe, d2_describe)\n",
    "    \n",
    "    ### calculate difference between group means\n",
    "    diff = d1.mean() - d2.mean()\n",
    "    diffp = 100.0 * abs(diff) / d1.mean()\n",
    "    print(f\"mean difference between groups: {diff:.4f}({diffp:.2f}%)\\n\")\n",
    "    \n",
    "    ### Perform t-test\n",
    "    statistic, p, interpretation = t_test(d1, d2, alpha)\n",
    "    print(f\"statistic = {statistic:.4f} | p-value = {p:.4f} =>> {interpretation}\")"
   ]
  },
  {
   "cell_type": "code",
   "execution_count": 38,
   "metadata": {},
   "outputs": [
    {
     "name": "stdout",
     "output_type": "stream",
     "text": [
      "Income - group means comparison between success and no success of promotion offer\n",
      "sample statistics:\n"
     ]
    },
    {
     "data": {
      "text/plain": [
       "count     23499.000000\n",
       "mean      69043.235882\n",
       "median    68000.000000\n",
       "std       21184.190826\n",
       "Name: income year (USD), dtype: float64"
      ]
     },
     "metadata": {},
     "output_type": "display_data"
    },
    {
     "data": {
      "text/plain": [
       "count     31723.000000\n",
       "mean      62681.398355\n",
       "median    60000.000000\n",
       "std       21552.585232\n",
       "Name: income year (USD), dtype: float64"
      ]
     },
     "metadata": {},
     "output_type": "display_data"
    },
    {
     "name": "stdout",
     "output_type": "stream",
     "text": [
      "mean difference between groups: 6361.8375(9.21%)\n",
      "\n",
      "group variances equal: W = 1.5543, p = 0.2125\n",
      "sample distribution not normal\n",
      "Independent t-test:\n",
      "statistic = 34.5457 | p-value = 0.0000 =>> mean difference between groups is statistically significant.\n"
     ]
    },
    {
     "data": {
      "text/plain": [
       "None"
      ]
     },
     "metadata": {},
     "output_type": "display_data"
    }
   ],
   "source": [
    "### prepare data series for statistical examination\n",
    "income_1 = master[master[\"promotion success\"] == 1][\"income year (USD)\"]\n",
    "income_0 = master[master[\"promotion success\"] == 0][\"income year (USD)\"]\n",
    "\n",
    "### print results of comparison between customer income with and without promotion success \n",
    "print(\"Income - group means comparison between success and no success of promotion offer\")\n",
    "display(compare_group_means(income_1, income_0, alpha = 0.05))"
   ]
  },
  {
   "cell_type": "code",
   "execution_count": 39,
   "metadata": {},
   "outputs": [
    {
     "name": "stdout",
     "output_type": "stream",
     "text": [
      "Age - group means comparison between success and no success of promotion offer\n",
      "sample statistics:\n"
     ]
    },
    {
     "data": {
      "text/plain": [
       "count     23499.000000\n",
       "mean         55.744925\n",
       "median       56.000000\n",
       "std          16.703987\n",
       "Name: age, dtype: float64"
      ]
     },
     "metadata": {},
     "output_type": "display_data"
    },
    {
     "data": {
      "text/plain": [
       "count     31723.000000\n",
       "mean         53.316647\n",
       "median       54.000000\n",
       "std          17.815811\n",
       "Name: age, dtype: float64"
      ]
     },
     "metadata": {},
     "output_type": "display_data"
    },
    {
     "name": "stdout",
     "output_type": "stream",
     "text": [
      "mean difference between groups: 2.4283(4.36%)\n",
      "\n",
      "group variances unequal: W = 174.9573, p = 0.0000\n",
      "sample distribution not normal\n",
      "Welch's t-test on non-normal distributed samples with unequal variances:\n",
      "statistic = 16.4165 | p-value = 0.0000 =>> mean difference between groups is statistically significant.\n"
     ]
    },
    {
     "data": {
      "text/plain": [
       "None"
      ]
     },
     "metadata": {},
     "output_type": "display_data"
    }
   ],
   "source": [
    "### prepare data series for statistical examination\n",
    "age_1 = master[master[\"promotion success\"] == 1][\"age\"]\n",
    "age_0 = master[master[\"promotion success\"] == 0][\"age\"]\n",
    "\n",
    "### print results of comparison between customer income with and without promotion success \n",
    "print(\"Age - group means comparison between success and no success of promotion offer\")\n",
    "display(compare_group_means(age_1, age_0, alpha = 0.05))"
   ]
  },
  {
   "cell_type": "code",
   "execution_count": 40,
   "metadata": {},
   "outputs": [
    {
     "name": "stdout",
     "output_type": "stream",
     "text": [
      "Registration date - group means comparison between success and no success of promotion offer\n",
      "sample statistics:\n"
     ]
    },
    {
     "data": {
      "text/plain": [
       "count      23499.000000\n",
       "mean      736312.616367\n",
       "median    736385.000000\n",
       "std          402.905711\n",
       "Name: became_member_on, dtype: float64"
      ]
     },
     "metadata": {},
     "output_type": "display_data"
    },
    {
     "data": {
      "text/plain": [
       "count      31723.000000\n",
       "mean      736429.441194\n",
       "median    736593.000000\n",
       "std          424.326185\n",
       "Name: became_member_on, dtype: float64"
      ]
     },
     "metadata": {},
     "output_type": "display_data"
    },
    {
     "name": "stdout",
     "output_type": "stream",
     "text": [
      "mean difference between groups: -116.8248(0.02%)\n",
      "\n",
      "group variances unequal: W = 59.0904, p = 0.0000\n",
      "sample distribution not normal\n",
      "Welch's t-test on non-normal distributed samples with unequal variances:\n",
      "statistic = -32.9328 | p-value = 0.0000 =>> mean difference between groups is statistically significant.\n"
     ]
    },
    {
     "data": {
      "text/plain": [
       "None"
      ]
     },
     "metadata": {},
     "output_type": "display_data"
    }
   ],
   "source": [
    "### convert Dtype from datetime64 to ordinal\n",
    "registration_data = master.copy()\n",
    "registration_data[\"became_member_on\"] = registration_data[\"became_member_on\"].map(datetime.datetime.toordinal)\n",
    "\n",
    "### prepare data series for statistical examination\n",
    "registration_date_1 = registration_data[registration_data[\"promotion success\"] == 1][\"became_member_on\"]\n",
    "registration_date_0 = registration_data[registration_data[\"promotion success\"] == 0][\"became_member_on\"]\n",
    "\n",
    "### print results of comparison between customer income with and without promotion success \n",
    "print(\"Registration date - group means comparison between success and no success of promotion offer\")\n",
    "display(compare_group_means(registration_date_1, registration_date_0, alpha = 0.05))"
   ]
  },
  {
   "cell_type": "code",
   "execution_count": 41,
   "metadata": {
    "scrolled": false
   },
   "outputs": [
    {
     "data": {
      "image/png": "[encoded data removed]",
      "text/plain": [
       "<Figure size 1296x792 with 3 Axes>"
      ]
     },
     "metadata": {
      "needs_background": "light"
     },
     "output_type": "display_data"
    }
   ],
   "source": [
    "### make plot with 3 frames\n",
    "plt.figure(figsize = [18, 11])\n",
    "\n",
    "### left plot top: promotion success by customer's income\n",
    "plt.subplot(2, 2, 1)\n",
    "sns.distplot(master.loc[master[\"promotion success\"] == 1][\"income year (USD)\"], \n",
    "             hist = False, color = \"orange\", kde_kws = {'shade': False})\n",
    "sns.distplot(master.loc[master[\"promotion success\"] == 0][\"income year (USD)\"], \n",
    "             hist = False, color = \"blue\", kde_kws = {'shade': False})\n",
    "plt.xlabel(\"Income per year [USD]\")\n",
    "plt.title(\"Promotion success by Income Distribution\")\n",
    "plt.legend([\"success\", \"no success\"], frameon = False)\n",
    "plt.axvline(x = master[master[\"promotion success\"] == 1][\"income year (USD)\"].mean(), \n",
    "            color = \"orange\", linestyle = \"dashed\", linewidth = 1.5)\n",
    "plt.text(0.95 * master.loc[master[\"promotion success\"] == 1][\"income year (USD)\"].mean(), 0.00001, \n",
    "         f'mean (USD): {master.loc[master[\"promotion success\"] == 1][\"income year (USD)\"].mean():.0f}', \n",
    "         rotation = 90, verticalalignment = \"center\", color = \"orange\")\n",
    "plt.axvline(x = master[master[\"promotion success\"] == 0][\"income year (USD)\"].mean(), \n",
    "            color = \"blue\", linestyle = \"dashed\", linewidth = 1.5)\n",
    "plt.text(0.95 * master.loc[master[\"promotion success\"] == 0][\"income year (USD)\"].mean(), 0.00001, \n",
    "         f'mean (USD): {master.loc[master[\"promotion success\"] == 0][\"income year (USD)\"].mean():.0f}', \n",
    "         rotation = 90, verticalalignment = \"center\", color = \"blue\");\n",
    "\n",
    "### right plot top: promotion success by customer's age\n",
    "plt.subplot(2, 2, 2)\n",
    "sns.distplot(master.loc[master[\"promotion success\"] == 1][\"age\"], \n",
    "             hist = False, color = \"orange\", kde_kws = {'shade': False})\n",
    "sns.distplot(master.loc[master[\"promotion success\"] == 0][\"age\"], \n",
    "             hist = False, color = \"blue\", kde_kws = {'shade': False})\n",
    "plt.xlabel(\"Age\")\n",
    "plt.title(\"Promotion success by Age Distribution\")\n",
    "plt.legend([\"success\", \"no success\"], frameon = False)\n",
    "plt.axvline(x = master[master[\"promotion success\"] == 1][\"age\"].mean(), \n",
    "            color = \"orange\", linestyle = \"dashed\", linewidth = 1.5)\n",
    "plt.text(0.95 * master.loc[master[\"promotion success\"] == 1][\"age\"].mean(), 0.015, \n",
    "         f'mean age: {master.loc[master[\"promotion success\"] == 1][\"age\"].mean():.1f}', \n",
    "         rotation = 90, verticalalignment = \"center\", color = \"orange\")\n",
    "plt.axvline(x = master[master[\"promotion success\"] == 0][\"age\"].mean(), \n",
    "            color = \"blue\", linestyle = \"dashed\", linewidth = 1.5)\n",
    "plt.text(0.95 * master.loc[master[\"promotion success\"] == 0][\"age\"].mean(), 0.015, \n",
    "         f'mean age: {master.loc[master[\"promotion success\"] == 0][\"age\"].mean():.1f}', \n",
    "         rotation = 90, verticalalignment = \"center\", color = \"blue\");\n",
    "\n",
    "### left plot bottom: promotion success by customer's registration date\n",
    "plt.subplot(2, 2, 3)\n",
    "### specify Grouper for monthly counts of registrations\n",
    "monthly_reg_0 = master[master[\"promotion success\"] == 0].groupby([pd.Grouper(key=\"became_member_on\", \n",
    "                                                                             freq=\"M\")])[\"became_member_on\"].count()\n",
    "monthly_reg_1 = master[master[\"promotion success\"] == 1].groupby([pd.Grouper(key=\"became_member_on\", \n",
    "                                                                             freq=\"M\")])[\"became_member_on\"].count()\n",
    "### show line chart with registration date development\n",
    "monthly_reg_0.plot(title = \"Promotion success by registration date\", \n",
    "                   ylabel = \"count\", color = \"blue\")\n",
    "monthly_reg_1.plot(ylabel = \"count\", color = \"orange\")\n",
    "plt.legend([\"no success\", \"success\"], frameon = False);"
   ]
  },
  {
   "cell_type": "markdown",
   "metadata": {},
   "source": [
    "<h4>Income</h4>\n",
    "<ul>\n",
    "    <li>samples for success (n = 23,499) and no success (n = 31,723) are of large size and not normally distributed</li>\n",
    "    <li>mean yearly income for success group is 69,043 USD while for no success group it is 62,681 USD</li>\n",
    "    <li>mean difference is 6,362 USD and is statistically significant (for p-value lower 0.05) between success and no success samples (i.e. the two samples are not from the same population as the mean difference is caused by something other than chance)</li>\n",
    "    <li>the line chart shows that no success distribution of incomes is a positively skewed distribution while the success distribution of incomes tends to be a skew normally distribution</li>\n",
    "</ul>\n",
    "\n",
    "<p>We can observe that customers of the success group tend to have higher yearly income than customers of the no success group.\n",
    "    \n",
    "<h4>Age</h4>\n",
    "<ul>\n",
    "    <li>samples for success (n = 23,499) and no success (n = 31,723) are of large size and not normally distributed</li>\n",
    "    <li>mean age for success group is 56 while for no success group it is 53 years</li>\n",
    "    <li>mean difference is 2.4 years and is statistically significant (for p-value lower 0.05) between success and no success samples (i.e. the two samples are not from the same population as the mean difference is caused by something other than chance)</li>\n",
    "    <li>the line chart shows that there is a hump of young customers in the no success distribution of age while the success distribution of age tends to be a skew normally distribution</li>\n",
    "</ul>\n",
    "\n",
    "<p>We can observe that customers of the success group tend to be older than customers of the no success group.\n",
    "\n",
    "<h4>Registration date</h4>\n",
    "<ul>\n",
    "    <li>samples for success (n = 23,499) and no success (n = 31,723) are of large size and not normally distributed</li>\n",
    "    <li>mean difference is statistically significant (for p-value lower 0.05) between success and no success samples (i.e. the two samples are not from the same population as the mean difference is caused by something other than chance)</li>\n",
    "    <li>for success group slightly more customers inregistrated 2016 and 2017</li>\n",
    "    <li>for no success group far more customers inregistrated 2018</li>\n",
    "</ul>\n",
    "<p>We can observe that customers with earlier registrations tend to take an promotional offer while customers who are registrated for short time tend to ignore the offers."
   ]
  },
  {
   "cell_type": "markdown",
   "metadata": {},
   "source": [
    "## 5 Modeling and Evaluation<a class='anchor' id='modeling_and_evaluation'></a>"
   ]
  },
  {
   "cell_type": "markdown",
   "metadata": {},
   "source": [
    "<p>In this chapter we will build a model to predict which promotional offers will be successful when sending to new customer based on their age, income, registration date and gender. This will be the solution to business question 5 where the output will be for each offer and customer a binary with 1 for promotion success and 0 for no success.\n",
    "\n",
    "<p>The modeling and evaluation steps are as follows:\n",
    "<ul>\n",
    "    <li><b>Preapre data frame for modeling:</b> split master into 8 pieces where for each offer id (only bogo and discount offer) one dataframe is created</li>\n",
    "    <li><b>Select features:</b> select features with strong multicollinearity in realtion to target variable promotion success and prepare features data frame (X) and target data series (y)</li>\n",
    "    <li><b>Scale features:</b> normalize features in range [0, 1] to bring every feature in same footing (essential for machine learning algorithm calculating distances between data)</li>\n",
    "    <li><b>Train test split of data:</b> spilt data frames into train and test sets for validation purposes</li>\n",
    "    <li><b>Pick and tune algorithm:</b> tune in total 6 algorithms on train data set for each single offer using GridSearchCV</li>\n",
    "    <li><b>Validate and evaluate:</b> evaluate predictive performance of each algorithm using the test data set and compare evaluation metrics (Accuracy, F1-score, Recall, Precision) for each singe offer and finally choose algorithm with best predictive performance</li>\n",
    "</ul>"
   ]
  },
  {
   "cell_type": "markdown",
   "metadata": {},
   "source": [
    "### 5.1 Prepare data for modeling"
   ]
  },
  {
   "cell_type": "code",
   "execution_count": 42,
   "metadata": {
    "scrolled": true
   },
   "outputs": [
    {
     "data": {
      "text/html": [
       "<div>\n",
       "<style scoped>\n",
       "    .dataframe tbody tr th:only-of-type {\n",
       "        vertical-align: middle;\n",
       "    }\n",
       "\n",
       "    .dataframe tbody tr th {\n",
       "        vertical-align: top;\n",
       "    }\n",
       "\n",
       "    .dataframe thead th {\n",
       "        text-align: right;\n",
       "    }\n",
       "</style>\n",
       "<table border=\"1\" class=\"dataframe\">\n",
       "  <thead>\n",
       "    <tr style=\"text-align: right;\">\n",
       "      <th></th>\n",
       "      <th>customer_id</th>\n",
       "      <th>offer_id</th>\n",
       "      <th>promotion success</th>\n",
       "      <th>reward (USD)</th>\n",
       "      <th>difficulty (USD)</th>\n",
       "      <th>duration (hrs)</th>\n",
       "      <th>offer_type</th>\n",
       "      <th>gender</th>\n",
       "      <th>age</th>\n",
       "      <th>became_member_on</th>\n",
       "      <th>income year (USD)</th>\n",
       "      <th>gender F</th>\n",
       "      <th>gender M</th>\n",
       "      <th>gender O</th>\n",
       "      <th>income_range</th>\n",
       "      <th>age_group</th>\n",
       "    </tr>\n",
       "  </thead>\n",
       "  <tbody>\n",
       "    <tr>\n",
       "      <th>0</th>\n",
       "      <td>1</td>\n",
       "      <td>3.0</td>\n",
       "      <td>0</td>\n",
       "      <td>0</td>\n",
       "      <td>0</td>\n",
       "      <td>96</td>\n",
       "      <td>informational</td>\n",
       "      <td>F</td>\n",
       "      <td>55</td>\n",
       "      <td>2017-07-15</td>\n",
       "      <td>112000</td>\n",
       "      <td>1</td>\n",
       "      <td>0</td>\n",
       "      <td>0</td>\n",
       "      <td>105k-120k</td>\n",
       "      <td>45-55</td>\n",
       "    </tr>\n",
       "  </tbody>\n",
       "</table>\n",
       "</div>"
      ],
      "text/plain": [
       "   customer_id  offer_id  promotion success  reward (USD)  difficulty (USD)  \\\n",
       "0            1       3.0                  0             0                 0   \n",
       "\n",
       "   duration (hrs)     offer_type gender  age became_member_on  \\\n",
       "0              96  informational      F   55       2017-07-15   \n",
       "\n",
       "   income year (USD)  gender F  gender M  gender O income_range age_group  \n",
       "0             112000         1         0         0    105k-120k     45-55  "
      ]
     },
     "metadata": {},
     "output_type": "display_data"
    },
    {
     "data": {
      "text/plain": [
       "(55222, 16)"
      ]
     },
     "metadata": {},
     "output_type": "display_data"
    }
   ],
   "source": [
    "### view first row of master dataframe and its shape\n",
    "display(master.head(1), master.shape)"
   ]
  },
  {
   "cell_type": "markdown",
   "metadata": {},
   "source": [
    "<p>Format data for modeling\n",
    "<ul>\n",
    "    <li>transform dtype of become_member_on column from datetime to ordinal</li>\n",
    "</ul>"
   ]
  },
  {
   "cell_type": "code",
   "execution_count": 43,
   "metadata": {
    "scrolled": true
   },
   "outputs": [],
   "source": [
    "### convert Dtype from datetime64 to ordinal\n",
    "master[\"became_member_on\"] = master[\"became_member_on\"].map(datetime.datetime.toordinal)"
   ]
  },
  {
   "cell_type": "markdown",
   "metadata": {},
   "source": [
    "<p>We will predict promotion success for each single offer id of bogo and discount offers. Informational offers will be excluded as those cannot be completed and the target variable is always 0. Therefore we will create totally 8 dataframes each one only with of one single offer id. "
   ]
  },
  {
   "cell_type": "code",
   "execution_count": 44,
   "metadata": {},
   "outputs": [],
   "source": [
    "### create dataframes only with data of one single offer id \n",
    "master_offer1 = master[master['offer_id']==1.0]\n",
    "master_offer2 = master[master['offer_id']==2.0]\n",
    "master_offer4 = master[master['offer_id']==4.0]\n",
    "master_offer5 = master[master['offer_id']==5.0]\n",
    "master_offer6 = master[master['offer_id']==6.0]\n",
    "master_offer7 = master[master['offer_id']==7.0]\n",
    "master_offer9 = master[master['offer_id']==9.0]\n",
    "master_offer10 = master[master['offer_id']==10.0]"
   ]
  },
  {
   "cell_type": "markdown",
   "metadata": {},
   "source": [
    "#### 5.1.1 Feature selection"
   ]
  },
  {
   "cell_type": "code",
   "execution_count": 45,
   "metadata": {},
   "outputs": [
    {
     "data": {
      "image/png": "[encoded data removed]",
      "text/plain": [
       "<Figure size 648x432 with 2 Axes>"
      ]
     },
     "metadata": {
      "needs_background": "light"
     },
     "output_type": "display_data"
    }
   ],
   "source": [
    "plt.figure(figsize=(9, 6))\n",
    "### Plot Heatmap with feature multicollinearity\n",
    "sns.heatmap(master_offer2.corr(), annot = True, vmin = -1, vmax = 1, fmt= \".2f\", cmap = \"coolwarm\")\n",
    "plt.title(\"Feature Multicollinearity - master_offer1\", fontsize = \"x-large\")\n",
    "plt.xticks(rotation = 45, ha = \"right\");"
   ]
  },
  {
   "cell_type": "markdown",
   "metadata": {},
   "source": [
    "<p>As we want to predict promotion success we need suitable features for our algorithms. In the heatmap above we compare feature multicollinearity for all features in dataframe of one single offer (here we have choosen offer 2) in realtion to the target variable promotion success.\n",
    "\n",
    "<p>We will select our features as follwos:\n",
    "<ul>\n",
    "    <li>customer_id is not a variable as it is just an id</li>\n",
    "    <li>promotion_success is target variable</li>\n",
    "    <li>reward, difficulty, duration, are variables which are for each individual offer_id always the same and therefore there is no multicollinearity and these variables wont influence the predictive performance</li>\n",
    "    <li>age, become_member_on, income and gender have linear correlation to target variable promotion success and will be selected as featrues for prediction</li>\n",
    "</ul>\n",
    "\n",
    "<p>Finally we prepare features data frame (X) and target data series (y) for each offer id."
   ]
  },
  {
   "cell_type": "code",
   "execution_count": 46,
   "metadata": {},
   "outputs": [],
   "source": [
    "### select target variable\n",
    "target_col = [\"promotion success\"]\n",
    "\n",
    "### select feature varibles\n",
    "features_col = [\"age\", \"became_member_on\", \"income year (USD)\", \n",
    "                \"gender F\", \"gender M\", \"gender O\"]\n",
    "\n",
    "def split_features_target(df, features_col, target_col):\n",
    "    \"\"\"\n",
    "    Method for filtering features and target Series from master dataframe\n",
    "\n",
    "    Args:\n",
    "        df (pd.DataFrame): master Dataframe containing feature and target columns \n",
    "        features_col (list): list with selected features column names\n",
    "        target_col (list): list with selected target column name\n",
    "\n",
    "    Returns:\n",
    "        X (pd.DataFrame): DataFrame with selected feature columns\n",
    "        y (pd.DataSeries): Series with selected target column\n",
    "    \"\"\"\n",
    "    X = df[features_col]\n",
    "    y = df[target_col]\n",
    "    return X, y\n",
    "\n",
    "### prepare dataframes X with feature variables and data Series y with target variable  \n",
    "X1, y1 = split_features_target(master_offer1, features_col, target_col)\n",
    "X2, y2 = split_features_target(master_offer2, features_col, target_col)\n",
    "X4, y4 = split_features_target(master_offer4, features_col, target_col)\n",
    "X5, y5 = split_features_target(master_offer5, features_col, target_col)\n",
    "X6, y6 = split_features_target(master_offer6, features_col, target_col)\n",
    "X7, y7 = split_features_target(master_offer7, features_col, target_col)\n",
    "X9, y9 = split_features_target(master_offer9, features_col, target_col)\n",
    "X10, y10 = split_features_target(master_offer10, features_col, target_col)"
   ]
  },
  {
   "cell_type": "markdown",
   "metadata": {},
   "source": [
    "#### 5.1.2 Scale features"
   ]
  },
  {
   "cell_type": "markdown",
   "metadata": {},
   "source": [
    "<p>It is essential for machine learning algorithms which are calculating distances between data to have normalized features. Therefore we will normalize the age, become_member_on and income in range [0, 1] to bring all features in same footing."
   ]
  },
  {
   "cell_type": "code",
   "execution_count": 47,
   "metadata": {},
   "outputs": [],
   "source": [
    "### select feature varibles for MinMax scaling\n",
    "normalize_col = [\"age\", \"became_member_on\", \"income year (USD)\"]\n",
    "\n",
    "def scale_features(normalize_col, X):\n",
    "    \"\"\"\n",
    "    Method for scaling selected features from features dataframe\n",
    "\n",
    "    Args:\n",
    "        features_col (list): list with selected feature column names to be scaled\n",
    "        X (pd.DataFrame): DataFrame with feature columns\n",
    "\n",
    "    Returns:\n",
    "        X (pd.DataFrame): DataFrame with feature columns where data of selected columns were scaled\n",
    "    \"\"\"\n",
    "    scaler = MinMaxScaler()\n",
    "    X[normalize_col] = scaler.fit_transform(X[normalize_col])\n",
    "    return X\n",
    "\n",
    "### recale \n",
    "X1_scaled = scale_features(normalize_col, X1)\n",
    "X2_scaled = scale_features(normalize_col, X2)\n",
    "X4_scaled = scale_features(normalize_col, X4)\n",
    "X5_scaled = scale_features(normalize_col, X5)\n",
    "X6_scaled = scale_features(normalize_col, X6)\n",
    "X7_scaled = scale_features(normalize_col, X7)\n",
    "X9_scaled = scale_features(normalize_col, X9)\n",
    "X10_scaled = scale_features(normalize_col, X10)"
   ]
  },
  {
   "cell_type": "markdown",
   "metadata": {},
   "source": [
    "#### 5.1.3 Spilt data into train and test sets"
   ]
  },
  {
   "cell_type": "markdown",
   "metadata": {},
   "source": [
    "<p>Here we will split features data frame and target series into train and test sets for validation purposes. For all offer data we choose following paramters:\n",
    "\n",
    "<ul>\n",
    "    <li>test_size = 0.20</li>\n",
    "    <li>random_state = 42</li>\n",
    "</ul>"
   ]
  },
  {
   "cell_type": "code",
   "execution_count": 48,
   "metadata": {},
   "outputs": [],
   "source": [
    "### parameters for train_test_spilt\n",
    "test_size = 0.20\n",
    "random_state = 42\n",
    "\n",
    "### split feature and target variables into train and test sets \n",
    "X1_train, X1_test, y1_train, y1_test = train_test_split(X1_scaled, y1, test_size = test_size, random_state = random_state)\n",
    "X2_train, X2_test, y2_train, y2_test = train_test_split(X2_scaled, y2, test_size = test_size, random_state = random_state)\n",
    "X4_train, X4_test, y4_train, y4_test = train_test_split(X4_scaled, y4, test_size = test_size, random_state = random_state)\n",
    "X5_train, X5_test, y5_train, y5_test = train_test_split(X5_scaled, y5, test_size = test_size, random_state = random_state)\n",
    "X6_train, X6_test, y6_train, y6_test = train_test_split(X6_scaled, y6, test_size = test_size, random_state = random_state)\n",
    "X7_train, X7_test, y7_train, y7_test = train_test_split(X7_scaled, y7, test_size = test_size, random_state = random_state)\n",
    "X9_train, X9_test, y9_train, y9_test = train_test_split(X9_scaled, y9, test_size = test_size, random_state = random_state)\n",
    "X10_train, X10_test, y10_train, y10_test = train_test_split(X10_scaled, y10, test_size = test_size, random_state = random_state)"
   ]
  },
  {
   "cell_type": "markdown",
   "metadata": {},
   "source": [
    "### 5.2 Pick & Tune an Algorithm"
   ]
  },
  {
   "cell_type": "markdown",
   "metadata": {},
   "source": [
    "<p>Our predictive model is a classification model with binary output (1 for success and 0 for no success). We will perform modeling on algorithms with class output like SVM, KNN, but also with probability output like Logistic Regression and Random Forest which converts probability output to class output.\n",
    "\n",
    "<h4>Algorithms</h4> \n",
    "<ul>\n",
    "    <li><b>Naive Bayes (GNB):</b> is a straightforward and fast classification algorithm which can be used for large chunk of data. Naive Bayes classifier uses Bayes Theorem of probability to predict unknown classes and is a fast, accurate and reliable algorithm [6]. Here we will use Gaussian Naive Bayes as baseline algorithm for orientation due to its high speed and accuracy.</li>\n",
    "    <li><b>Logistic Regression (LogR):</b> is a fast classification algorithm which is easy to interpret. We use it as another baseline algorithm for orientation due to its high speed and accuracy.</li>\n",
    "    <li><b>Support Vector Machine (SVM):</b> is a slow classification algorithm which if effective in high dimensional spaces and versatile for different kernel functions [8]. SVM scales well for smaller data sets and is less prone to over-fitting and effect of outliers.</li>   \n",
    "    <li><b>Decision Tree (DT):</b> is a fast and simple to interpret classification algorithm with good performance. Prerequisite for using this alogorithm is little data preparation as data normalisation, creation of dummy variables and removal missing values. Decision Tree is prone to over-fitting [9]. The effect of over-fitting can be limited with hyperparameter tuning. Anyway this won't be a problem here as we are working here with a small dataset.</li>   \n",
    "    <li><b>Random Forest (RF):</b> is a meta estimator that fits a number of Decision Tree classifiers on various sub-samples of a dataset. It uses averaging to improve the predictive accuracy and control over-fitting [10]. Compared to Decision Tree the Random Forest algorithm needs higher computational ressources and runtime. Thus the Random Forest algorithm generates in general more accurate predictions and is less prone to over-fitting.</li>\n",
    "    <li><b>K Nearest Neighbors (KNN):</b> is a slow classification algorithm which needs high computational ressources. In our case this won't be a problem as we are working with a small dataset.</li>    \n",
    "</ul>\n",
    "    \n",
    "<h4>Evaluation metrics</h4>\n",
    "<p>There are several metrics for evaluation the predictive performance of an algorithm. Here we will discuss the most common evaluation metrics used in the industry and which ones fit bests to our classification case.\n",
    "    \n",
    "<p>Our binary classification (with totally 2 classes) will produce a 2 x 2 confusion matrix with the prediction results on a test data set where we already know the true values. The output are 4 numbers: True Positive <i>(T<font size=\"-3\">p</font>)</i>, True Negative <i>(T<font size=\"-3\">n</font>)</i>, False Positive <i>(F<font size=\"-3\">p</font>)</i> and False Negative <i>(F<font size=\"-3\">n</font>)</i>. The diagonal numbers (from top left to bottom right) represent the targets for which the predicted labels are equal to the test labels <i>(T<font size=\"-3\">p</font>, T<font size=\"-3\">n</font>)</i>. The higher the count of the diagonal numbers the better the predictive performance [12]. \n",
    "    \n",
    "<p>Evaluation metrics [12]:\n",
    "<ul>\n",
    "    <li><b>Accuracy:</b> is proportion of total number of predictions which were correct: (<i>T<font size=\"-3\">p</font></i> + <i>T<font size=\"-3\">n</font></i>)/(<i>T<font size=\"-3\">p</font></i> + <i>F<font size=\"-3\">p</font></i> + <i>F<font size=\"-3\">n</font></i> + <i>T<font size=\"-3\">n</font></i>). The output is a number in range [0, 1] where 1 is best and 0 is worst value. We can use the accuracy metric for classifications with roughly balanced output where our classes (success vs. no success) are roughly equal in size. For imbalanced output the validity of this metric dicreases.</li>\n",
    "    <li><b>Positive predictive value or Precision:</b> is proportion of positive cases which were correctly classified: <i>T<font size=\"-3\">p</font></i>/(<i>T<font size=\"-3\">p</font></i> + <i>F<font size=\"-3\">p</font></i>). The output is a number in range [0, 1] where 1 is best and 0 is worst value.</li>\n",
    "    <li><b>Negative predictive value:</b> is proportion of negative cases which were correctly classified: <i>T<font size=\"-3\">n</font></i>/(<i>T<font size=\"-3\">n</font></i> + <i>F<font size=\"-3\">n</font></i>). The output is a number in range [0, 1] where 1 is best and 0 is worst value.</li>\n",
    "    <li><b>Sensitivity or Recall:</b> is proportion of actual positive cases which are correctly classified: <i>T<font size=\"-3\">p</font></i>/(<i>T<font size=\"-3\">p</font></i> + <i>F<font size=\"-3\">n</font></i>). The output is a number in range [0, 1] where 1 is best and 0 is worst value.</li>\n",
    "    <li><b>Specificity:</b> is proportion of actual negative cases which are correctly classified: <i>T<font size=\"-3\">n</font></i>/(<i>T<font size=\"-3\">n</font></i> + <i>F<font size=\"-3\">p</font></i>). The output is a number in range [0, 1] where 1 is best and 0 is worst value.</li>\n",
    "    <li><b>F1-score:</b> is harmonic mean of Precision and Recall: 2 * (precision * recall) / (precision + recall). The output is a number in range [0, 1] where 1 is best and 0 is worst value. The F1-score can be used for classifications with balanced and imbalanced output where false positive and false negative are equally important.</li>   \n",
    "</ul>\n",
    "\n",
    "<h4>Pick algorithm with best predictive performance using suitable metrics</h4>\n",
    "<p>We will choose algorithm with best predictive performance for our case by going through following steps:\n",
    "<ol>\n",
    "    <li>Firstly we check if the predicted classes are roughly balanced. If Precision and Recall scores are roughly equal than the output is roughly balanced. In this case the F1 score also yields close to both aforementioned scores.</li>\n",
    "    <li>In case one or more algorithm have roughly balanced classes, Accuracy score is the most suitable metric to look at when comparing between different algorithm. We will pick the algorithm with the highest Accuracy score. The Accuracy of algorithms with inbalanced output will be ignored.</li> \n",
    "    <li>In case there is more than one algorithm in range of the highest Accuracy and F1 score we look closer at Precision and Recall scores. As for our business it is better to send out offers to customer who would't respond to it than to not send out offers to customers that would respond, we prefer the classifier to predict more False Positives than False Negatives. Therefore we need to have the Recall score higher than the Precision score.</li>\n",
    "    <li>In case all algorithms to be compared have imbalanced classes we then pay more attention to F1 score metric as it is the most suitable metric in this scenario, and pick the algorithm with the highest F1 score where Recall is higher than Precision score.</li>   \n",
    "</ol>"
   ]
  },
  {
   "cell_type": "code",
   "execution_count": 49,
   "metadata": {},
   "outputs": [],
   "source": [
    "def classifier(classifier, offer_id, X_train, X_test, y_train, y_test):\n",
    "    \"\"\"\n",
    "    Method for training classifier and predicting on test set. \n",
    "    Output are: the trained classifier and the evaluation metrics accuracy and f1-score\n",
    "\n",
    "    Args:\n",
    "        classifier: classifier ith parameters, if procurable including GridSearchCV for parameter tuning\n",
    "        offer_id (int): integer with offer_id according master dataframe\n",
    "        X_train (pd.DataFrame): DataFrame with feature columns of train set\n",
    "        y_train (pd.DataSeries): Series with target column of train set\n",
    "        X_test (pd.DataFrame): DataFrame with feature columns of test set\n",
    "        y_test (pd.DataSeries): Series with target column of test set\n",
    "\n",
    "    Returns:\n",
    "        clf: trainied classifier\n",
    "        accuracy (float): accuracy score \n",
    "        f1 (float): f1-score\n",
    "        recall (float): recall score\n",
    "        precision (float): precision score\n",
    "    \"\"\"\n",
    "    ### train classifier\n",
    "    clf.fit(X_train, y_train)\n",
    "    \n",
    "    ### predict on test set\n",
    "    pred = clf.predict(X_test)\n",
    "    ### accuracy score\n",
    "    accuracy = round(accuracy_score(y_test, pred)*100,2)\n",
    "    ### f1 score\n",
    "    f1 = round(f1_score(y_test, pred)*100,2)\n",
    "    ### recall score\n",
    "    recall = round(recall_score(y_test, pred)*100,2)\n",
    "    ### precision score\n",
    "    precision = round(precision_score(y_test, pred)*100,2)\n",
    "    \n",
    "    print(\"#######################################################\")\n",
    "    ### confusion matrix\n",
    "    cm = confusion_matrix(y_test, pred)\n",
    "    print(\"Offer {} - confusion matrix:\".format(offer_id))\n",
    "    print(cm, \"\\n\")\n",
    "    \n",
    "    ### classification report\n",
    "    cr = classification_report(y_test, pred, target_names = [\"0\", \"1\"])\n",
    "    print(\"Offer {} - classification report:\".format(offer_id))\n",
    "    print(cr)  \n",
    "    \n",
    "    print (\"Offer {}:\".format(offer_id),\n",
    "           \"Accuracy: {} % | F1-score: {} % \\n\\\n",
    "        Recall: {} % | Precision: {} %\".format(accuracy, f1, recall, precision),\"\\n\")\n",
    "    \n",
    "    return clf, accuracy, f1, recall, precision"
   ]
  },
  {
   "cell_type": "markdown",
   "metadata": {},
   "source": [
    "#### 5.2.1 Gaussian Naive Bayes (GNB)"
   ]
  },
  {
   "cell_type": "code",
   "execution_count": 50,
   "metadata": {
    "scrolled": false
   },
   "outputs": [
    {
     "name": "stdout",
     "output_type": "stream",
     "text": [
      "#######################################################\n",
      "Offer 1 - confusion matrix:\n",
      "[[377 201]\n",
      " [225 310]] \n",
      "\n",
      "Offer 1 - classification report:\n",
      "              precision    recall  f1-score   support\n",
      "\n",
      "           0       0.63      0.65      0.64       578\n",
      "           1       0.61      0.58      0.59       535\n",
      "\n",
      "    accuracy                           0.62      1113\n",
      "   macro avg       0.62      0.62      0.62      1113\n",
      "weighted avg       0.62      0.62      0.62      1113\n",
      "\n",
      "Offer 1: Accuracy: 61.73 % | F1-score: 59.27 % \n",
      "        Recall: 57.94 % | Precision: 60.67 % \n",
      "\n",
      "#######################################################\n",
      "Offer 2 - confusion matrix:\n",
      "[[391 147]\n",
      " [238 327]] \n",
      "\n",
      "Offer 2 - classification report:\n",
      "              precision    recall  f1-score   support\n",
      "\n",
      "           0       0.62      0.73      0.67       538\n",
      "           1       0.69      0.58      0.63       565\n",
      "\n",
      "    accuracy                           0.65      1103\n",
      "   macro avg       0.66      0.65      0.65      1103\n",
      "weighted avg       0.66      0.65      0.65      1103\n",
      "\n",
      "Offer 2: Accuracy: 65.1 % | F1-score: 62.95 % \n",
      "        Recall: 57.88 % | Precision: 68.99 % \n",
      "\n",
      "#######################################################\n",
      "Offer 4 - confusion matrix:\n",
      "[[505 133]\n",
      " [343 128]] \n",
      "\n",
      "Offer 4 - classification report:\n",
      "              precision    recall  f1-score   support\n",
      "\n",
      "           0       0.60      0.79      0.68       638\n",
      "           1       0.49      0.27      0.35       471\n",
      "\n",
      "    accuracy                           0.57      1109\n",
      "   macro avg       0.54      0.53      0.51      1109\n",
      "weighted avg       0.55      0.57      0.54      1109\n",
      "\n",
      "Offer 4: Accuracy: 57.08 % | F1-score: 34.97 % \n",
      "        Recall: 27.18 % | Precision: 49.04 % \n",
      "\n",
      "#######################################################\n",
      "Offer 5 - confusion matrix:\n",
      "[[827   8]\n",
      " [277   6]] \n",
      "\n",
      "Offer 5 - classification report:\n",
      "              precision    recall  f1-score   support\n",
      "\n",
      "           0       0.75      0.99      0.85       835\n",
      "           1       0.43      0.02      0.04       283\n",
      "\n",
      "    accuracy                           0.75      1118\n",
      "   macro avg       0.59      0.51      0.45      1118\n",
      "weighted avg       0.67      0.75      0.65      1118\n",
      "\n",
      "Offer 5: Accuracy: 74.51 % | F1-score: 4.04 % \n",
      "        Recall: 2.12 % | Precision: 42.86 % \n",
      "\n",
      "#######################################################\n",
      "Offer 6 - confusion matrix:\n",
      "[[114 165]\n",
      " [134 689]] \n",
      "\n",
      "Offer 6 - classification report:\n",
      "              precision    recall  f1-score   support\n",
      "\n",
      "           0       0.46      0.41      0.43       279\n",
      "           1       0.81      0.84      0.82       823\n",
      "\n",
      "    accuracy                           0.73      1102\n",
      "   macro avg       0.63      0.62      0.63      1102\n",
      "weighted avg       0.72      0.73      0.72      1102\n",
      "\n",
      "Offer 6: Accuracy: 72.87 % | F1-score: 82.17 % \n",
      "        Recall: 83.72 % | Precision: 80.68 % \n",
      "\n",
      "#######################################################\n",
      "Offer 7 - confusion matrix:\n",
      "[[142 163]\n",
      " [117 687]] \n",
      "\n",
      "Offer 7 - classification report:\n",
      "              precision    recall  f1-score   support\n",
      "\n",
      "           0       0.55      0.47      0.50       305\n",
      "           1       0.81      0.85      0.83       804\n",
      "\n",
      "    accuracy                           0.75      1109\n",
      "   macro avg       0.68      0.66      0.67      1109\n",
      "weighted avg       0.74      0.75      0.74      1109\n",
      "\n",
      "Offer 7: Accuracy: 74.75 % | F1-score: 83.07 % \n",
      "        Recall: 85.45 % | Precision: 80.82 % \n",
      "\n",
      "#######################################################\n",
      "Offer 9 - confusion matrix:\n",
      "[[212 167]\n",
      " [158 552]] \n",
      "\n",
      "Offer 9 - classification report:\n",
      "              precision    recall  f1-score   support\n",
      "\n",
      "           0       0.57      0.56      0.57       379\n",
      "           1       0.77      0.78      0.77       710\n",
      "\n",
      "    accuracy                           0.70      1089\n",
      "   macro avg       0.67      0.67      0.67      1089\n",
      "weighted avg       0.70      0.70      0.70      1089\n",
      "\n",
      "Offer 9: Accuracy: 70.16 % | F1-score: 77.26 % \n",
      "        Recall: 77.75 % | Precision: 76.77 % \n",
      "\n",
      "#######################################################\n",
      "Offer 10 - confusion matrix:\n",
      "[[517  99]\n",
      " [346 134]] \n",
      "\n",
      "Offer 10 - classification report:\n",
      "              precision    recall  f1-score   support\n",
      "\n",
      "           0       0.60      0.84      0.70       616\n",
      "           1       0.58      0.28      0.38       480\n",
      "\n",
      "    accuracy                           0.59      1096\n",
      "   macro avg       0.59      0.56      0.54      1096\n",
      "weighted avg       0.59      0.59      0.56      1096\n",
      "\n",
      "Offer 10: Accuracy: 59.4 % | F1-score: 37.59 % \n",
      "        Recall: 27.92 % | Precision: 57.51 % \n",
      "\n",
      "Wall time: 2.51 s\n"
     ]
    }
   ],
   "source": [
    "%%time\n",
    "\n",
    "### define parameters and classifier\n",
    "parameters = {}\n",
    "GNB = StratifiedKFold(n_splits = 4)\n",
    "clf = GridSearchCV(GaussianNB(), cv=GNB, param_grid=parameters)\n",
    "\n",
    "### train classifier, predict on test set and compute evaluation metrics \n",
    "gnb_1, acc_gnb_1, f1_gnb_1, r_gnb_1, p_gnb_1 = classifier(clf, 1, X1_train, X1_test, y1_train, y1_test)\n",
    "gnb_2, acc_gnb_2, f1_gnb_2, r_gnb_2, p_gnb_2 = classifier(clf, 2, X2_train, X2_test, y2_train, y2_test)\n",
    "gnb_4, acc_gnb_4, f1_gnb_4, r_gnb_4, p_gnb_4 = classifier(clf, 4, X4_train, X4_test, y4_train, y4_test)\n",
    "gnb_5, acc_gnb_5, f1_gnb_5, r_gnb_5, p_gnb_5 = classifier(clf, 5, X5_train, X5_test, y5_train, y5_test)\n",
    "gnb_6, acc_gnb_6, f1_gnb_6, r_gnb_6, p_gnb_6 = classifier(clf, 6, X6_train, X6_test, y6_train, y6_test)\n",
    "gnb_7, acc_gnb_7, f1_gnb_7, r_gnb_7, p_gnb_7 = classifier(clf, 7, X7_train, X7_test, y7_train, y7_test)\n",
    "gnb_9, acc_gnb_9, f1_gnb_9, r_gnb_9, p_gnb_9 = classifier(clf, 9, X9_train, X9_test, y9_train, y9_test)\n",
    "gnb_10, acc_gnb_10, f1_gnb_10, r_gnb_10, p_gnb_10 = classifier(clf, 10, X10_train, X10_test, y10_train, y10_test) "
   ]
  },
  {
   "cell_type": "markdown",
   "metadata": {},
   "source": [
    "#### 5.2.2 Logistic Regression (LogR)"
   ]
  },
  {
   "cell_type": "code",
   "execution_count": 51,
   "metadata": {
    "scrolled": false
   },
   "outputs": [
    {
     "name": "stdout",
     "output_type": "stream",
     "text": [
      "Fitting 3 folds for each of 8 candidates, totalling 24 fits\n",
      "#######################################################\n",
      "Offer 1 - confusion matrix:\n",
      "[[353 225]\n",
      " [203 332]] \n",
      "\n",
      "Offer 1 - classification report:\n",
      "              precision    recall  f1-score   support\n",
      "\n",
      "           0       0.63      0.61      0.62       578\n",
      "           1       0.60      0.62      0.61       535\n",
      "\n",
      "    accuracy                           0.62      1113\n",
      "   macro avg       0.62      0.62      0.62      1113\n",
      "weighted avg       0.62      0.62      0.62      1113\n",
      "\n",
      "Offer 1: Accuracy: 61.55 % | F1-score: 60.81 % \n",
      "        Recall: 62.06 % | Precision: 59.61 % \n",
      "\n",
      "Fitting 3 folds for each of 8 candidates, totalling 24 fits\n",
      "#######################################################\n",
      "Offer 2 - confusion matrix:\n",
      "[[373 165]\n",
      " [193 372]] \n",
      "\n",
      "Offer 2 - classification report:\n",
      "              precision    recall  f1-score   support\n",
      "\n",
      "           0       0.66      0.69      0.68       538\n",
      "           1       0.69      0.66      0.68       565\n",
      "\n",
      "    accuracy                           0.68      1103\n",
      "   macro avg       0.68      0.68      0.68      1103\n",
      "weighted avg       0.68      0.68      0.68      1103\n",
      "\n",
      "Offer 2: Accuracy: 67.54 % | F1-score: 67.51 % \n",
      "        Recall: 65.84 % | Precision: 69.27 % \n",
      "\n",
      "Fitting 3 folds for each of 8 candidates, totalling 24 fits\n",
      "#######################################################\n",
      "Offer 4 - confusion matrix:\n",
      "[[478 160]\n",
      " [317 154]] \n",
      "\n",
      "Offer 4 - classification report:\n",
      "              precision    recall  f1-score   support\n",
      "\n",
      "           0       0.60      0.75      0.67       638\n",
      "           1       0.49      0.33      0.39       471\n",
      "\n",
      "    accuracy                           0.57      1109\n",
      "   macro avg       0.55      0.54      0.53      1109\n",
      "weighted avg       0.55      0.57      0.55      1109\n",
      "\n",
      "Offer 4: Accuracy: 56.99 % | F1-score: 39.24 % \n",
      "        Recall: 32.7 % | Precision: 49.04 % \n",
      "\n",
      "Fitting 3 folds for each of 8 candidates, totalling 24 fits\n",
      "#######################################################\n",
      "Offer 5 - confusion matrix:\n",
      "[[833   2]\n",
      " [277   6]] \n",
      "\n",
      "Offer 5 - classification report:\n",
      "              precision    recall  f1-score   support\n",
      "\n",
      "           0       0.75      1.00      0.86       835\n",
      "           1       0.75      0.02      0.04       283\n",
      "\n",
      "    accuracy                           0.75      1118\n",
      "   macro avg       0.75      0.51      0.45      1118\n",
      "weighted avg       0.75      0.75      0.65      1118\n",
      "\n",
      "Offer 5: Accuracy: 75.04 % | F1-score: 4.12 % \n",
      "        Recall: 2.12 % | Precision: 75.0 % \n",
      "\n",
      "Fitting 3 folds for each of 8 candidates, totalling 24 fits\n",
      "#######################################################\n",
      "Offer 6 - confusion matrix:\n",
      "[[ 32 247]\n",
      " [ 36 787]] \n",
      "\n",
      "Offer 6 - classification report:\n",
      "              precision    recall  f1-score   support\n",
      "\n",
      "           0       0.47      0.11      0.18       279\n",
      "           1       0.76      0.96      0.85       823\n",
      "\n",
      "    accuracy                           0.74      1102\n",
      "   macro avg       0.62      0.54      0.52      1102\n",
      "weighted avg       0.69      0.74      0.68      1102\n",
      "\n",
      "Offer 6: Accuracy: 74.32 % | F1-score: 84.76 % \n",
      "        Recall: 95.63 % | Precision: 76.11 % \n",
      "\n",
      "Fitting 3 folds for each of 8 candidates, totalling 24 fits\n",
      "#######################################################\n",
      "Offer 7 - confusion matrix:\n",
      "[[ 63 242]\n",
      " [ 33 771]] \n",
      "\n",
      "Offer 7 - classification report:\n",
      "              precision    recall  f1-score   support\n",
      "\n",
      "           0       0.66      0.21      0.31       305\n",
      "           1       0.76      0.96      0.85       804\n",
      "\n",
      "    accuracy                           0.75      1109\n",
      "   macro avg       0.71      0.58      0.58      1109\n",
      "weighted avg       0.73      0.75      0.70      1109\n",
      "\n",
      "Offer 7: Accuracy: 75.2 % | F1-score: 84.87 % \n",
      "        Recall: 95.9 % | Precision: 76.11 % \n",
      "\n",
      "Fitting 3 folds for each of 8 candidates, totalling 24 fits\n",
      "#######################################################\n",
      "Offer 9 - confusion matrix:\n",
      "[[139 240]\n",
      " [ 77 633]] \n",
      "\n",
      "Offer 9 - classification report:\n",
      "              precision    recall  f1-score   support\n",
      "\n",
      "           0       0.64      0.37      0.47       379\n",
      "           1       0.73      0.89      0.80       710\n",
      "\n",
      "    accuracy                           0.71      1089\n",
      "   macro avg       0.68      0.63      0.63      1089\n",
      "weighted avg       0.70      0.71      0.68      1089\n",
      "\n",
      "Offer 9: Accuracy: 70.89 % | F1-score: 79.97 % \n",
      "        Recall: 89.15 % | Precision: 72.51 % \n",
      "\n",
      "Fitting 3 folds for each of 8 candidates, totalling 24 fits\n",
      "#######################################################\n",
      "Offer 10 - confusion matrix:\n",
      "[[482 134]\n",
      " [319 161]] \n",
      "\n",
      "Offer 10 - classification report:\n",
      "              precision    recall  f1-score   support\n",
      "\n",
      "           0       0.60      0.78      0.68       616\n",
      "           1       0.55      0.34      0.42       480\n",
      "\n",
      "    accuracy                           0.59      1096\n",
      "   macro avg       0.57      0.56      0.55      1096\n",
      "weighted avg       0.58      0.59      0.56      1096\n",
      "\n",
      "Offer 10: Accuracy: 58.67 % | F1-score: 41.55 % \n",
      "        Recall: 33.54 % | Precision: 54.58 % \n",
      "\n",
      "Wall time: 13 s\n"
     ]
    }
   ],
   "source": [
    "%%time\n",
    "\n",
    "### define parameters and classifier\n",
    "parameters = {\"penalty\": [\"l1\", \"l2\"], \n",
    "              \"C\": [1,10,100,1000]}\n",
    "LogReg = LogisticRegression(solver='liblinear',random_state=42)\n",
    "clf = GridSearchCV(LogReg, parameters, cv = 3, n_jobs = -1, verbose = 3) \n",
    "\n",
    "### train classifier, predict on test set and compute evaluation metrics\n",
    "lr_1, acc_lr_1, f1_lr_1, r_lr_1, p_lr_1 = classifier(clf, 1, X1_train, X1_test, y1_train, y1_test)\n",
    "lr_2, acc_lr_2, f1_lr_2, r_lr_2, p_lr_2 = classifier(clf, 2, X2_train, X2_test, y2_train, y2_test)\n",
    "lr_4, acc_lr_4, f1_lr_4, r_lr_4, p_lr_4 = classifier(clf, 4, X4_train, X4_test, y4_train, y4_test)\n",
    "lr_5, acc_lr_5, f1_lr_5, r_lr_5, p_lr_5 = classifier(clf, 5, X5_train, X5_test, y5_train, y5_test)\n",
    "lr_6, acc_lr_6, f1_lr_6, r_lr_6, p_lr_6 = classifier(clf, 6, X6_train, X6_test, y6_train, y6_test)\n",
    "lr_7, acc_lr_7, f1_lr_7, r_lr_7, p_lr_7 = classifier(clf, 7, X7_train, X7_test, y7_train, y7_test)\n",
    "lr_9, acc_lr_9, f1_lr_9, r_lr_9, p_lr_9 = classifier(clf, 9, X9_train, X9_test, y9_train, y9_test)\n",
    "lr_10, acc_lr_10, f1_lr_10, r_lr_10, p_lr_10 = classifier(clf, 10, X10_train, X10_test, y10_train, y10_test)"
   ]
  },
  {
   "cell_type": "markdown",
   "metadata": {},
   "source": [
    "#### 5.2.3 Support Vector Machine (SVM) "
   ]
  },
  {
   "cell_type": "code",
   "execution_count": 52,
   "metadata": {
    "scrolled": false
   },
   "outputs": [
    {
     "name": "stdout",
     "output_type": "stream",
     "text": [
      "#######################################################\n",
      "Offer 1 - confusion matrix:\n",
      "[[353 225]\n",
      " [159 376]] \n",
      "\n",
      "Offer 1 - classification report:\n",
      "              precision    recall  f1-score   support\n",
      "\n",
      "           0       0.69      0.61      0.65       578\n",
      "           1       0.63      0.70      0.66       535\n",
      "\n",
      "    accuracy                           0.65      1113\n",
      "   macro avg       0.66      0.66      0.65      1113\n",
      "weighted avg       0.66      0.65      0.65      1113\n",
      "\n",
      "Offer 1: Accuracy: 65.5 % | F1-score: 66.2 % \n",
      "        Recall: 70.28 % | Precision: 62.56 % \n",
      "\n",
      "#######################################################\n",
      "Offer 2 - confusion matrix:\n",
      "[[384 154]\n",
      " [183 382]] \n",
      "\n",
      "Offer 2 - classification report:\n",
      "              precision    recall  f1-score   support\n",
      "\n",
      "           0       0.68      0.71      0.70       538\n",
      "           1       0.71      0.68      0.69       565\n",
      "\n",
      "    accuracy                           0.69      1103\n",
      "   macro avg       0.69      0.69      0.69      1103\n",
      "weighted avg       0.70      0.69      0.69      1103\n",
      "\n",
      "Offer 2: Accuracy: 69.45 % | F1-score: 69.39 % \n",
      "        Recall: 67.61 % | Precision: 71.27 % \n",
      "\n",
      "#######################################################\n",
      "Offer 4 - confusion matrix:\n",
      "[[479 159]\n",
      " [274 197]] \n",
      "\n",
      "Offer 4 - classification report:\n",
      "              precision    recall  f1-score   support\n",
      "\n",
      "           0       0.64      0.75      0.69       638\n",
      "           1       0.55      0.42      0.48       471\n",
      "\n",
      "    accuracy                           0.61      1109\n",
      "   macro avg       0.59      0.58      0.58      1109\n",
      "weighted avg       0.60      0.61      0.60      1109\n",
      "\n",
      "Offer 4: Accuracy: 60.96 % | F1-score: 47.64 % \n",
      "        Recall: 41.83 % | Precision: 55.34 % \n",
      "\n",
      "#######################################################\n",
      "Offer 5 - confusion matrix:\n",
      "[[824  11]\n",
      " [261  22]] \n",
      "\n",
      "Offer 5 - classification report:\n",
      "              precision    recall  f1-score   support\n",
      "\n",
      "           0       0.76      0.99      0.86       835\n",
      "           1       0.67      0.08      0.14       283\n",
      "\n",
      "    accuracy                           0.76      1118\n",
      "   macro avg       0.71      0.53      0.50      1118\n",
      "weighted avg       0.74      0.76      0.68      1118\n",
      "\n",
      "Offer 5: Accuracy: 75.67 % | F1-score: 13.92 % \n",
      "        Recall: 7.77 % | Precision: 66.67 % \n",
      "\n",
      "#######################################################\n",
      "Offer 6 - confusion matrix:\n",
      "[[ 44 235]\n",
      " [ 42 781]] \n",
      "\n",
      "Offer 6 - classification report:\n",
      "              precision    recall  f1-score   support\n",
      "\n",
      "           0       0.51      0.16      0.24       279\n",
      "           1       0.77      0.95      0.85       823\n",
      "\n",
      "    accuracy                           0.75      1102\n",
      "   macro avg       0.64      0.55      0.55      1102\n",
      "weighted avg       0.70      0.75      0.70      1102\n",
      "\n",
      "Offer 6: Accuracy: 74.86 % | F1-score: 84.94 % \n",
      "        Recall: 94.9 % | Precision: 76.87 % \n",
      "\n",
      "#######################################################\n",
      "Offer 7 - confusion matrix:\n",
      "[[ 88 217]\n",
      " [ 56 748]] \n",
      "\n",
      "Offer 7 - classification report:\n",
      "              precision    recall  f1-score   support\n",
      "\n",
      "           0       0.61      0.29      0.39       305\n",
      "           1       0.78      0.93      0.85       804\n",
      "\n",
      "    accuracy                           0.75      1109\n",
      "   macro avg       0.69      0.61      0.62      1109\n",
      "weighted avg       0.73      0.75      0.72      1109\n",
      "\n",
      "Offer 7: Accuracy: 75.38 % | F1-score: 84.57 % \n",
      "        Recall: 93.03 % | Precision: 77.51 % \n",
      "\n",
      "#######################################################\n",
      "Offer 9 - confusion matrix:\n",
      "[[192 187]\n",
      " [122 588]] \n",
      "\n",
      "Offer 9 - classification report:\n",
      "              precision    recall  f1-score   support\n",
      "\n",
      "           0       0.61      0.51      0.55       379\n",
      "           1       0.76      0.83      0.79       710\n",
      "\n",
      "    accuracy                           0.72      1089\n",
      "   macro avg       0.69      0.67      0.67      1089\n",
      "weighted avg       0.71      0.72      0.71      1089\n",
      "\n",
      "Offer 9: Accuracy: 71.63 % | F1-score: 79.19 % \n",
      "        Recall: 82.82 % | Precision: 75.87 % \n",
      "\n",
      "#######################################################\n",
      "Offer 10 - confusion matrix:\n",
      "[[505 111]\n",
      " [290 190]] \n",
      "\n",
      "Offer 10 - classification report:\n",
      "              precision    recall  f1-score   support\n",
      "\n",
      "           0       0.64      0.82      0.72       616\n",
      "           1       0.63      0.40      0.49       480\n",
      "\n",
      "    accuracy                           0.63      1096\n",
      "   macro avg       0.63      0.61      0.60      1096\n",
      "weighted avg       0.63      0.63      0.62      1096\n",
      "\n",
      "Offer 10: Accuracy: 63.41 % | F1-score: 48.66 % \n",
      "        Recall: 39.58 % | Precision: 63.12 % \n",
      "\n",
      "Wall time: 6min 9s\n"
     ]
    }
   ],
   "source": [
    "%%time\n",
    "\n",
    "### define parameters and classifier\n",
    "parameters = {\"kernel\":[\"rbf\"], \n",
    "              \"C\":(0.1, 10), \n",
    "              \"gamma\": (1, 10)}\n",
    "SVM = SVC()\n",
    "clf = GridSearchCV(SVM, parameters)\n",
    "\n",
    "### train classifier, predict on test set and compute evaluation metrics\n",
    "svm_1, acc_svm_1, f1_svm_1, r_svm_1, p_svm_1 = classifier(clf, 1, X1_train, X1_test, y1_train, y1_test)\n",
    "svm_2, acc_svm_2, f1_svm_2, r_svm_2, p_svm_2 = classifier(clf, 2, X2_train, X2_test, y2_train, y2_test)\n",
    "svm_4, acc_svm_4, f1_svm_4, r_svm_4, p_svm_4 = classifier(clf, 4, X4_train, X4_test, y4_train, y4_test)\n",
    "svm_5, acc_svm_5, f1_svm_5, r_svm_5, p_svm_5 = classifier(clf, 5, X5_train, X5_test, y5_train, y5_test)\n",
    "svm_6, acc_svm_6, f1_svm_6, r_svm_6, p_svm_6 = classifier(clf, 6, X6_train, X6_test, y6_train, y6_test)\n",
    "svm_7, acc_svm_7, f1_svm_7, r_svm_7, p_svm_7 = classifier(clf, 7, X7_train, X7_test, y7_train, y7_test)\n",
    "svm_9, acc_svm_9, f1_svm_9, r_svm_9, p_svm_9 = classifier(clf, 9, X9_train, X9_test, y9_train, y9_test)\n",
    "svm_10, acc_svm_10, f1_svm_10, r_svm_10, p_svm_10 = classifier(clf, 10, X10_train, X10_test, y10_train, y10_test)"
   ]
  },
  {
   "cell_type": "markdown",
   "metadata": {},
   "source": [
    "#### 5.2.4 Decision Tree classifier"
   ]
  },
  {
   "cell_type": "code",
   "execution_count": 53,
   "metadata": {
    "scrolled": false
   },
   "outputs": [
    {
     "name": "stdout",
     "output_type": "stream",
     "text": [
      "Fitting 4 folds for each of 162 candidates, totalling 648 fits\n",
      "#######################################################\n",
      "Offer 1 - confusion matrix:\n",
      "[[374 204]\n",
      " [175 360]] \n",
      "\n",
      "Offer 1 - classification report:\n",
      "              precision    recall  f1-score   support\n",
      "\n",
      "           0       0.68      0.65      0.66       578\n",
      "           1       0.64      0.67      0.66       535\n",
      "\n",
      "    accuracy                           0.66      1113\n",
      "   macro avg       0.66      0.66      0.66      1113\n",
      "weighted avg       0.66      0.66      0.66      1113\n",
      "\n",
      "Offer 1: Accuracy: 65.95 % | F1-score: 65.51 % \n",
      "        Recall: 67.29 % | Precision: 63.83 % \n",
      "\n",
      "Fitting 4 folds for each of 162 candidates, totalling 648 fits\n",
      "#######################################################\n",
      "Offer 2 - confusion matrix:\n",
      "[[398 140]\n",
      " [183 382]] \n",
      "\n",
      "Offer 2 - classification report:\n",
      "              precision    recall  f1-score   support\n",
      "\n",
      "           0       0.69      0.74      0.71       538\n",
      "           1       0.73      0.68      0.70       565\n",
      "\n",
      "    accuracy                           0.71      1103\n",
      "   macro avg       0.71      0.71      0.71      1103\n",
      "weighted avg       0.71      0.71      0.71      1103\n",
      "\n",
      "Offer 2: Accuracy: 70.72 % | F1-score: 70.29 % \n",
      "        Recall: 67.61 % | Precision: 73.18 % \n",
      "\n",
      "Fitting 4 folds for each of 162 candidates, totalling 648 fits\n",
      "#######################################################\n",
      "Offer 4 - confusion matrix:\n",
      "[[483 155]\n",
      " [257 214]] \n",
      "\n",
      "Offer 4 - classification report:\n",
      "              precision    recall  f1-score   support\n",
      "\n",
      "           0       0.65      0.76      0.70       638\n",
      "           1       0.58      0.45      0.51       471\n",
      "\n",
      "    accuracy                           0.63      1109\n",
      "   macro avg       0.62      0.61      0.61      1109\n",
      "weighted avg       0.62      0.63      0.62      1109\n",
      "\n",
      "Offer 4: Accuracy: 62.85 % | F1-score: 50.95 % \n",
      "        Recall: 45.44 % | Precision: 57.99 % \n",
      "\n",
      "Fitting 4 folds for each of 162 candidates, totalling 648 fits\n",
      "#######################################################\n",
      "Offer 5 - confusion matrix:\n",
      "[[809  26]\n",
      " [240  43]] \n",
      "\n",
      "Offer 5 - classification report:\n",
      "              precision    recall  f1-score   support\n",
      "\n",
      "           0       0.77      0.97      0.86       835\n",
      "           1       0.62      0.15      0.24       283\n",
      "\n",
      "    accuracy                           0.76      1118\n",
      "   macro avg       0.70      0.56      0.55      1118\n",
      "weighted avg       0.73      0.76      0.70      1118\n",
      "\n",
      "Offer 5: Accuracy: 76.21 % | F1-score: 24.43 % \n",
      "        Recall: 15.19 % | Precision: 62.32 % \n",
      "\n",
      "Fitting 4 folds for each of 162 candidates, totalling 648 fits\n",
      "#######################################################\n",
      "Offer 6 - confusion matrix:\n",
      "[[ 67 212]\n",
      " [ 72 751]] \n",
      "\n",
      "Offer 6 - classification report:\n",
      "              precision    recall  f1-score   support\n",
      "\n",
      "           0       0.48      0.24      0.32       279\n",
      "           1       0.78      0.91      0.84       823\n",
      "\n",
      "    accuracy                           0.74      1102\n",
      "   macro avg       0.63      0.58      0.58      1102\n",
      "weighted avg       0.70      0.74      0.71      1102\n",
      "\n",
      "Offer 6: Accuracy: 74.23 % | F1-score: 84.1 % \n",
      "        Recall: 91.25 % | Precision: 77.99 % \n",
      "\n",
      "Fitting 4 folds for each of 162 candidates, totalling 648 fits\n",
      "#######################################################\n",
      "Offer 7 - confusion matrix:\n",
      "[[114 191]\n",
      " [ 87 717]] \n",
      "\n",
      "Offer 7 - classification report:\n",
      "              precision    recall  f1-score   support\n",
      "\n",
      "           0       0.57      0.37      0.45       305\n",
      "           1       0.79      0.89      0.84       804\n",
      "\n",
      "    accuracy                           0.75      1109\n",
      "   macro avg       0.68      0.63      0.64      1109\n",
      "weighted avg       0.73      0.75      0.73      1109\n",
      "\n",
      "Offer 7: Accuracy: 74.93 % | F1-score: 83.76 % \n",
      "        Recall: 89.18 % | Precision: 78.96 % \n",
      "\n",
      "Fitting 4 folds for each of 162 candidates, totalling 648 fits\n",
      "#######################################################\n",
      "Offer 9 - confusion matrix:\n",
      "[[191 188]\n",
      " [145 565]] \n",
      "\n",
      "Offer 9 - classification report:\n",
      "              precision    recall  f1-score   support\n",
      "\n",
      "           0       0.57      0.50      0.53       379\n",
      "           1       0.75      0.80      0.77       710\n",
      "\n",
      "    accuracy                           0.69      1089\n",
      "   macro avg       0.66      0.65      0.65      1089\n",
      "weighted avg       0.69      0.69      0.69      1089\n",
      "\n",
      "Offer 9: Accuracy: 69.42 % | F1-score: 77.24 % \n",
      "        Recall: 79.58 % | Precision: 75.03 % \n",
      "\n",
      "Fitting 4 folds for each of 162 candidates, totalling 648 fits\n",
      "#######################################################\n",
      "Offer 10 - confusion matrix:\n",
      "[[493 123]\n",
      " [272 208]] \n",
      "\n",
      "Offer 10 - classification report:\n",
      "              precision    recall  f1-score   support\n",
      "\n",
      "           0       0.64      0.80      0.71       616\n",
      "           1       0.63      0.43      0.51       480\n",
      "\n",
      "    accuracy                           0.64      1096\n",
      "   macro avg       0.64      0.62      0.61      1096\n",
      "weighted avg       0.64      0.64      0.63      1096\n",
      "\n",
      "Offer 10: Accuracy: 63.96 % | F1-score: 51.29 % \n",
      "        Recall: 43.33 % | Precision: 62.84 % \n",
      "\n",
      "Wall time: 1min 49s\n"
     ]
    }
   ],
   "source": [
    "%%time\n",
    "\n",
    "### define parameters and classifier\n",
    "parameters = {\"criterion\": (\"gini\", \"entropy\"),\n",
    "              \"max_features\": [0.5, 0.75, None],\n",
    "              \"max_depth\": [8, 10, None],\n",
    "              \"min_samples_split\": [100, 20, 2],\n",
    "              \"min_samples_leaf\": [50, 10, 1]}\n",
    "DT = DecisionTreeClassifier(random_state = 0)\n",
    "clf = GridSearchCV(DT, parameters, scoring= \"roc_auc\", cv = 4, n_jobs = 4, verbose = 2)\n",
    "\n",
    "### train classifier, predict on test set and compute evaluation metrics\n",
    "dt_1, acc_dt_1, f1_dt_1, r_dt_1, p_dt_1 = classifier(clf, 1, X1_train, X1_test, y1_train, y1_test)\n",
    "dt_2, acc_dt_2, f1_dt_2, r_dt_2, p_dt_2 = classifier(clf, 2, X2_train, X2_test, y2_train, y2_test)\n",
    "dt_4, acc_dt_4, f1_dt_4, r_dt_4, p_dt_4 = classifier(clf, 4, X4_train, X4_test, y4_train, y4_test)\n",
    "dt_5, acc_dt_5, f1_dt_5, r_dt_5, p_dt_5 = classifier(clf, 5, X5_train, X5_test, y5_train, y5_test)\n",
    "dt_6, acc_dt_6, f1_dt_6, r_dt_6, p_dt_6 = classifier(clf, 6, X6_train, X6_test, y6_train, y6_test)\n",
    "dt_7, acc_dt_7, f1_dt_7, r_dt_7, p_dt_7 = classifier(clf, 7, X7_train, X7_test, y7_train, y7_test)\n",
    "dt_9, acc_dt_9, f1_dt_9, r_dt_9, p_dt_9 = classifier(clf, 9, X9_train, X9_test, y9_train, y9_test)\n",
    "dt_10, acc_dt_10, f1_dt_10, r_dt_10, p_dt_10 = classifier(clf, 10, X10_train, X10_test, y10_train, y10_test)"
   ]
  },
  {
   "cell_type": "markdown",
   "metadata": {},
   "source": [
    "#### 5.2.5 Random Forest classifier"
   ]
  },
  {
   "cell_type": "code",
   "execution_count": 54,
   "metadata": {
    "scrolled": false
   },
   "outputs": [
    {
     "name": "stdout",
     "output_type": "stream",
     "text": [
      "Fitting 4 folds for each of 72 candidates, totalling 288 fits\n",
      "#######################################################\n",
      "Offer 1 - confusion matrix:\n",
      "[[371 207]\n",
      " [171 364]] \n",
      "\n",
      "Offer 1 - classification report:\n",
      "              precision    recall  f1-score   support\n",
      "\n",
      "           0       0.68      0.64      0.66       578\n",
      "           1       0.64      0.68      0.66       535\n",
      "\n",
      "    accuracy                           0.66      1113\n",
      "   macro avg       0.66      0.66      0.66      1113\n",
      "weighted avg       0.66      0.66      0.66      1113\n",
      "\n",
      "Offer 1: Accuracy: 66.04 % | F1-score: 65.82 % \n",
      "        Recall: 68.04 % | Precision: 63.75 % \n",
      "\n",
      "Fitting 4 folds for each of 72 candidates, totalling 288 fits\n",
      "#######################################################\n",
      "Offer 2 - confusion matrix:\n",
      "[[396 142]\n",
      " [175 390]] \n",
      "\n",
      "Offer 2 - classification report:\n",
      "              precision    recall  f1-score   support\n",
      "\n",
      "           0       0.69      0.74      0.71       538\n",
      "           1       0.73      0.69      0.71       565\n",
      "\n",
      "    accuracy                           0.71      1103\n",
      "   macro avg       0.71      0.71      0.71      1103\n",
      "weighted avg       0.71      0.71      0.71      1103\n",
      "\n",
      "Offer 2: Accuracy: 71.26 % | F1-score: 71.1 % \n",
      "        Recall: 69.03 % | Precision: 73.31 % \n",
      "\n",
      "Fitting 4 folds for each of 72 candidates, totalling 288 fits\n",
      "#######################################################\n",
      "Offer 4 - confusion matrix:\n",
      "[[475 163]\n",
      " [243 228]] \n",
      "\n",
      "Offer 4 - classification report:\n",
      "              precision    recall  f1-score   support\n",
      "\n",
      "           0       0.66      0.74      0.70       638\n",
      "           1       0.58      0.48      0.53       471\n",
      "\n",
      "    accuracy                           0.63      1109\n",
      "   macro avg       0.62      0.61      0.61      1109\n",
      "weighted avg       0.63      0.63      0.63      1109\n",
      "\n",
      "Offer 4: Accuracy: 63.39 % | F1-score: 52.9 % \n",
      "        Recall: 48.41 % | Precision: 58.31 % \n",
      "\n",
      "Fitting 4 folds for each of 72 candidates, totalling 288 fits\n",
      "#######################################################\n",
      "Offer 5 - confusion matrix:\n",
      "[[830   5]\n",
      " [277   6]] \n",
      "\n",
      "Offer 5 - classification report:\n",
      "              precision    recall  f1-score   support\n",
      "\n",
      "           0       0.75      0.99      0.85       835\n",
      "           1       0.55      0.02      0.04       283\n",
      "\n",
      "    accuracy                           0.75      1118\n",
      "   macro avg       0.65      0.51      0.45      1118\n",
      "weighted avg       0.70      0.75      0.65      1118\n",
      "\n",
      "Offer 5: Accuracy: 74.78 % | F1-score: 4.08 % \n",
      "        Recall: 2.12 % | Precision: 54.55 % \n",
      "\n",
      "Fitting 4 folds for each of 72 candidates, totalling 288 fits\n",
      "#######################################################\n",
      "Offer 6 - confusion matrix:\n",
      "[[  0 279]\n",
      " [  0 823]] \n",
      "\n",
      "Offer 6 - classification report:\n",
      "              precision    recall  f1-score   support\n",
      "\n",
      "           0       0.00      0.00      0.00       279\n",
      "           1       0.75      1.00      0.86       823\n",
      "\n",
      "    accuracy                           0.75      1102\n",
      "   macro avg       0.37      0.50      0.43      1102\n",
      "weighted avg       0.56      0.75      0.64      1102\n",
      "\n",
      "Offer 6: Accuracy: 74.68 % | F1-score: 85.51 % \n",
      "        Recall: 100.0 % | Precision: 74.68 % \n",
      "\n",
      "Fitting 4 folds for each of 72 candidates, totalling 288 fits\n",
      "#######################################################\n",
      "Offer 7 - confusion matrix:\n",
      "[[  0 305]\n",
      " [  0 804]] \n",
      "\n",
      "Offer 7 - classification report:\n",
      "              precision    recall  f1-score   support\n",
      "\n",
      "           0       0.00      0.00      0.00       305\n",
      "           1       0.72      1.00      0.84       804\n",
      "\n",
      "    accuracy                           0.72      1109\n",
      "   macro avg       0.36      0.50      0.42      1109\n",
      "weighted avg       0.53      0.72      0.61      1109\n",
      "\n",
      "Offer 7: Accuracy: 72.5 % | F1-score: 84.06 % \n",
      "        Recall: 100.0 % | Precision: 72.5 % \n",
      "\n",
      "Fitting 4 folds for each of 72 candidates, totalling 288 fits\n",
      "#######################################################\n",
      "Offer 9 - confusion matrix:\n",
      "[[ 96 283]\n",
      " [ 59 651]] \n",
      "\n",
      "Offer 9 - classification report:\n",
      "              precision    recall  f1-score   support\n",
      "\n",
      "           0       0.62      0.25      0.36       379\n",
      "           1       0.70      0.92      0.79       710\n",
      "\n",
      "    accuracy                           0.69      1089\n",
      "   macro avg       0.66      0.59      0.58      1089\n",
      "weighted avg       0.67      0.69      0.64      1089\n",
      "\n",
      "Offer 9: Accuracy: 68.6 % | F1-score: 79.2 % \n",
      "        Recall: 91.69 % | Precision: 69.7 % \n",
      "\n",
      "Fitting 4 folds for each of 72 candidates, totalling 288 fits\n",
      "#######################################################\n",
      "Offer 10 - confusion matrix:\n",
      "[[474 142]\n",
      " [250 230]] \n",
      "\n",
      "Offer 10 - classification report:\n",
      "              precision    recall  f1-score   support\n",
      "\n",
      "           0       0.65      0.77      0.71       616\n",
      "           1       0.62      0.48      0.54       480\n",
      "\n",
      "    accuracy                           0.64      1096\n",
      "   macro avg       0.64      0.62      0.62      1096\n",
      "weighted avg       0.64      0.64      0.63      1096\n",
      "\n",
      "Offer 10: Accuracy: 64.23 % | F1-score: 53.99 % \n",
      "        Recall: 47.92 % | Precision: 61.83 % \n",
      "\n",
      "Wall time: 2min\n"
     ]
    }
   ],
   "source": [
    "%%time\n",
    "\n",
    "### define parameters and classifier\n",
    "parameters = {\"bootstrap\": [True],\n",
    "              \"max_depth\": [2, 6, 10], \n",
    "              \"max_features\": [0.5, 1, 2], \n",
    "              \"min_samples_leaf\": [1, 5], \n",
    "              \"min_samples_split\": [2, 5], \n",
    "              \"n_estimators\": [10, 20]}\n",
    "RF = RandomForestClassifier()\n",
    "clf = GridSearchCV(RF, parameters, scoring = \"roc_auc\", cv = 4, n_jobs = 4, verbose = 2)\n",
    "\n",
    "### train classifier, predict on test set and compute evaluation metrics\n",
    "rf_1, acc_rf_1, f1_rf_1, r_rf_1, p_rf_1 = classifier(clf, 1, X1_train, X1_test, y1_train, y1_test)\n",
    "rf_2, acc_rf_2, f1_rf_2, r_rf_2, p_rf_2 = classifier(clf, 2, X2_train, X2_test, y2_train, y2_test)\n",
    "rf_4, acc_rf_4, f1_rf_4, r_rf_4, p_rf_4 = classifier(clf, 4, X4_train, X4_test, y4_train, y4_test)\n",
    "rf_5, acc_rf_5, f1_rf_5, r_rf_5, p_rf_5 = classifier(clf, 5, X5_train, X5_test, y5_train, y5_test)\n",
    "rf_6, acc_rf_6, f1_rf_6, r_rf_6, p_rf_6 = classifier(clf, 6, X6_train, X6_test, y6_train, y6_test)\n",
    "rf_7, acc_rf_7, f1_rf_7, r_rf_7, p_rf_7 = classifier(clf, 7, X7_train, X7_test, y7_train, y7_test)\n",
    "rf_9, acc_rf_9, f1_rf_9, r_rf_9, p_rf_9 = classifier(clf, 9, X9_train, X9_test, y9_train, y9_test)\n",
    "rf_10, acc_rf_10, f1_rf_10, r_rf_10, p_rf_10 = classifier(clf, 10, X10_train, X10_test, y10_train, y10_test)"
   ]
  },
  {
   "cell_type": "markdown",
   "metadata": {},
   "source": [
    "#### 5.2.6 k-nearest-Neighbor KNN"
   ]
  },
  {
   "cell_type": "code",
   "execution_count": 55,
   "metadata": {
    "scrolled": false
   },
   "outputs": [
    {
     "name": "stdout",
     "output_type": "stream",
     "text": [
      "Fitting 4 folds for each of 36 candidates, totalling 144 fits\n",
      "#######################################################\n",
      "Offer 1 - confusion matrix:\n",
      "[[355 223]\n",
      " [166 369]] \n",
      "\n",
      "Offer 1 - classification report:\n",
      "              precision    recall  f1-score   support\n",
      "\n",
      "           0       0.68      0.61      0.65       578\n",
      "           1       0.62      0.69      0.65       535\n",
      "\n",
      "    accuracy                           0.65      1113\n",
      "   macro avg       0.65      0.65      0.65      1113\n",
      "weighted avg       0.65      0.65      0.65      1113\n",
      "\n",
      "Offer 1: Accuracy: 65.05 % | F1-score: 65.48 % \n",
      "        Recall: 68.97 % | Precision: 62.33 % \n",
      "\n",
      "Fitting 4 folds for each of 36 candidates, totalling 144 fits\n",
      "#######################################################\n",
      "Offer 2 - confusion matrix:\n",
      "[[369 169]\n",
      " [162 403]] \n",
      "\n",
      "Offer 2 - classification report:\n",
      "              precision    recall  f1-score   support\n",
      "\n",
      "           0       0.69      0.69      0.69       538\n",
      "           1       0.70      0.71      0.71       565\n",
      "\n",
      "    accuracy                           0.70      1103\n",
      "   macro avg       0.70      0.70      0.70      1103\n",
      "weighted avg       0.70      0.70      0.70      1103\n",
      "\n",
      "Offer 2: Accuracy: 69.99 % | F1-score: 70.89 % \n",
      "        Recall: 71.33 % | Precision: 70.45 % \n",
      "\n",
      "Fitting 4 folds for each of 36 candidates, totalling 144 fits\n",
      "#######################################################\n",
      "Offer 4 - confusion matrix:\n",
      "[[495 143]\n",
      " [282 189]] \n",
      "\n",
      "Offer 4 - classification report:\n",
      "              precision    recall  f1-score   support\n",
      "\n",
      "           0       0.64      0.78      0.70       638\n",
      "           1       0.57      0.40      0.47       471\n",
      "\n",
      "    accuracy                           0.62      1109\n",
      "   macro avg       0.60      0.59      0.59      1109\n",
      "weighted avg       0.61      0.62      0.60      1109\n",
      "\n",
      "Offer 4: Accuracy: 61.68 % | F1-score: 47.07 % \n",
      "        Recall: 40.13 % | Precision: 56.93 % \n",
      "\n",
      "Fitting 4 folds for each of 36 candidates, totalling 144 fits\n",
      "#######################################################\n",
      "Offer 5 - confusion matrix:\n",
      "[[830   5]\n",
      " [268  15]] \n",
      "\n",
      "Offer 5 - classification report:\n",
      "              precision    recall  f1-score   support\n",
      "\n",
      "           0       0.76      0.99      0.86       835\n",
      "           1       0.75      0.05      0.10       283\n",
      "\n",
      "    accuracy                           0.76      1118\n",
      "   macro avg       0.75      0.52      0.48      1118\n",
      "weighted avg       0.75      0.76      0.67      1118\n",
      "\n",
      "Offer 5: Accuracy: 75.58 % | F1-score: 9.9 % \n",
      "        Recall: 5.3 % | Precision: 75.0 % \n",
      "\n",
      "Fitting 4 folds for each of 36 candidates, totalling 144 fits\n",
      "#######################################################\n",
      "Offer 6 - confusion matrix:\n",
      "[[ 61 218]\n",
      " [ 55 768]] \n",
      "\n",
      "Offer 6 - classification report:\n",
      "              precision    recall  f1-score   support\n",
      "\n",
      "           0       0.53      0.22      0.31       279\n",
      "           1       0.78      0.93      0.85       823\n",
      "\n",
      "    accuracy                           0.75      1102\n",
      "   macro avg       0.65      0.58      0.58      1102\n",
      "weighted avg       0.71      0.75      0.71      1102\n",
      "\n",
      "Offer 6: Accuracy: 75.23 % | F1-score: 84.91 % \n",
      "        Recall: 93.32 % | Precision: 77.89 % \n",
      "\n",
      "Fitting 4 folds for each of 36 candidates, totalling 144 fits\n",
      "#######################################################\n",
      "Offer 7 - confusion matrix:\n",
      "[[ 79 226]\n",
      " [ 48 756]] \n",
      "\n",
      "Offer 7 - classification report:\n",
      "              precision    recall  f1-score   support\n",
      "\n",
      "           0       0.62      0.26      0.37       305\n",
      "           1       0.77      0.94      0.85       804\n",
      "\n",
      "    accuracy                           0.75      1109\n",
      "   macro avg       0.70      0.60      0.61      1109\n",
      "weighted avg       0.73      0.75      0.71      1109\n",
      "\n",
      "Offer 7: Accuracy: 75.29 % | F1-score: 84.66 % \n",
      "        Recall: 94.03 % | Precision: 76.99 % \n",
      "\n",
      "Fitting 4 folds for each of 36 candidates, totalling 144 fits\n",
      "#######################################################\n",
      "Offer 9 - confusion matrix:\n",
      "[[182 197]\n",
      " [102 608]] \n",
      "\n",
      "Offer 9 - classification report:\n",
      "              precision    recall  f1-score   support\n",
      "\n",
      "           0       0.64      0.48      0.55       379\n",
      "           1       0.76      0.86      0.80       710\n",
      "\n",
      "    accuracy                           0.73      1089\n",
      "   macro avg       0.70      0.67      0.68      1089\n",
      "weighted avg       0.72      0.73      0.71      1089\n",
      "\n",
      "Offer 9: Accuracy: 72.54 % | F1-score: 80.26 % \n",
      "        Recall: 85.63 % | Precision: 75.53 % \n",
      "\n",
      "Fitting 4 folds for each of 36 candidates, totalling 144 fits\n",
      "#######################################################\n",
      "Offer 10 - confusion matrix:\n",
      "[[462 154]\n",
      " [257 223]] \n",
      "\n",
      "Offer 10 - classification report:\n",
      "              precision    recall  f1-score   support\n",
      "\n",
      "           0       0.64      0.75      0.69       616\n",
      "           1       0.59      0.46      0.52       480\n",
      "\n",
      "    accuracy                           0.62      1096\n",
      "   macro avg       0.62      0.61      0.61      1096\n",
      "weighted avg       0.62      0.62      0.62      1096\n",
      "\n",
      "Offer 10: Accuracy: 62.5 % | F1-score: 52.04 % \n",
      "        Recall: 46.46 % | Precision: 59.15 % \n",
      "\n",
      "Wall time: 1min 23s\n"
     ]
    }
   ],
   "source": [
    "%%time\n",
    "\n",
    "### define parameters and classifier\n",
    "parameters = {\"n_neighbors\": [50, 100, 150],\n",
    "              \"p\": [0.5, 1, 2],\n",
    "              \"weights\": [\"uniform\", \"distance\"], \n",
    "              \"metric\": [\"euclidean\", \"manhattan\"]}\n",
    "KNN = KNeighborsClassifier()\n",
    "clf = GridSearchCV(KNN, parameters, scoring = 'roc_auc', cv=4, n_jobs=4, verbose=2) \n",
    "\n",
    "### train classifier, predict on test set and compute evaluation metrics\n",
    "knn_1, acc_knn_1, f1_knn_1, r_knn_1, p_knn_1 = classifier(clf, 1, X1_train, X1_test, y1_train, y1_test)\n",
    "knn_2, acc_knn_2, f1_knn_2, r_knn_2, p_knn_2 = classifier(clf, 2, X2_train, X2_test, y2_train, y2_test)\n",
    "knn_4, acc_knn_4, f1_knn_4, r_knn_4, p_knn_4 = classifier(clf, 4, X4_train, X4_test, y4_train, y4_test)\n",
    "knn_5, acc_knn_5, f1_knn_5, r_knn_5, p_knn_5 = classifier(clf, 5, X5_train, X5_test, y5_train, y5_test)\n",
    "knn_6, acc_knn_6, f1_knn_6, r_knn_6, p_knn_6 = classifier(clf, 6, X6_train, X6_test, y6_train, y6_test)\n",
    "knn_7, acc_knn_7, f1_knn_7, r_knn_7, p_knn_7 = classifier(clf, 7, X7_train, X7_test, y7_train, y7_test)\n",
    "knn_9, acc_knn_9, f1_knn_9, r_knn_9, p_knn_9 = classifier(clf, 9, X9_train, X9_test, y9_train, y9_test)\n",
    "knn_10, acc_knn_10, f1_knn_10, r_knn_10, p_knn_10 = classifier(clf, 10, X10_train, X10_test, y10_train, y10_test)"
   ]
  },
  {
   "cell_type": "markdown",
   "metadata": {},
   "source": [
    "### 5.3 Summary modeling and evaluation"
   ]
  },
  {
   "cell_type": "markdown",
   "metadata": {},
   "source": [
    "#### 5.3.1 offer 1"
   ]
  },
  {
   "cell_type": "code",
   "execution_count": 56,
   "metadata": {},
   "outputs": [
    {
     "data": {
      "text/plain": [
       "'Offer 1 - evaluation metrics'"
      ]
     },
     "metadata": {},
     "output_type": "display_data"
    },
    {
     "data": {
      "text/html": [
       "<div>\n",
       "<style scoped>\n",
       "    .dataframe tbody tr th:only-of-type {\n",
       "        vertical-align: middle;\n",
       "    }\n",
       "\n",
       "    .dataframe tbody tr th {\n",
       "        vertical-align: top;\n",
       "    }\n",
       "\n",
       "    .dataframe thead th {\n",
       "        text-align: right;\n",
       "    }\n",
       "</style>\n",
       "<table border=\"1\" class=\"dataframe\">\n",
       "  <thead>\n",
       "    <tr style=\"text-align: right;\">\n",
       "      <th>classifier</th>\n",
       "      <th>GNB</th>\n",
       "      <th>LogR</th>\n",
       "      <th>SVM</th>\n",
       "      <th>DT</th>\n",
       "      <th>RF</th>\n",
       "      <th>KNN</th>\n",
       "      <th>high score</th>\n",
       "    </tr>\n",
       "  </thead>\n",
       "  <tbody>\n",
       "    <tr>\n",
       "      <th>accuracy</th>\n",
       "      <td>61.73</td>\n",
       "      <td>61.55</td>\n",
       "      <td>65.50</td>\n",
       "      <td>65.95</td>\n",
       "      <td>66.04</td>\n",
       "      <td>65.05</td>\n",
       "      <td>RF</td>\n",
       "    </tr>\n",
       "    <tr>\n",
       "      <th>f1-score</th>\n",
       "      <td>59.27</td>\n",
       "      <td>60.81</td>\n",
       "      <td>66.20</td>\n",
       "      <td>65.51</td>\n",
       "      <td>65.82</td>\n",
       "      <td>65.48</td>\n",
       "      <td>SVM</td>\n",
       "    </tr>\n",
       "    <tr>\n",
       "      <th>recall</th>\n",
       "      <td>57.94</td>\n",
       "      <td>62.06</td>\n",
       "      <td>70.28</td>\n",
       "      <td>67.29</td>\n",
       "      <td>68.04</td>\n",
       "      <td>68.97</td>\n",
       "      <td>SVM</td>\n",
       "    </tr>\n",
       "    <tr>\n",
       "      <th>precision</th>\n",
       "      <td>60.67</td>\n",
       "      <td>59.61</td>\n",
       "      <td>62.56</td>\n",
       "      <td>63.83</td>\n",
       "      <td>63.75</td>\n",
       "      <td>62.33</td>\n",
       "      <td>DT</td>\n",
       "    </tr>\n",
       "  </tbody>\n",
       "</table>\n",
       "</div>"
      ],
      "text/plain": [
       "classifier    GNB   LogR    SVM     DT     RF    KNN high score\n",
       "accuracy    61.73  61.55  65.50  65.95  66.04  65.05         RF\n",
       "f1-score    59.27  60.81  66.20  65.51  65.82  65.48        SVM\n",
       "recall      57.94  62.06  70.28  67.29  68.04  68.97        SVM\n",
       "precision   60.67  59.61  62.56  63.83  63.75  62.33         DT"
      ]
     },
     "metadata": {},
     "output_type": "display_data"
    }
   ],
   "source": [
    "### offer 1 - dataframe with evaluation metrics accuracy, f1-score, recall, precision\n",
    "clf = [\"GNB\", \"LogR\", \"SVM\", \"DT\", \"RF\", \"KNN\"]\n",
    "acc = [acc_gnb_1, acc_lr_1, acc_svm_1, acc_dt_1, acc_rf_1, acc_knn_1]\n",
    "f1 = [f1_gnb_1, f1_lr_1, f1_svm_1, f1_dt_1, f1_rf_1, f1_knn_1]\n",
    "r = [r_gnb_1, r_lr_1, r_svm_1, r_dt_1, r_rf_1, r_knn_1]\n",
    "p = [p_gnb_1, p_lr_1, p_svm_1, p_dt_1, p_rf_1, p_knn_1]\n",
    "offer_1 = pd.DataFrame({\n",
    "    \"classifier\": clf,\n",
    "    \"accuracy\": acc,\n",
    "    \"f1-score\": f1,\n",
    "    \"recall\": r,\n",
    "    \"precision\": p\n",
    "})\n",
    "offer_1.set_index(\"classifier\", inplace = True)\n",
    "offer_1 = offer_1.transpose()\n",
    "offer_1[\"high score\"] = offer_1[[\"GNB\", \"LogR\", \"SVM\", \"DT\", \"RF\", \"KNN\"]].idxmax(axis=1)\n",
    "display(\"Offer 1 - evaluation metrics\", offer_1)"
   ]
  },
  {
   "cell_type": "markdown",
   "metadata": {},
   "source": [
    "<p>Evaluation metric comparison table between classification algorithms - Offer 1:\n",
    "\n",
    "<ul>\n",
    "    <li>The output of the classification is roughly balanced for all algorithms as Precision, Recall and F1 scores are roughly equal</li>\n",
    "    <li>The highest Accuracy score in a similar range have the algorithms RF, DT, SVM and KNN (from top to bottom)</li>\n",
    "    <li>The highest F1 score in a similar range have the algorithms SVM, RF, DT and KNN (from top to bottom)</li>\n",
    "    <li>The Recall is higher than the Precision score for algorithms LogR, SVM, DT, RF and KNN</li> \n",
    "</ul>\n",
    "\n",
    "<p><b>We select RF as classification algorithm with best predictive performance!</b> RF has a roughly balanced output with the highest Accuracy score where the Recall is higher than the Precision score."
   ]
  },
  {
   "cell_type": "markdown",
   "metadata": {},
   "source": [
    "#### 5.3.2 offer 2"
   ]
  },
  {
   "cell_type": "code",
   "execution_count": 57,
   "metadata": {},
   "outputs": [
    {
     "data": {
      "text/plain": [
       "'Offer 2 - evaluation metrics'"
      ]
     },
     "metadata": {},
     "output_type": "display_data"
    },
    {
     "data": {
      "text/html": [
       "<div>\n",
       "<style scoped>\n",
       "    .dataframe tbody tr th:only-of-type {\n",
       "        vertical-align: middle;\n",
       "    }\n",
       "\n",
       "    .dataframe tbody tr th {\n",
       "        vertical-align: top;\n",
       "    }\n",
       "\n",
       "    .dataframe thead th {\n",
       "        text-align: right;\n",
       "    }\n",
       "</style>\n",
       "<table border=\"1\" class=\"dataframe\">\n",
       "  <thead>\n",
       "    <tr style=\"text-align: right;\">\n",
       "      <th>classifier</th>\n",
       "      <th>GNB</th>\n",
       "      <th>LogR</th>\n",
       "      <th>SVM</th>\n",
       "      <th>DT</th>\n",
       "      <th>RF</th>\n",
       "      <th>KNN</th>\n",
       "      <th>high score</th>\n",
       "    </tr>\n",
       "  </thead>\n",
       "  <tbody>\n",
       "    <tr>\n",
       "      <th>accuracy</th>\n",
       "      <td>65.10</td>\n",
       "      <td>67.54</td>\n",
       "      <td>69.45</td>\n",
       "      <td>70.72</td>\n",
       "      <td>71.26</td>\n",
       "      <td>69.99</td>\n",
       "      <td>RF</td>\n",
       "    </tr>\n",
       "    <tr>\n",
       "      <th>f1-score</th>\n",
       "      <td>62.95</td>\n",
       "      <td>67.51</td>\n",
       "      <td>69.39</td>\n",
       "      <td>70.29</td>\n",
       "      <td>71.10</td>\n",
       "      <td>70.89</td>\n",
       "      <td>RF</td>\n",
       "    </tr>\n",
       "    <tr>\n",
       "      <th>recall</th>\n",
       "      <td>57.88</td>\n",
       "      <td>65.84</td>\n",
       "      <td>67.61</td>\n",
       "      <td>67.61</td>\n",
       "      <td>69.03</td>\n",
       "      <td>71.33</td>\n",
       "      <td>KNN</td>\n",
       "    </tr>\n",
       "    <tr>\n",
       "      <th>precision</th>\n",
       "      <td>68.99</td>\n",
       "      <td>69.27</td>\n",
       "      <td>71.27</td>\n",
       "      <td>73.18</td>\n",
       "      <td>73.31</td>\n",
       "      <td>70.45</td>\n",
       "      <td>RF</td>\n",
       "    </tr>\n",
       "  </tbody>\n",
       "</table>\n",
       "</div>"
      ],
      "text/plain": [
       "classifier    GNB   LogR    SVM     DT     RF    KNN high score\n",
       "accuracy    65.10  67.54  69.45  70.72  71.26  69.99         RF\n",
       "f1-score    62.95  67.51  69.39  70.29  71.10  70.89         RF\n",
       "recall      57.88  65.84  67.61  67.61  69.03  71.33        KNN\n",
       "precision   68.99  69.27  71.27  73.18  73.31  70.45         RF"
      ]
     },
     "metadata": {},
     "output_type": "display_data"
    }
   ],
   "source": [
    "### offer 2 - dataframe with evaluation metrics accuracy, f1-score, recall, precision\n",
    "clf = [\"GNB\", \"LogR\", \"SVM\", \"DT\", \"RF\", \"KNN\"]\n",
    "acc = [acc_gnb_2, acc_lr_2, acc_svm_2, acc_dt_2, acc_rf_2, acc_knn_2]\n",
    "f1 = [f1_gnb_2, f1_lr_2, f1_svm_2, f1_dt_2, f1_rf_2, f1_knn_2]\n",
    "r = [r_gnb_2, r_lr_2, r_svm_2, r_dt_2, r_rf_2, r_knn_2]\n",
    "p = [p_gnb_2, p_lr_2, p_svm_2, p_dt_2, p_rf_2, p_knn_2]\n",
    "offer_2 = pd.DataFrame({\n",
    "    \"classifier\": clf,\n",
    "    \"accuracy\": acc,\n",
    "    \"f1-score\": f1,\n",
    "    \"recall\": r,\n",
    "    \"precision\": p\n",
    "})\n",
    "offer_2.set_index(\"classifier\", inplace = True)\n",
    "offer_2 = offer_2.transpose()\n",
    "offer_2[\"high score\"] = offer_2[[\"GNB\", \"LogR\", \"SVM\", \"DT\", \"RF\", \"KNN\"]].idxmax(axis=1)\n",
    "display(\"Offer 2 - evaluation metrics\", offer_2)"
   ]
  },
  {
   "cell_type": "markdown",
   "metadata": {},
   "source": [
    "<p>Evaluation metric comparison table between classification algorithms - Offer 2:\n",
    "\n",
    "<ul>\n",
    "    <li>The output of the classification is roughly balanced for the algorithms LogR, SVM, DT, RF and KNN as Precision, Recall and F1 scores are roughly equal</li>\n",
    "    <li>The highest Accuracy score in a similar range have the algorithms RF and DT(from top to bottom)</li>\n",
    "    <li>The highest F1 score in a similar range have the algorithms RF, KNN and DT (from top to bottom)</li>\n",
    "    <li>The Recall is higher than the Precision score only for algorithm KNN</li> \n",
    "</ul>\n",
    "\n",
    "<p><b>We select RF as classification algorithm with best predictive performance!</b> RF has a roughly balanced output with the highest Accuracy score. The Recall is not higher than the Precision score. KNN has as single algorithm the Recall higher than the Precision score. Due to the fact that the Accuracy of KNN is much lower than of RF we select RF."
   ]
  },
  {
   "cell_type": "markdown",
   "metadata": {},
   "source": [
    "#### 5.3.3 offer 4"
   ]
  },
  {
   "cell_type": "code",
   "execution_count": 58,
   "metadata": {},
   "outputs": [
    {
     "data": {
      "text/plain": [
       "'Offer 4 - evaluation metrics'"
      ]
     },
     "metadata": {},
     "output_type": "display_data"
    },
    {
     "data": {
      "text/html": [
       "<div>\n",
       "<style scoped>\n",
       "    .dataframe tbody tr th:only-of-type {\n",
       "        vertical-align: middle;\n",
       "    }\n",
       "\n",
       "    .dataframe tbody tr th {\n",
       "        vertical-align: top;\n",
       "    }\n",
       "\n",
       "    .dataframe thead th {\n",
       "        text-align: right;\n",
       "    }\n",
       "</style>\n",
       "<table border=\"1\" class=\"dataframe\">\n",
       "  <thead>\n",
       "    <tr style=\"text-align: right;\">\n",
       "      <th>classifier</th>\n",
       "      <th>GNB</th>\n",
       "      <th>LogR</th>\n",
       "      <th>SVM</th>\n",
       "      <th>DT</th>\n",
       "      <th>RF</th>\n",
       "      <th>KNN</th>\n",
       "      <th>high score</th>\n",
       "    </tr>\n",
       "  </thead>\n",
       "  <tbody>\n",
       "    <tr>\n",
       "      <th>accuracy</th>\n",
       "      <td>57.08</td>\n",
       "      <td>56.99</td>\n",
       "      <td>60.96</td>\n",
       "      <td>62.85</td>\n",
       "      <td>63.39</td>\n",
       "      <td>61.68</td>\n",
       "      <td>RF</td>\n",
       "    </tr>\n",
       "    <tr>\n",
       "      <th>f1-score</th>\n",
       "      <td>34.97</td>\n",
       "      <td>39.24</td>\n",
       "      <td>47.64</td>\n",
       "      <td>50.95</td>\n",
       "      <td>52.90</td>\n",
       "      <td>47.07</td>\n",
       "      <td>RF</td>\n",
       "    </tr>\n",
       "    <tr>\n",
       "      <th>recall</th>\n",
       "      <td>27.18</td>\n",
       "      <td>32.70</td>\n",
       "      <td>41.83</td>\n",
       "      <td>45.44</td>\n",
       "      <td>48.41</td>\n",
       "      <td>40.13</td>\n",
       "      <td>RF</td>\n",
       "    </tr>\n",
       "    <tr>\n",
       "      <th>precision</th>\n",
       "      <td>49.04</td>\n",
       "      <td>49.04</td>\n",
       "      <td>55.34</td>\n",
       "      <td>57.99</td>\n",
       "      <td>58.31</td>\n",
       "      <td>56.93</td>\n",
       "      <td>RF</td>\n",
       "    </tr>\n",
       "  </tbody>\n",
       "</table>\n",
       "</div>"
      ],
      "text/plain": [
       "classifier    GNB   LogR    SVM     DT     RF    KNN high score\n",
       "accuracy    57.08  56.99  60.96  62.85  63.39  61.68         RF\n",
       "f1-score    34.97  39.24  47.64  50.95  52.90  47.07         RF\n",
       "recall      27.18  32.70  41.83  45.44  48.41  40.13         RF\n",
       "precision   49.04  49.04  55.34  57.99  58.31  56.93         RF"
      ]
     },
     "metadata": {},
     "output_type": "display_data"
    }
   ],
   "source": [
    "### offer 4 - dataframe with evaluation metrics accuracy, f1-score, recall, precision\n",
    "clf = [\"GNB\", \"LogR\", \"SVM\", \"DT\", \"RF\", \"KNN\"]\n",
    "acc = [acc_gnb_4, acc_lr_4, acc_svm_4, acc_dt_4, acc_rf_4, acc_knn_4]\n",
    "f1 = [f1_gnb_4, f1_lr_4, f1_svm_4, f1_dt_4, f1_rf_4, f1_knn_4]\n",
    "r = [r_gnb_4, r_lr_4, r_svm_4, r_dt_4, r_rf_4, r_knn_4]\n",
    "p = [p_gnb_4, p_lr_4, p_svm_4, p_dt_4, p_rf_4, p_knn_4]\n",
    "offer_4 = pd.DataFrame({\n",
    "    \"classifier\": clf,\n",
    "    \"accuracy\": acc,\n",
    "    \"f1-score\": f1,\n",
    "    \"recall\": r,\n",
    "    \"precision\": p\n",
    "})\n",
    "offer_4.set_index(\"classifier\", inplace = True)\n",
    "offer_4 = offer_4.transpose()\n",
    "offer_4[\"high score\"] = offer_4[[\"GNB\", \"LogR\", \"SVM\", \"DT\", \"RF\", \"KNN\"]].idxmax(axis=1)\n",
    "display(\"Offer 4 - evaluation metrics\", offer_4)"
   ]
  },
  {
   "cell_type": "markdown",
   "metadata": {},
   "source": [
    "<p>Evaluation metric comparison table between classification algorithms - Offer 4:\n",
    "\n",
    "<ul>\n",
    "    <li>The output of the classification is imbalanced for all algorithms as Precision, Recall and F1 scores are not roughly equal</li>\n",
    "    <li>The highest Accuracy score has the algorithm RF</li>\n",
    "    <li>The highest F1 score has the algorithm RF</li>\n",
    "    <li>The Recall is higher than the Precision score for none of the algorithms, whereas RF has the smallest relative difference between both scores</li> \n",
    "</ul>\n",
    "\n",
    "<p><b>We select RF as classification algorithm with best predictive performance!</b> RF has an imbalanced output, as all the other algorithms too, with the highest F1 and Recall score. The Recall is not higher than the Precision score but the relative difference between both scores is smallest of all algorithms."
   ]
  },
  {
   "cell_type": "markdown",
   "metadata": {},
   "source": [
    "#### 5.3.4 offer 5"
   ]
  },
  {
   "cell_type": "code",
   "execution_count": 59,
   "metadata": {},
   "outputs": [
    {
     "data": {
      "text/plain": [
       "'Offer 5 - evaluation metrics'"
      ]
     },
     "metadata": {},
     "output_type": "display_data"
    },
    {
     "data": {
      "text/html": [
       "<div>\n",
       "<style scoped>\n",
       "    .dataframe tbody tr th:only-of-type {\n",
       "        vertical-align: middle;\n",
       "    }\n",
       "\n",
       "    .dataframe tbody tr th {\n",
       "        vertical-align: top;\n",
       "    }\n",
       "\n",
       "    .dataframe thead th {\n",
       "        text-align: right;\n",
       "    }\n",
       "</style>\n",
       "<table border=\"1\" class=\"dataframe\">\n",
       "  <thead>\n",
       "    <tr style=\"text-align: right;\">\n",
       "      <th>classifier</th>\n",
       "      <th>GNB</th>\n",
       "      <th>LogR</th>\n",
       "      <th>SVM</th>\n",
       "      <th>DT</th>\n",
       "      <th>RF</th>\n",
       "      <th>KNN</th>\n",
       "      <th>high score</th>\n",
       "    </tr>\n",
       "  </thead>\n",
       "  <tbody>\n",
       "    <tr>\n",
       "      <th>accuracy</th>\n",
       "      <td>74.51</td>\n",
       "      <td>75.04</td>\n",
       "      <td>75.67</td>\n",
       "      <td>76.21</td>\n",
       "      <td>74.78</td>\n",
       "      <td>75.58</td>\n",
       "      <td>DT</td>\n",
       "    </tr>\n",
       "    <tr>\n",
       "      <th>f1-score</th>\n",
       "      <td>4.04</td>\n",
       "      <td>4.12</td>\n",
       "      <td>13.92</td>\n",
       "      <td>24.43</td>\n",
       "      <td>4.08</td>\n",
       "      <td>9.90</td>\n",
       "      <td>DT</td>\n",
       "    </tr>\n",
       "    <tr>\n",
       "      <th>recall</th>\n",
       "      <td>2.12</td>\n",
       "      <td>2.12</td>\n",
       "      <td>7.77</td>\n",
       "      <td>15.19</td>\n",
       "      <td>2.12</td>\n",
       "      <td>5.30</td>\n",
       "      <td>DT</td>\n",
       "    </tr>\n",
       "    <tr>\n",
       "      <th>precision</th>\n",
       "      <td>42.86</td>\n",
       "      <td>75.00</td>\n",
       "      <td>66.67</td>\n",
       "      <td>62.32</td>\n",
       "      <td>54.55</td>\n",
       "      <td>75.00</td>\n",
       "      <td>LogR</td>\n",
       "    </tr>\n",
       "  </tbody>\n",
       "</table>\n",
       "</div>"
      ],
      "text/plain": [
       "classifier    GNB   LogR    SVM     DT     RF    KNN high score\n",
       "accuracy    74.51  75.04  75.67  76.21  74.78  75.58         DT\n",
       "f1-score     4.04   4.12  13.92  24.43   4.08   9.90         DT\n",
       "recall       2.12   2.12   7.77  15.19   2.12   5.30         DT\n",
       "precision   42.86  75.00  66.67  62.32  54.55  75.00       LogR"
      ]
     },
     "metadata": {},
     "output_type": "display_data"
    }
   ],
   "source": [
    "### offer 5 - dataframe with evaluation metrics accuracy, f1-score, recall, precision\n",
    "clf = [\"GNB\", \"LogR\", \"SVM\", \"DT\", \"RF\", \"KNN\"]\n",
    "acc = [acc_gnb_5, acc_lr_5, acc_svm_5, acc_dt_5, acc_rf_5, acc_knn_5]\n",
    "f1 = [f1_gnb_5, f1_lr_5, f1_svm_5, f1_dt_5, f1_rf_5, f1_knn_5]\n",
    "r = [r_gnb_5, r_lr_5, r_svm_5, r_dt_5, r_rf_5, r_knn_5]\n",
    "p = [p_gnb_5, p_lr_5, p_svm_5, p_dt_5, p_rf_5, p_knn_5]\n",
    "offer_5 = pd.DataFrame({\n",
    "    \"classifier\": clf,\n",
    "    \"accuracy\": acc,\n",
    "    \"f1-score\": f1,\n",
    "    \"recall\": r,\n",
    "    \"precision\": p\n",
    "})\n",
    "offer_5.set_index(\"classifier\", inplace = True)\n",
    "offer_5 = offer_5.transpose()\n",
    "offer_5[\"high score\"] = offer_5[[\"GNB\", \"LogR\", \"SVM\", \"DT\", \"RF\", \"KNN\"]].idxmax(axis=1)\n",
    "display(\"Offer 5 - evaluation metrics\", offer_5)"
   ]
  },
  {
   "cell_type": "markdown",
   "metadata": {},
   "source": [
    "<p>Evaluation metric comparison table between classification algorithms - Offer 5:\n",
    "\n",
    "<ul>\n",
    "    <li>The output of the classification is heavily imbalanced for all algorithms as Precision, Recall and F1 scores are not roughly equal. From chapter 4.3 we can see that offer 5 is the less successful promotional offer with a success rate of appr. 26 %.</li>\n",
    "    <li>The highest Accuracy score has the algorithm DT</li>\n",
    "    <li>The highest F1 score has the algorithm DT</li>\n",
    "    <li>The Recall is higher than the Precision score for none of the algorithms, whereas DT has the highest Recall score</li> \n",
    "</ul>\n",
    "\n",
    "<p><b>We select DT as classification algorithm with best predictive performance!</b> DT has an imbalanced output, as all the other algorithms too, with the highest F1 and Recall score. The Recall is not higher than the Precision score."
   ]
  },
  {
   "cell_type": "markdown",
   "metadata": {},
   "source": [
    "#### 5.3.5 offer 6"
   ]
  },
  {
   "cell_type": "code",
   "execution_count": 60,
   "metadata": {
    "scrolled": true
   },
   "outputs": [
    {
     "data": {
      "text/plain": [
       "'Offer 6 - evaluation metrics'"
      ]
     },
     "metadata": {},
     "output_type": "display_data"
    },
    {
     "data": {
      "text/html": [
       "<div>\n",
       "<style scoped>\n",
       "    .dataframe tbody tr th:only-of-type {\n",
       "        vertical-align: middle;\n",
       "    }\n",
       "\n",
       "    .dataframe tbody tr th {\n",
       "        vertical-align: top;\n",
       "    }\n",
       "\n",
       "    .dataframe thead th {\n",
       "        text-align: right;\n",
       "    }\n",
       "</style>\n",
       "<table border=\"1\" class=\"dataframe\">\n",
       "  <thead>\n",
       "    <tr style=\"text-align: right;\">\n",
       "      <th>classifier</th>\n",
       "      <th>GNB</th>\n",
       "      <th>LogR</th>\n",
       "      <th>SVM</th>\n",
       "      <th>DT</th>\n",
       "      <th>RF</th>\n",
       "      <th>KNN</th>\n",
       "      <th>high score</th>\n",
       "    </tr>\n",
       "  </thead>\n",
       "  <tbody>\n",
       "    <tr>\n",
       "      <th>accuracy</th>\n",
       "      <td>72.87</td>\n",
       "      <td>74.32</td>\n",
       "      <td>74.86</td>\n",
       "      <td>74.23</td>\n",
       "      <td>74.68</td>\n",
       "      <td>75.23</td>\n",
       "      <td>KNN</td>\n",
       "    </tr>\n",
       "    <tr>\n",
       "      <th>f1-score</th>\n",
       "      <td>82.17</td>\n",
       "      <td>84.76</td>\n",
       "      <td>84.94</td>\n",
       "      <td>84.10</td>\n",
       "      <td>85.51</td>\n",
       "      <td>84.91</td>\n",
       "      <td>RF</td>\n",
       "    </tr>\n",
       "    <tr>\n",
       "      <th>recall</th>\n",
       "      <td>83.72</td>\n",
       "      <td>95.63</td>\n",
       "      <td>94.90</td>\n",
       "      <td>91.25</td>\n",
       "      <td>100.00</td>\n",
       "      <td>93.32</td>\n",
       "      <td>RF</td>\n",
       "    </tr>\n",
       "    <tr>\n",
       "      <th>precision</th>\n",
       "      <td>80.68</td>\n",
       "      <td>76.11</td>\n",
       "      <td>76.87</td>\n",
       "      <td>77.99</td>\n",
       "      <td>74.68</td>\n",
       "      <td>77.89</td>\n",
       "      <td>GNB</td>\n",
       "    </tr>\n",
       "  </tbody>\n",
       "</table>\n",
       "</div>"
      ],
      "text/plain": [
       "classifier    GNB   LogR    SVM     DT      RF    KNN high score\n",
       "accuracy    72.87  74.32  74.86  74.23   74.68  75.23        KNN\n",
       "f1-score    82.17  84.76  84.94  84.10   85.51  84.91         RF\n",
       "recall      83.72  95.63  94.90  91.25  100.00  93.32         RF\n",
       "precision   80.68  76.11  76.87  77.99   74.68  77.89        GNB"
      ]
     },
     "metadata": {},
     "output_type": "display_data"
    }
   ],
   "source": [
    "### offer 6 - dataframe with evaluation metrics accuracy, f1-score, recall, precision\n",
    "clf = [\"GNB\", \"LogR\", \"SVM\", \"DT\", \"RF\", \"KNN\"]\n",
    "acc = [acc_gnb_6, acc_lr_6, acc_svm_6, acc_dt_6, acc_rf_6, acc_knn_6]\n",
    "f1 = [f1_gnb_6, f1_lr_6, f1_svm_6, f1_dt_6, f1_rf_6, f1_knn_6]\n",
    "r = [r_gnb_6, r_lr_6, r_svm_6, r_dt_6, r_rf_6, r_knn_6]\n",
    "p = [p_gnb_6, p_lr_6, p_svm_6, p_dt_6, p_rf_6, p_knn_6]\n",
    "offer_6 = pd.DataFrame({\n",
    "    \"classifier\": clf,\n",
    "    \"accuracy\": acc,\n",
    "    \"f1-score\": f1,\n",
    "    \"recall\": r,\n",
    "    \"precision\": p\n",
    "})\n",
    "offer_6.set_index(\"classifier\", inplace = True)\n",
    "offer_6 = offer_6.transpose()\n",
    "offer_6[\"high score\"] = offer_6[[\"GNB\", \"LogR\", \"SVM\", \"DT\", \"RF\", \"KNN\"]].idxmax(axis=1)\n",
    "display(\"Offer 6 - evaluation metrics\", offer_6)"
   ]
  },
  {
   "cell_type": "markdown",
   "metadata": {},
   "source": [
    "<p>Evaluation metric comparison table between classification algorithms - Offer 6:\n",
    "\n",
    "<ul>\n",
    "    <li>The output of the classification is roughly balanced only for the algorithm GNB as Precision, Recall and F1 scores are roughly equal</li>\n",
    "    <li>The highest Accuracy score in a similar range have the algorithms KNN, SVM, RF, LogR and DT (from top to bottom)</li>\n",
    "    <li>The highest F1 score in a similar range have the algorithms RF, SVM, KNN, LogR and DT (from top to bottom)</li>\n",
    "    <li>The Recall is higher than the Precision score for all algorithms</li> \n",
    "</ul>\n",
    "\n",
    "<p><b>We select SVM as classification algorithm with best predictive performance!</b> SVM has an imbalanced output as all other algorithms with Accuracy nearby the highest Accuracy score (KNN) and the second best F1-score after RF. We don't select RF as the model seems to be over-fitted because its Recall is 100 % with 0 True Negative (<i>T<font size=\"-3\">n</font></i>) and 0 False Negative (<i>F<font size=\"-3\">n</font></i>)."
   ]
  },
  {
   "cell_type": "markdown",
   "metadata": {},
   "source": [
    "#### 5.3.6 offer 7"
   ]
  },
  {
   "cell_type": "code",
   "execution_count": 61,
   "metadata": {},
   "outputs": [
    {
     "data": {
      "text/plain": [
       "'Offer 7 - evaluation metrics'"
      ]
     },
     "metadata": {},
     "output_type": "display_data"
    },
    {
     "data": {
      "text/html": [
       "<div>\n",
       "<style scoped>\n",
       "    .dataframe tbody tr th:only-of-type {\n",
       "        vertical-align: middle;\n",
       "    }\n",
       "\n",
       "    .dataframe tbody tr th {\n",
       "        vertical-align: top;\n",
       "    }\n",
       "\n",
       "    .dataframe thead th {\n",
       "        text-align: right;\n",
       "    }\n",
       "</style>\n",
       "<table border=\"1\" class=\"dataframe\">\n",
       "  <thead>\n",
       "    <tr style=\"text-align: right;\">\n",
       "      <th>classifier</th>\n",
       "      <th>GNB</th>\n",
       "      <th>LogR</th>\n",
       "      <th>SVM</th>\n",
       "      <th>DT</th>\n",
       "      <th>RF</th>\n",
       "      <th>KNN</th>\n",
       "      <th>high score</th>\n",
       "    </tr>\n",
       "  </thead>\n",
       "  <tbody>\n",
       "    <tr>\n",
       "      <th>accuracy</th>\n",
       "      <td>74.75</td>\n",
       "      <td>75.20</td>\n",
       "      <td>75.38</td>\n",
       "      <td>74.93</td>\n",
       "      <td>72.50</td>\n",
       "      <td>75.29</td>\n",
       "      <td>SVM</td>\n",
       "    </tr>\n",
       "    <tr>\n",
       "      <th>f1-score</th>\n",
       "      <td>83.07</td>\n",
       "      <td>84.87</td>\n",
       "      <td>84.57</td>\n",
       "      <td>83.76</td>\n",
       "      <td>84.06</td>\n",
       "      <td>84.66</td>\n",
       "      <td>LogR</td>\n",
       "    </tr>\n",
       "    <tr>\n",
       "      <th>recall</th>\n",
       "      <td>85.45</td>\n",
       "      <td>95.90</td>\n",
       "      <td>93.03</td>\n",
       "      <td>89.18</td>\n",
       "      <td>100.00</td>\n",
       "      <td>94.03</td>\n",
       "      <td>RF</td>\n",
       "    </tr>\n",
       "    <tr>\n",
       "      <th>precision</th>\n",
       "      <td>80.82</td>\n",
       "      <td>76.11</td>\n",
       "      <td>77.51</td>\n",
       "      <td>78.96</td>\n",
       "      <td>72.50</td>\n",
       "      <td>76.99</td>\n",
       "      <td>GNB</td>\n",
       "    </tr>\n",
       "  </tbody>\n",
       "</table>\n",
       "</div>"
      ],
      "text/plain": [
       "classifier    GNB   LogR    SVM     DT      RF    KNN high score\n",
       "accuracy    74.75  75.20  75.38  74.93   72.50  75.29        SVM\n",
       "f1-score    83.07  84.87  84.57  83.76   84.06  84.66       LogR\n",
       "recall      85.45  95.90  93.03  89.18  100.00  94.03         RF\n",
       "precision   80.82  76.11  77.51  78.96   72.50  76.99        GNB"
      ]
     },
     "metadata": {},
     "output_type": "display_data"
    }
   ],
   "source": [
    "### offer 7 - dataframe with evaluation metrics accuracy, f1-score, recall, precision\n",
    "clf = [\"GNB\", \"LogR\", \"SVM\", \"DT\", \"RF\", \"KNN\"]\n",
    "acc = [acc_gnb_7, acc_lr_7, acc_svm_7, acc_dt_7, acc_rf_7, acc_knn_7]\n",
    "f1 = [f1_gnb_7, f1_lr_7, f1_svm_7, f1_dt_7, f1_rf_7, f1_knn_7]\n",
    "r = [r_gnb_7, r_lr_7, r_svm_7, r_dt_7, r_rf_7, r_knn_7]\n",
    "p = [p_gnb_7, p_lr_7, p_svm_7, p_dt_7, p_rf_7, p_knn_7]\n",
    "offer_7 = pd.DataFrame({\n",
    "    \"classifier\": clf,\n",
    "    \"accuracy\": acc,\n",
    "    \"f1-score\": f1,\n",
    "    \"recall\": r,\n",
    "    \"precision\": p\n",
    "})\n",
    "offer_7.set_index(\"classifier\", inplace = True)\n",
    "offer_7 = offer_7.transpose()\n",
    "offer_7[\"high score\"] = offer_7[[\"GNB\", \"LogR\", \"SVM\", \"DT\", \"RF\", \"KNN\"]].idxmax(axis=1)\n",
    "display(\"Offer 7 - evaluation metrics\", offer_7)"
   ]
  },
  {
   "cell_type": "markdown",
   "metadata": {},
   "source": [
    "<p>Evaluation metric comparison table between classification algorithms - Offer 7:\n",
    "\n",
    "<ul>\n",
    "    <li>The output of the classification is roughly balanced for only the algorithm GNB as Precision, Recall and F1 scores are roughly equal</li>\n",
    "    <li>The highest Accuracy score in a similar range have all algorithms SVM, KNN, LogR, DT and GNB (from top to bottom)</li>\n",
    "    <li>The highest F1 score in a similar range have the algorithms LogR, KNN, SVM, RF, DT, GNB (from top to bottom)</li>\n",
    "    <li>The Recall is higher than the Precision score for all algorithms</li> \n",
    "</ul>\n",
    "\n",
    "<p><b>We select GNB as classification algorithm with best predictive performance!</b> GNB has as single algorithm a roughly balanced output with an Accuracy nearby the highest Accuracy score (KNN). Furthermore the F1 score is also nearby the highest F1 score (LogR) and the Recall is higher than the Precision score."
   ]
  },
  {
   "cell_type": "markdown",
   "metadata": {},
   "source": [
    "#### 5.3.7 offer 9"
   ]
  },
  {
   "cell_type": "code",
   "execution_count": 62,
   "metadata": {},
   "outputs": [
    {
     "data": {
      "text/plain": [
       "'Offer 9 - evaluation metrics'"
      ]
     },
     "metadata": {},
     "output_type": "display_data"
    },
    {
     "data": {
      "text/html": [
       "<div>\n",
       "<style scoped>\n",
       "    .dataframe tbody tr th:only-of-type {\n",
       "        vertical-align: middle;\n",
       "    }\n",
       "\n",
       "    .dataframe tbody tr th {\n",
       "        vertical-align: top;\n",
       "    }\n",
       "\n",
       "    .dataframe thead th {\n",
       "        text-align: right;\n",
       "    }\n",
       "</style>\n",
       "<table border=\"1\" class=\"dataframe\">\n",
       "  <thead>\n",
       "    <tr style=\"text-align: right;\">\n",
       "      <th>classifier</th>\n",
       "      <th>GNB</th>\n",
       "      <th>LogR</th>\n",
       "      <th>SVM</th>\n",
       "      <th>DT</th>\n",
       "      <th>RF</th>\n",
       "      <th>KNN</th>\n",
       "      <th>high score</th>\n",
       "    </tr>\n",
       "  </thead>\n",
       "  <tbody>\n",
       "    <tr>\n",
       "      <th>accuracy</th>\n",
       "      <td>70.16</td>\n",
       "      <td>70.89</td>\n",
       "      <td>71.63</td>\n",
       "      <td>69.42</td>\n",
       "      <td>68.60</td>\n",
       "      <td>72.54</td>\n",
       "      <td>KNN</td>\n",
       "    </tr>\n",
       "    <tr>\n",
       "      <th>f1-score</th>\n",
       "      <td>77.26</td>\n",
       "      <td>79.97</td>\n",
       "      <td>79.19</td>\n",
       "      <td>77.24</td>\n",
       "      <td>79.20</td>\n",
       "      <td>80.26</td>\n",
       "      <td>KNN</td>\n",
       "    </tr>\n",
       "    <tr>\n",
       "      <th>recall</th>\n",
       "      <td>77.75</td>\n",
       "      <td>89.15</td>\n",
       "      <td>82.82</td>\n",
       "      <td>79.58</td>\n",
       "      <td>91.69</td>\n",
       "      <td>85.63</td>\n",
       "      <td>RF</td>\n",
       "    </tr>\n",
       "    <tr>\n",
       "      <th>precision</th>\n",
       "      <td>76.77</td>\n",
       "      <td>72.51</td>\n",
       "      <td>75.87</td>\n",
       "      <td>75.03</td>\n",
       "      <td>69.70</td>\n",
       "      <td>75.53</td>\n",
       "      <td>GNB</td>\n",
       "    </tr>\n",
       "  </tbody>\n",
       "</table>\n",
       "</div>"
      ],
      "text/plain": [
       "classifier    GNB   LogR    SVM     DT     RF    KNN high score\n",
       "accuracy    70.16  70.89  71.63  69.42  68.60  72.54        KNN\n",
       "f1-score    77.26  79.97  79.19  77.24  79.20  80.26        KNN\n",
       "recall      77.75  89.15  82.82  79.58  91.69  85.63         RF\n",
       "precision   76.77  72.51  75.87  75.03  69.70  75.53        GNB"
      ]
     },
     "metadata": {},
     "output_type": "display_data"
    }
   ],
   "source": [
    "### offer 9 - dataframe with evaluation metrics accuracy, f1-score, recall, precision\n",
    "clf = [\"GNB\", \"LogR\", \"SVM\", \"DT\", \"RF\", \"KNN\"]\n",
    "acc = [acc_gnb_9, acc_lr_9, acc_svm_9, acc_dt_9, acc_rf_9, acc_knn_9]\n",
    "f1 = [f1_gnb_9, f1_lr_9, f1_svm_9, f1_dt_9, f1_rf_9, f1_knn_9]\n",
    "r = [r_gnb_9, r_lr_9, r_svm_9, r_dt_9, r_rf_9, r_knn_9]\n",
    "p = [p_gnb_9, p_lr_9, p_svm_9, p_dt_9, p_rf_9, p_knn_9]\n",
    "offer_9 = pd.DataFrame({\n",
    "    \"classifier\": clf,\n",
    "    \"accuracy\": acc,\n",
    "    \"f1-score\": f1,\n",
    "    \"recall\": r,\n",
    "    \"precision\": p\n",
    "})\n",
    "offer_9.set_index(\"classifier\", inplace = True)\n",
    "offer_9 = offer_9.transpose()\n",
    "offer_9[\"high score\"] = offer_9[[\"GNB\", \"LogR\", \"SVM\", \"DT\", \"RF\", \"KNN\"]].idxmax(axis=1)\n",
    "display(\"Offer 9 - evaluation metrics\", offer_9)"
   ]
  },
  {
   "cell_type": "markdown",
   "metadata": {},
   "source": [
    "<p>Evaluation metric comparison table between classification algorithms - Offer 9:\n",
    "\n",
    "<ul>\n",
    "    <li>The output of the classification is roughly balanced for the algorithms GNB and DT as Precision, Recall and F1 scores are roughly equal. Furthermore it is marginal that the output for the algorithms SVM and KNN is also balanced, but finally we will allocate these two outputs to the balanced class.</li>\n",
    "    <li>The highest Accuracy score has the algorithm KNN</li>\n",
    "    <li>The highest F1 score has the algorithm KNN</li>\n",
    "    <li>The Recall is higher than the Precision score for all of the algorithms, whereas GNB has the smallest relative difference between both scores</li> \n",
    "</ul>\n",
    "\n",
    "<p><b>We select KNN as classification algorithm with best predictive performance!</b> KNN has a roughly balanced output with the highest Accuracy and F1 score and has the Recall higher than the Precision score."
   ]
  },
  {
   "cell_type": "markdown",
   "metadata": {},
   "source": [
    "#### 5.3.8 offer 10"
   ]
  },
  {
   "cell_type": "code",
   "execution_count": 63,
   "metadata": {},
   "outputs": [
    {
     "data": {
      "text/plain": [
       "'Offer 10 - evaluation metrics'"
      ]
     },
     "metadata": {},
     "output_type": "display_data"
    },
    {
     "data": {
      "text/html": [
       "<div>\n",
       "<style scoped>\n",
       "    .dataframe tbody tr th:only-of-type {\n",
       "        vertical-align: middle;\n",
       "    }\n",
       "\n",
       "    .dataframe tbody tr th {\n",
       "        vertical-align: top;\n",
       "    }\n",
       "\n",
       "    .dataframe thead th {\n",
       "        text-align: right;\n",
       "    }\n",
       "</style>\n",
       "<table border=\"1\" class=\"dataframe\">\n",
       "  <thead>\n",
       "    <tr style=\"text-align: right;\">\n",
       "      <th>classifier</th>\n",
       "      <th>GNB</th>\n",
       "      <th>LogR</th>\n",
       "      <th>SVM</th>\n",
       "      <th>DT</th>\n",
       "      <th>RF</th>\n",
       "      <th>KNN</th>\n",
       "      <th>high score</th>\n",
       "    </tr>\n",
       "  </thead>\n",
       "  <tbody>\n",
       "    <tr>\n",
       "      <th>accuracy</th>\n",
       "      <td>59.40</td>\n",
       "      <td>58.67</td>\n",
       "      <td>63.41</td>\n",
       "      <td>63.96</td>\n",
       "      <td>64.23</td>\n",
       "      <td>62.50</td>\n",
       "      <td>RF</td>\n",
       "    </tr>\n",
       "    <tr>\n",
       "      <th>f1-score</th>\n",
       "      <td>37.59</td>\n",
       "      <td>41.55</td>\n",
       "      <td>48.66</td>\n",
       "      <td>51.29</td>\n",
       "      <td>53.99</td>\n",
       "      <td>52.04</td>\n",
       "      <td>RF</td>\n",
       "    </tr>\n",
       "    <tr>\n",
       "      <th>recall</th>\n",
       "      <td>27.92</td>\n",
       "      <td>33.54</td>\n",
       "      <td>39.58</td>\n",
       "      <td>43.33</td>\n",
       "      <td>47.92</td>\n",
       "      <td>46.46</td>\n",
       "      <td>RF</td>\n",
       "    </tr>\n",
       "    <tr>\n",
       "      <th>precision</th>\n",
       "      <td>57.51</td>\n",
       "      <td>54.58</td>\n",
       "      <td>63.12</td>\n",
       "      <td>62.84</td>\n",
       "      <td>61.83</td>\n",
       "      <td>59.15</td>\n",
       "      <td>SVM</td>\n",
       "    </tr>\n",
       "  </tbody>\n",
       "</table>\n",
       "</div>"
      ],
      "text/plain": [
       "classifier    GNB   LogR    SVM     DT     RF    KNN high score\n",
       "accuracy    59.40  58.67  63.41  63.96  64.23  62.50         RF\n",
       "f1-score    37.59  41.55  48.66  51.29  53.99  52.04         RF\n",
       "recall      27.92  33.54  39.58  43.33  47.92  46.46         RF\n",
       "precision   57.51  54.58  63.12  62.84  61.83  59.15        SVM"
      ]
     },
     "metadata": {},
     "output_type": "display_data"
    }
   ],
   "source": [
    "### offer 10 - dataframe with evaluation metrics accuracy, f1-score, recall, precision\n",
    "clf = [\"GNB\", \"LogR\", \"SVM\", \"DT\", \"RF\", \"KNN\"]\n",
    "acc = [acc_gnb_10, acc_lr_10, acc_svm_10, acc_dt_10, acc_rf_10, acc_knn_10]\n",
    "f1 = [f1_gnb_10, f1_lr_10, f1_svm_10, f1_dt_10, f1_rf_10, f1_knn_10]\n",
    "r = [r_gnb_10, r_lr_10, r_svm_10, r_dt_10, r_rf_10, r_knn_10]\n",
    "p = [p_gnb_10, p_lr_10, p_svm_10, p_dt_10, p_rf_10, p_knn_10]\n",
    "offer_10 = pd.DataFrame({\n",
    "    \"classifier\": clf,\n",
    "    \"accuracy\": acc,\n",
    "    \"f1-score\": f1,\n",
    "    \"recall\": r,\n",
    "    \"precision\": p\n",
    "})\n",
    "offer_10.set_index(\"classifier\", inplace = True)\n",
    "offer_10 = offer_10.transpose()\n",
    "offer_10[\"high score\"] = offer_10[[\"GNB\", \"LogR\", \"SVM\", \"DT\", \"RF\", \"KNN\"]].idxmax(axis=1)\n",
    "display(\"Offer 10 - evaluation metrics\", offer_10)"
   ]
  },
  {
   "cell_type": "markdown",
   "metadata": {},
   "source": [
    "<p>Evaluation metric comparison table between classification algorithms - Offer 10:\n",
    "\n",
    "<ul>\n",
    "    <li>The output of the classification is imbalanced for all algorithms as Precision, Recall and F1 scores are not roughly equal. From chapter 4.3 we can see that offer 10 is the second worst promotional offer respective success rate (only 43 % of cases completed).</li>\n",
    "    <li>The highest Accuracy score has the algorithm RF</li>\n",
    "    <li>The highest F1 score has the algorithm RF</li>\n",
    "    <li>The Recall is higher than the Precision score for none of the algorithms, whereas KNN and RF have by far the highest Recall score</li> \n",
    "</ul>\n",
    "\n",
    "<p><b>We select RF as classification algorithm with best predictive performance!</b> RF has an imbalanced output, as all the other algorithms too, with the highest F1 and the second best Recall score. The Recall is not higher than the Precision score."
   ]
  },
  {
   "cell_type": "markdown",
   "metadata": {},
   "source": [
    "### 5.4 Summary Modeling"
   ]
  },
  {
   "cell_type": "code",
   "execution_count": 90,
   "metadata": {},
   "outputs": [
    {
     "data": {
      "text/plain": [
       "'Best parameters (GridSearchCV)'"
      ]
     },
     "metadata": {},
     "output_type": "display_data"
    },
    {
     "data": {
      "text/plain": [
       "\"Offer 1: {'bootstrap': True, 'max_depth': 6, 'max_features': 2, 'min_samples_leaf': 1, 'min_samples_split': 5, 'n_estimators': 20}\""
      ]
     },
     "metadata": {},
     "output_type": "display_data"
    },
    {
     "data": {
      "text/plain": [
       "\"Offer 2: {'bootstrap': True, 'max_depth': 6, 'max_features': 2, 'min_samples_leaf': 1, 'min_samples_split': 5, 'n_estimators': 20}\""
      ]
     },
     "metadata": {},
     "output_type": "display_data"
    },
    {
     "data": {
      "text/plain": [
       "\"Offer 4: {'bootstrap': True, 'max_depth': 6, 'max_features': 2, 'min_samples_leaf': 1, 'min_samples_split': 5, 'n_estimators': 20}\""
      ]
     },
     "metadata": {},
     "output_type": "display_data"
    },
    {
     "data": {
      "text/plain": [
       "\"Offer 5: {'criterion': 'entropy', 'max_depth': None, 'max_features': 0.5, 'min_samples_leaf': 50, 'min_samples_split': 100}\""
      ]
     },
     "metadata": {},
     "output_type": "display_data"
    },
    {
     "data": {
      "text/plain": [
       "\"Offer 6: {'C': 10, 'gamma': 1, 'kernel': 'rbf'}\""
      ]
     },
     "metadata": {},
     "output_type": "display_data"
    },
    {
     "data": {
      "text/plain": [
       "'Offer 7: {}'"
      ]
     },
     "metadata": {},
     "output_type": "display_data"
    },
    {
     "data": {
      "text/plain": [
       "\"Offer 9: {'metric': 'manhattan', 'n_neighbors': 150, 'p': 0.5, 'weights': 'distance'}\""
      ]
     },
     "metadata": {},
     "output_type": "display_data"
    },
    {
     "data": {
      "text/plain": [
       "\"Offer 10: {'bootstrap': True, 'max_depth': 6, 'max_features': 2, 'min_samples_leaf': 1, 'min_samples_split': 5, 'n_estimators': 20}\""
      ]
     },
     "metadata": {},
     "output_type": "display_data"
    }
   ],
   "source": [
    "### best parameters of selected classification algorithms from cross validated grid-search with GridSearchCV\n",
    "display(\"Best parameters (GridSearchCV)\", \n",
    "        \"Offer 1: {}\".format(rf_1.best_params_),\n",
    "       \"Offer 2: {}\".format(rf_2.best_params_),\n",
    "       \"Offer 4: {}\".format(rf_4.best_params_),\n",
    "       \"Offer 5: {}\".format(dt_5.best_params_),\n",
    "       \"Offer 6: {}\".format(svm_6.best_params_),\n",
    "       \"Offer 7: {}\".format(gnb_7.best_params_),\n",
    "       \"Offer 9: {}\".format(knn_9.best_params_),\n",
    "       \"Offer 10: {}\".format(rf_10.best_params_))"
   ]
  },
  {
   "cell_type": "markdown",
   "metadata": {},
   "source": [
    "<p>The result of the modeling gives us a classification algorithm with best predictive performance according to our needs for each individual offer data set. These are summaried as follows including the parameters of the estimator which were optimized by cross-validated grid-search (GridSearchCV):\n",
    "<ul>\n",
    "    <li>offer 1: <b>RF</b> <i>{'bootstrap': True, 'max_depth': 6, 'max_features': 2, 'min_samples_leaf': 1, 'min_samples_split': 5, 'n_estimators': 20}</i></li>\n",
    "    <li>offer 2: <b>RF</b> <i>{'bootstrap': True, 'max_depth': 6, 'max_features': 2, 'min_samples_leaf': 1, 'min_samples_split': 5, 'n_estimators': 20}</i></li>\n",
    "    <li>offer 4: <b>RF</b> <i>{'bootstrap': True, 'max_depth': 6, 'max_features': 2, 'min_samples_leaf': 1, 'min_samples_split': 5, 'n_estimators': 20}</i></li>\n",
    "    <li>offer 5: <b>DT</b> <i>{'criterion': 'entropy', 'max_depth': None, 'max_features': 0.5, 'min_samples_leaf': 50, 'min_samples_split': 100}</i></li>\n",
    "    <li>offer 6: <b>SVM</b> <i>{'C': 10, 'gamma': 1, 'kernel': 'rbf'}</i></li>\n",
    "    <li>offer 7: <b>GNB</b> <i>{}</i></li>\n",
    "    <li>offer 9: <b>KNN</b> <i>{'metric': 'manhattan', 'n_neighbors': 150, 'p': 0.5, 'weights': 'distance'}</i></li>\n",
    "    <li>offer 10: <b>RF</b> <i>{'bootstrap': True, 'max_depth': 6, 'max_features': 2, 'min_samples_leaf': 1, 'min_samples_split': 5, 'n_estimators': 20}</i></li>\n",
    "</ul>"
   ]
  },
  {
   "cell_type": "markdown",
   "metadata": {},
   "source": [
    "### 5.5 Effect of Hyperparameter Tuning"
   ]
  },
  {
   "cell_type": "markdown",
   "metadata": {},
   "source": [
    "<p>In this chapter we measure the effect of hyperparameter tuning by cross-validated grid-search (GridSearchCV). Here we compare the computed metrics Accuracy, F1 score, Recall and Precision once for best parameters (using GridSearchCV) and once for default parameters. The outcome is a percentage of how much the model performed better using GridSearchCV."
   ]
  },
  {
   "cell_type": "markdown",
   "metadata": {},
   "source": [
    "#### 5.5.1 offer 1"
   ]
  },
  {
   "cell_type": "code",
   "execution_count": 98,
   "metadata": {},
   "outputs": [
    {
     "name": "stdout",
     "output_type": "stream",
     "text": [
      "#######################################################\n",
      "Offer 1 - confusion matrix:\n",
      "[[358 220]\n",
      " [196 339]] \n",
      "\n",
      "Offer 1 - classification report:\n",
      "              precision    recall  f1-score   support\n",
      "\n",
      "           0       0.65      0.62      0.63       578\n",
      "           1       0.61      0.63      0.62       535\n",
      "\n",
      "    accuracy                           0.63      1113\n",
      "   macro avg       0.63      0.63      0.63      1113\n",
      "weighted avg       0.63      0.63      0.63      1113\n",
      "\n",
      "Offer 1: Accuracy: 62.62 % | F1-score: 61.97 % \n",
      "        Recall: 63.36 % | Precision: 60.64 % \n",
      "\n"
     ]
    },
    {
     "data": {
      "text/plain": [
       "'Offer 1 - effect of hyperparameter tuning '"
      ]
     },
     "metadata": {},
     "output_type": "display_data"
    },
    {
     "data": {
      "text/html": [
       "<div>\n",
       "<style scoped>\n",
       "    .dataframe tbody tr th:only-of-type {\n",
       "        vertical-align: middle;\n",
       "    }\n",
       "\n",
       "    .dataframe tbody tr th {\n",
       "        vertical-align: top;\n",
       "    }\n",
       "\n",
       "    .dataframe thead th {\n",
       "        text-align: right;\n",
       "    }\n",
       "</style>\n",
       "<table border=\"1\" class=\"dataframe\">\n",
       "  <thead>\n",
       "    <tr style=\"text-align: right;\">\n",
       "      <th>classifier</th>\n",
       "      <th>best params</th>\n",
       "      <th>default params</th>\n",
       "      <th>improvement [%]</th>\n",
       "    </tr>\n",
       "  </thead>\n",
       "  <tbody>\n",
       "    <tr>\n",
       "      <th>accuracy</th>\n",
       "      <td>66.04</td>\n",
       "      <td>62.62</td>\n",
       "      <td>3.4</td>\n",
       "    </tr>\n",
       "    <tr>\n",
       "      <th>f1-score</th>\n",
       "      <td>65.82</td>\n",
       "      <td>61.97</td>\n",
       "      <td>3.8</td>\n",
       "    </tr>\n",
       "    <tr>\n",
       "      <th>recall</th>\n",
       "      <td>68.04</td>\n",
       "      <td>63.36</td>\n",
       "      <td>4.7</td>\n",
       "    </tr>\n",
       "    <tr>\n",
       "      <th>precision</th>\n",
       "      <td>63.75</td>\n",
       "      <td>60.64</td>\n",
       "      <td>3.1</td>\n",
       "    </tr>\n",
       "  </tbody>\n",
       "</table>\n",
       "</div>"
      ],
      "text/plain": [
       "classifier  best params  default params  improvement [%]\n",
       "accuracy          66.04           62.62              3.4\n",
       "f1-score          65.82           61.97              3.8\n",
       "recall            68.04           63.36              4.7\n",
       "precision         63.75           60.64              3.1"
      ]
     },
     "metadata": {},
     "output_type": "display_data"
    }
   ],
   "source": [
    "### define parameters and classifier for best algorithm with default parameters\n",
    "parameters = {}\n",
    "RF = RandomForestClassifier()\n",
    "clf = GridSearchCV(RF, parameters)\n",
    "\n",
    "### train classifier, predict on test set and compute evaluation metrics\n",
    "rf_1_d, acc_rf_1_d, f1_rf_1_d, r_rf_1_d, p_rf_1_d = classifier(clf, 1, X1_train, X1_test, y1_train, y1_test)\n",
    "rf_1_default_params = [acc_rf_1_d, f1_rf_1_d, r_rf_1_d, p_rf_1_d]\n",
    "\n",
    "\n",
    "### create dataframe with column for best params\n",
    "offer_1_RF = offer_1[[\"RF\"]]\n",
    "offer_1_RF.rename(columns={\"RF\": \"best params\"}, inplace = True)\n",
    "### create column for default params\n",
    "offer_1_RF[\"default params\"] = rf_1_default_params\n",
    "### create column for computing proportion of improvement of hyperparameter tuning with GridSearchCV\n",
    "offer_1_RF[\"improvement [%]\"] = round((offer_1_RF[\"best params\"] - offer_1_RF[\"default params\"]),1)\n",
    "\n",
    "display(\"Offer 1 - effect of hyperparameter tuning \", offer_1_RF)"
   ]
  },
  {
   "cell_type": "markdown",
   "metadata": {},
   "source": [
    "<p>The classification algorithm with best predictive performance is <b>Random Forest (RF)</b>. The effect of hyperparameter tuning for this algorithm results in <b>appr. 3 to 5 % higher values</b> for the metrics <b>Accuracy, F1-Score, Recall and Precision</b>."
   ]
  },
  {
   "cell_type": "markdown",
   "metadata": {},
   "source": [
    "#### 5.5.2 offer 2"
   ]
  },
  {
   "cell_type": "code",
   "execution_count": 99,
   "metadata": {},
   "outputs": [
    {
     "name": "stdout",
     "output_type": "stream",
     "text": [
      "#######################################################\n",
      "Offer 2 - confusion matrix:\n",
      "[[388 150]\n",
      " [192 373]] \n",
      "\n",
      "Offer 2 - classification report:\n",
      "              precision    recall  f1-score   support\n",
      "\n",
      "           0       0.67      0.72      0.69       538\n",
      "           1       0.71      0.66      0.69       565\n",
      "\n",
      "    accuracy                           0.69      1103\n",
      "   macro avg       0.69      0.69      0.69      1103\n",
      "weighted avg       0.69      0.69      0.69      1103\n",
      "\n",
      "Offer 2: Accuracy: 68.99 % | F1-score: 68.57 % \n",
      "        Recall: 66.02 % | Precision: 71.32 % \n",
      "\n"
     ]
    },
    {
     "data": {
      "text/plain": [
       "'Offer 2 - effect of hyperparameter tuning '"
      ]
     },
     "metadata": {},
     "output_type": "display_data"
    },
    {
     "data": {
      "text/html": [
       "<div>\n",
       "<style scoped>\n",
       "    .dataframe tbody tr th:only-of-type {\n",
       "        vertical-align: middle;\n",
       "    }\n",
       "\n",
       "    .dataframe tbody tr th {\n",
       "        vertical-align: top;\n",
       "    }\n",
       "\n",
       "    .dataframe thead th {\n",
       "        text-align: right;\n",
       "    }\n",
       "</style>\n",
       "<table border=\"1\" class=\"dataframe\">\n",
       "  <thead>\n",
       "    <tr style=\"text-align: right;\">\n",
       "      <th>classifier</th>\n",
       "      <th>best params</th>\n",
       "      <th>default params</th>\n",
       "      <th>improvement [%]</th>\n",
       "    </tr>\n",
       "  </thead>\n",
       "  <tbody>\n",
       "    <tr>\n",
       "      <th>accuracy</th>\n",
       "      <td>71.26</td>\n",
       "      <td>68.99</td>\n",
       "      <td>2.3</td>\n",
       "    </tr>\n",
       "    <tr>\n",
       "      <th>f1-score</th>\n",
       "      <td>71.10</td>\n",
       "      <td>68.57</td>\n",
       "      <td>2.5</td>\n",
       "    </tr>\n",
       "    <tr>\n",
       "      <th>recall</th>\n",
       "      <td>69.03</td>\n",
       "      <td>66.02</td>\n",
       "      <td>3.0</td>\n",
       "    </tr>\n",
       "    <tr>\n",
       "      <th>precision</th>\n",
       "      <td>73.31</td>\n",
       "      <td>71.32</td>\n",
       "      <td>2.0</td>\n",
       "    </tr>\n",
       "  </tbody>\n",
       "</table>\n",
       "</div>"
      ],
      "text/plain": [
       "classifier  best params  default params  improvement [%]\n",
       "accuracy          71.26           68.99              2.3\n",
       "f1-score          71.10           68.57              2.5\n",
       "recall            69.03           66.02              3.0\n",
       "precision         73.31           71.32              2.0"
      ]
     },
     "metadata": {},
     "output_type": "display_data"
    }
   ],
   "source": [
    "### define parameters and classifier for best algorithm with default parameters\n",
    "parameters = {}\n",
    "RF = RandomForestClassifier()\n",
    "clf = GridSearchCV(RF, parameters)\n",
    "\n",
    "### train classifier, predict on test set and compute evaluation metrics\n",
    "rf_2_d, acc_rf_2_d, f1_rf_2_d, r_rf_2_d, p_rf_2_d = classifier(clf, 2, X2_train, X2_test, y2_train, y2_test)\n",
    "rf_2_default_params = [acc_rf_2_d, f1_rf_2_d, r_rf_2_d, p_rf_2_d]\n",
    "\n",
    "\n",
    "### create dataframe with column for best params\n",
    "offer_2_RF = offer_2[[\"RF\"]]\n",
    "offer_2_RF.rename(columns={\"RF\": \"best params\"}, inplace = True)\n",
    "### create column for default params\n",
    "offer_2_RF[\"default params\"] = rf_2_default_params\n",
    "### create column for computing proportion of improvement of hyperparameter tuning with GridSearchCV\n",
    "offer_2_RF[\"improvement [%]\"] = round((offer_2_RF[\"best params\"] - offer_2_RF[\"default params\"]),1)\n",
    "\n",
    "display(\"Offer 2 - effect of hyperparameter tuning \", offer_2_RF)"
   ]
  },
  {
   "cell_type": "markdown",
   "metadata": {},
   "source": [
    "<p>The classification algorithm with best predictive performance is <b>Random Forest (RF)</b>. The effect of hyperparameter tuning for this algorithm results in <b>appr. 2 to 3 % higher values</b> for the metrics <b>Accuracy, F1-Score, Recall and Precision</b>."
   ]
  },
  {
   "cell_type": "markdown",
   "metadata": {},
   "source": [
    "#### 5.5.3 offer 4"
   ]
  },
  {
   "cell_type": "code",
   "execution_count": 100,
   "metadata": {},
   "outputs": [
    {
     "name": "stdout",
     "output_type": "stream",
     "text": [
      "#######################################################\n",
      "Offer 4 - confusion matrix:\n",
      "[[455 183]\n",
      " [236 235]] \n",
      "\n",
      "Offer 4 - classification report:\n",
      "              precision    recall  f1-score   support\n",
      "\n",
      "           0       0.66      0.71      0.68       638\n",
      "           1       0.56      0.50      0.53       471\n",
      "\n",
      "    accuracy                           0.62      1109\n",
      "   macro avg       0.61      0.61      0.61      1109\n",
      "weighted avg       0.62      0.62      0.62      1109\n",
      "\n",
      "Offer 4: Accuracy: 62.22 % | F1-score: 52.87 % \n",
      "        Recall: 49.89 % | Precision: 56.22 % \n",
      "\n"
     ]
    },
    {
     "data": {
      "text/plain": [
       "'Offer 4 - effect of hyperparameter tuning '"
      ]
     },
     "metadata": {},
     "output_type": "display_data"
    },
    {
     "data": {
      "text/html": [
       "<div>\n",
       "<style scoped>\n",
       "    .dataframe tbody tr th:only-of-type {\n",
       "        vertical-align: middle;\n",
       "    }\n",
       "\n",
       "    .dataframe tbody tr th {\n",
       "        vertical-align: top;\n",
       "    }\n",
       "\n",
       "    .dataframe thead th {\n",
       "        text-align: right;\n",
       "    }\n",
       "</style>\n",
       "<table border=\"1\" class=\"dataframe\">\n",
       "  <thead>\n",
       "    <tr style=\"text-align: right;\">\n",
       "      <th>classifier</th>\n",
       "      <th>best params</th>\n",
       "      <th>default params</th>\n",
       "      <th>improvement [%]</th>\n",
       "    </tr>\n",
       "  </thead>\n",
       "  <tbody>\n",
       "    <tr>\n",
       "      <th>accuracy</th>\n",
       "      <td>63.39</td>\n",
       "      <td>62.22</td>\n",
       "      <td>1.2</td>\n",
       "    </tr>\n",
       "    <tr>\n",
       "      <th>f1-score</th>\n",
       "      <td>52.90</td>\n",
       "      <td>52.87</td>\n",
       "      <td>0.0</td>\n",
       "    </tr>\n",
       "    <tr>\n",
       "      <th>recall</th>\n",
       "      <td>48.41</td>\n",
       "      <td>49.89</td>\n",
       "      <td>-1.5</td>\n",
       "    </tr>\n",
       "    <tr>\n",
       "      <th>precision</th>\n",
       "      <td>58.31</td>\n",
       "      <td>56.22</td>\n",
       "      <td>2.1</td>\n",
       "    </tr>\n",
       "  </tbody>\n",
       "</table>\n",
       "</div>"
      ],
      "text/plain": [
       "classifier  best params  default params  improvement [%]\n",
       "accuracy          63.39           62.22              1.2\n",
       "f1-score          52.90           52.87              0.0\n",
       "recall            48.41           49.89             -1.5\n",
       "precision         58.31           56.22              2.1"
      ]
     },
     "metadata": {},
     "output_type": "display_data"
    }
   ],
   "source": [
    "### define parameters and classifier for best algorithm with default parameters\n",
    "parameters = {}\n",
    "RF = RandomForestClassifier()\n",
    "clf = GridSearchCV(RF, parameters)\n",
    "\n",
    "### train classifier, predict on test set and compute evaluation metrics\n",
    "rf_4_d, acc_rf_4_d, f1_rf_4_d, r_rf_4_d, p_rf_4_d = classifier(clf, 4, X4_train, X4_test, y4_train, y4_test)\n",
    "rf_4_default_params = [acc_rf_4_d, f1_rf_4_d, r_rf_4_d, p_rf_4_d]\n",
    "\n",
    "\n",
    "### create dataframe with column for best params\n",
    "offer_4_RF = offer_4[[\"RF\"]]\n",
    "offer_4_RF.rename(columns={\"RF\": \"best params\"}, inplace = True)\n",
    "### create column for default params\n",
    "offer_4_RF[\"default params\"] = rf_4_default_params\n",
    "### create column for computing proportion of improvement of hyperparameter tuning with GridSearchCV\n",
    "offer_4_RF[\"improvement [%]\"] = round((offer_4_RF[\"best params\"] - offer_4_RF[\"default params\"]),1)\n",
    "\n",
    "display(\"Offer 4 - effect of hyperparameter tuning \", offer_4_RF)"
   ]
  },
  {
   "cell_type": "markdown",
   "metadata": {},
   "source": [
    "<p>The classification algorithm with best predictive performance is <b>Random Forest (RF)</b>. The effect of hyperparameter tuning for this algorithm results in <b>appr. 0 to 1 % higher values</b> for the metrics <b>Accuracy</b> and <b>F1-Score</b>. For <b>Recall</b> we have a deterioration of <b>appr. 1 %</b> and for <b>Precision</b> we have an <b>appr. 2 %</b> higher value. Furthermore we can observe that the class imbalance increases."
   ]
  },
  {
   "cell_type": "markdown",
   "metadata": {},
   "source": [
    "#### 5.5.4 offer 5"
   ]
  },
  {
   "cell_type": "code",
   "execution_count": 101,
   "metadata": {},
   "outputs": [
    {
     "name": "stdout",
     "output_type": "stream",
     "text": [
      "#######################################################\n",
      "Offer 5 - confusion matrix:\n",
      "[[619 216]\n",
      " [191  92]] \n",
      "\n",
      "Offer 5 - classification report:\n",
      "              precision    recall  f1-score   support\n",
      "\n",
      "           0       0.76      0.74      0.75       835\n",
      "           1       0.30      0.33      0.31       283\n",
      "\n",
      "    accuracy                           0.64      1118\n",
      "   macro avg       0.53      0.53      0.53      1118\n",
      "weighted avg       0.65      0.64      0.64      1118\n",
      "\n",
      "Offer 5: Accuracy: 63.6 % | F1-score: 31.13 % \n",
      "        Recall: 32.51 % | Precision: 29.87 % \n",
      "\n"
     ]
    },
    {
     "data": {
      "text/plain": [
       "'Offer 5 - effect of hyperparameter tuning '"
      ]
     },
     "metadata": {},
     "output_type": "display_data"
    },
    {
     "data": {
      "text/html": [
       "<div>\n",
       "<style scoped>\n",
       "    .dataframe tbody tr th:only-of-type {\n",
       "        vertical-align: middle;\n",
       "    }\n",
       "\n",
       "    .dataframe tbody tr th {\n",
       "        vertical-align: top;\n",
       "    }\n",
       "\n",
       "    .dataframe thead th {\n",
       "        text-align: right;\n",
       "    }\n",
       "</style>\n",
       "<table border=\"1\" class=\"dataframe\">\n",
       "  <thead>\n",
       "    <tr style=\"text-align: right;\">\n",
       "      <th>classifier</th>\n",
       "      <th>best params</th>\n",
       "      <th>default params</th>\n",
       "      <th>improvement [%]</th>\n",
       "    </tr>\n",
       "  </thead>\n",
       "  <tbody>\n",
       "    <tr>\n",
       "      <th>accuracy</th>\n",
       "      <td>76.21</td>\n",
       "      <td>63.60</td>\n",
       "      <td>12.6</td>\n",
       "    </tr>\n",
       "    <tr>\n",
       "      <th>f1-score</th>\n",
       "      <td>24.43</td>\n",
       "      <td>31.13</td>\n",
       "      <td>-6.7</td>\n",
       "    </tr>\n",
       "    <tr>\n",
       "      <th>recall</th>\n",
       "      <td>15.19</td>\n",
       "      <td>32.51</td>\n",
       "      <td>-17.3</td>\n",
       "    </tr>\n",
       "    <tr>\n",
       "      <th>precision</th>\n",
       "      <td>62.32</td>\n",
       "      <td>29.87</td>\n",
       "      <td>32.4</td>\n",
       "    </tr>\n",
       "  </tbody>\n",
       "</table>\n",
       "</div>"
      ],
      "text/plain": [
       "classifier  best params  default params  improvement [%]\n",
       "accuracy          76.21           63.60             12.6\n",
       "f1-score          24.43           31.13             -6.7\n",
       "recall            15.19           32.51            -17.3\n",
       "precision         62.32           29.87             32.4"
      ]
     },
     "metadata": {},
     "output_type": "display_data"
    }
   ],
   "source": [
    "### define parameters and classifier for best algorithm with default parameters\n",
    "parameters = {}\n",
    "DT = DecisionTreeClassifier()\n",
    "clf = GridSearchCV(DT, parameters)\n",
    "\n",
    "### train classifier, predict on test set and compute evaluation metrics\n",
    "dt_5_d, acc_dt_5_d, f1_dt_5_d, r_dt_5_d, p_dt_5_d = classifier(clf, 5, X5_train, X5_test, y5_train, y5_test)\n",
    "dt_5_default_params = [acc_dt_5_d, f1_dt_5_d, r_dt_5_d, p_dt_5_d]\n",
    "\n",
    "\n",
    "### create dataframe with column for best params\n",
    "offer_5_DT = offer_5[[\"DT\"]]\n",
    "offer_5_DT.rename(columns={\"DT\": \"best params\"}, inplace = True)\n",
    "### create column for default params\n",
    "offer_5_DT[\"default params\"] = dt_5_default_params\n",
    "### create column for computing proportion of improvement of hyperparameter tuning with GridSearchCV\n",
    "offer_5_DT[\"improvement [%]\"] = round((offer_5_DT[\"best params\"] - offer_5_DT[\"default params\"]),1)\n",
    "\n",
    "display(\"Offer 5 - effect of hyperparameter tuning \", offer_5_DT)"
   ]
  },
  {
   "cell_type": "markdown",
   "metadata": {},
   "source": [
    "<p>The classification algorithm with best predictive performance is <b>Decision Tree (DT)</b>. The effect of hyperparameter tuning for this algorithm results in <b>appr. 13 % higher value</b> for the metric <b>Accuracy</b>. For <b>F1-Score</b> and <b>Recall</b> we have a deterioration of <b>7 %</b> respectively <b>17 %</b>. For <b>Precision</b> we have <b>appr. 32 %</b> higher value. Furthermore we can observe that the class imbalance increases.\n",
    "\n",
    "<p>In this case it is advisible to go one step back and tune the algorithm once again with slightly different parameters using GridSearchCV to get better metrics. This won't be done in this analysis."
   ]
  },
  {
   "cell_type": "markdown",
   "metadata": {},
   "source": [
    "#### 5.5.5 offer 6"
   ]
  },
  {
   "cell_type": "code",
   "execution_count": 102,
   "metadata": {},
   "outputs": [
    {
     "name": "stdout",
     "output_type": "stream",
     "text": [
      "#######################################################\n",
      "Offer 6 - confusion matrix:\n",
      "[[ 15 264]\n",
      " [ 21 802]] \n",
      "\n",
      "Offer 6 - classification report:\n",
      "              precision    recall  f1-score   support\n",
      "\n",
      "           0       0.42      0.05      0.10       279\n",
      "           1       0.75      0.97      0.85       823\n",
      "\n",
      "    accuracy                           0.74      1102\n",
      "   macro avg       0.58      0.51      0.47      1102\n",
      "weighted avg       0.67      0.74      0.66      1102\n",
      "\n",
      "Offer 6: Accuracy: 74.14 % | F1-score: 84.91 % \n",
      "        Recall: 97.45 % | Precision: 75.23 % \n",
      "\n"
     ]
    },
    {
     "data": {
      "text/plain": [
       "'Offer 6 - effect of hyperparameter tuning '"
      ]
     },
     "metadata": {},
     "output_type": "display_data"
    },
    {
     "data": {
      "text/html": [
       "<div>\n",
       "<style scoped>\n",
       "    .dataframe tbody tr th:only-of-type {\n",
       "        vertical-align: middle;\n",
       "    }\n",
       "\n",
       "    .dataframe tbody tr th {\n",
       "        vertical-align: top;\n",
       "    }\n",
       "\n",
       "    .dataframe thead th {\n",
       "        text-align: right;\n",
       "    }\n",
       "</style>\n",
       "<table border=\"1\" class=\"dataframe\">\n",
       "  <thead>\n",
       "    <tr style=\"text-align: right;\">\n",
       "      <th>classifier</th>\n",
       "      <th>best params</th>\n",
       "      <th>default params</th>\n",
       "      <th>improvement [%]</th>\n",
       "    </tr>\n",
       "  </thead>\n",
       "  <tbody>\n",
       "    <tr>\n",
       "      <th>accuracy</th>\n",
       "      <td>74.86</td>\n",
       "      <td>74.14</td>\n",
       "      <td>0.7</td>\n",
       "    </tr>\n",
       "    <tr>\n",
       "      <th>f1-score</th>\n",
       "      <td>84.94</td>\n",
       "      <td>84.91</td>\n",
       "      <td>0.0</td>\n",
       "    </tr>\n",
       "    <tr>\n",
       "      <th>recall</th>\n",
       "      <td>94.90</td>\n",
       "      <td>97.45</td>\n",
       "      <td>-2.5</td>\n",
       "    </tr>\n",
       "    <tr>\n",
       "      <th>precision</th>\n",
       "      <td>76.87</td>\n",
       "      <td>75.23</td>\n",
       "      <td>1.6</td>\n",
       "    </tr>\n",
       "  </tbody>\n",
       "</table>\n",
       "</div>"
      ],
      "text/plain": [
       "classifier  best params  default params  improvement [%]\n",
       "accuracy          74.86           74.14              0.7\n",
       "f1-score          84.94           84.91              0.0\n",
       "recall            94.90           97.45             -2.5\n",
       "precision         76.87           75.23              1.6"
      ]
     },
     "metadata": {},
     "output_type": "display_data"
    }
   ],
   "source": [
    "### define parameters and classifier for best algorithm with default parameters\n",
    "parameters = {}\n",
    "SVM = SVC()\n",
    "clf = GridSearchCV(SVM, parameters)\n",
    "\n",
    "### train classifier, predict on test set and compute evaluation metrics\n",
    "svm_6_d, acc_svm_6_d, f1_svm_6_d, r_svm_6_d, p_svm_6_d = classifier(clf, 6, X6_train, X6_test, y6_train, y6_test)\n",
    "svm_6_default_params = [acc_svm_6_d, f1_svm_6_d, r_svm_6_d, p_svm_6_d]\n",
    "\n",
    "\n",
    "### create dataframe with column for best params\n",
    "offer_6_SVM = offer_6[[\"SVM\"]]\n",
    "offer_6_SVM.rename(columns={\"SVM\": \"best params\"}, inplace = True)\n",
    "### create column for default params\n",
    "offer_6_SVM[\"default params\"] = svm_6_default_params\n",
    "### create column for computing proportion of improvement of hyperparameter tuning with GridSearchCV\n",
    "offer_6_SVM[\"improvement [%]\"] = round((offer_6_SVM[\"best params\"] - offer_6_SVM[\"default params\"]),1)\n",
    "\n",
    "display(\"Offer 6 - effect of hyperparameter tuning \", offer_6_SVM)"
   ]
  },
  {
   "cell_type": "markdown",
   "metadata": {},
   "source": [
    "<p>The classification algorithm with best predictive performance is <b>Support Vector Machines (SVM)</b>. The effect of hyperparameter tuning for this algorithm results in <b>appr. 0 to 1 % higher values</b> for the metrics <b>Accuracy</b> and <b>F1-Score</b>. For <b>Recall</b> we have a deterioration of <b>appr. 2 %</b> and for <b>Precision</b> we have an <b>appr. 2 %</b> higher value. Furthermore we can observe that the class imbalance decreases.\n",
    "    \n",
    "<p>In this case we have done better with best parameters as we have a higher Accuracy and the class imbalance decreased compared to the default parameters."
   ]
  },
  {
   "cell_type": "markdown",
   "metadata": {},
   "source": [
    "#### 5.5.6 offer 7"
   ]
  },
  {
   "cell_type": "code",
   "execution_count": 103,
   "metadata": {},
   "outputs": [
    {
     "name": "stdout",
     "output_type": "stream",
     "text": [
      "#######################################################\n",
      "Offer 7 - confusion matrix:\n",
      "[[142 163]\n",
      " [117 687]] \n",
      "\n",
      "Offer 7 - classification report:\n",
      "              precision    recall  f1-score   support\n",
      "\n",
      "           0       0.55      0.47      0.50       305\n",
      "           1       0.81      0.85      0.83       804\n",
      "\n",
      "    accuracy                           0.75      1109\n",
      "   macro avg       0.68      0.66      0.67      1109\n",
      "weighted avg       0.74      0.75      0.74      1109\n",
      "\n",
      "Offer 7: Accuracy: 74.75 % | F1-score: 83.07 % \n",
      "        Recall: 85.45 % | Precision: 80.82 % \n",
      "\n"
     ]
    },
    {
     "data": {
      "text/plain": [
       "'Offer 7 - effect of hyperparameter tuning '"
      ]
     },
     "metadata": {},
     "output_type": "display_data"
    },
    {
     "data": {
      "text/html": [
       "<div>\n",
       "<style scoped>\n",
       "    .dataframe tbody tr th:only-of-type {\n",
       "        vertical-align: middle;\n",
       "    }\n",
       "\n",
       "    .dataframe tbody tr th {\n",
       "        vertical-align: top;\n",
       "    }\n",
       "\n",
       "    .dataframe thead th {\n",
       "        text-align: right;\n",
       "    }\n",
       "</style>\n",
       "<table border=\"1\" class=\"dataframe\">\n",
       "  <thead>\n",
       "    <tr style=\"text-align: right;\">\n",
       "      <th>classifier</th>\n",
       "      <th>best params</th>\n",
       "      <th>default params</th>\n",
       "      <th>improvement [%]</th>\n",
       "    </tr>\n",
       "  </thead>\n",
       "  <tbody>\n",
       "    <tr>\n",
       "      <th>accuracy</th>\n",
       "      <td>74.75</td>\n",
       "      <td>74.75</td>\n",
       "      <td>0.0</td>\n",
       "    </tr>\n",
       "    <tr>\n",
       "      <th>f1-score</th>\n",
       "      <td>83.07</td>\n",
       "      <td>83.07</td>\n",
       "      <td>0.0</td>\n",
       "    </tr>\n",
       "    <tr>\n",
       "      <th>recall</th>\n",
       "      <td>85.45</td>\n",
       "      <td>85.45</td>\n",
       "      <td>0.0</td>\n",
       "    </tr>\n",
       "    <tr>\n",
       "      <th>precision</th>\n",
       "      <td>80.82</td>\n",
       "      <td>80.82</td>\n",
       "      <td>0.0</td>\n",
       "    </tr>\n",
       "  </tbody>\n",
       "</table>\n",
       "</div>"
      ],
      "text/plain": [
       "classifier  best params  default params  improvement [%]\n",
       "accuracy          74.75           74.75              0.0\n",
       "f1-score          83.07           83.07              0.0\n",
       "recall            85.45           85.45              0.0\n",
       "precision         80.82           80.82              0.0"
      ]
     },
     "metadata": {},
     "output_type": "display_data"
    }
   ],
   "source": [
    "### define parameters and classifier for best algorithm with default parameters\n",
    "parameters = {}\n",
    "GNB = StratifiedKFold()\n",
    "clf = GridSearchCV(GaussianNB(), cv=GNB, param_grid=parameters)\n",
    "\n",
    "### train classifier, predict on test set and compute evaluation metrics\n",
    "gnb_7_d, acc_gnb_7_d, f1_gnb_7_d, r_gnb_7_d, p_gnb_7_d = classifier(clf, 7, X7_train, X7_test, y7_train, y7_test)\n",
    "gnb_7_default_params = [acc_gnb_7_d, f1_gnb_7_d, r_gnb_7_d, p_gnb_7_d]\n",
    "\n",
    "\n",
    "### create dataframe with column for best params\n",
    "offer_7_GNB = offer_7[[\"GNB\"]]\n",
    "offer_7_GNB.rename(columns={\"GNB\": \"best params\"}, inplace = True)\n",
    "### create column for default params\n",
    "offer_7_GNB[\"default params\"] = gnb_7_default_params\n",
    "### create column for computing proportion of improvement of hyperparameter tuning with GridSearchCV\n",
    "offer_7_GNB[\"improvement [%]\"] = round((offer_7_GNB[\"best params\"] - offer_7_GNB[\"default params\"]),1)\n",
    "\n",
    "display(\"Offer 7 - effect of hyperparameter tuning \", offer_7_GNB)"
   ]
  },
  {
   "cell_type": "markdown",
   "metadata": {},
   "source": [
    "<p>The classification algorithm with best predictive performance is <b>Gaussian Naive Bayes (GNB)</b>. There is no hyperparameter tuning possible for this classifier and therefore The effect of hyperparameter tuning for this algorithm the metrics <b>Accuracy, F1-Score, Recall and Precision</b> remain the same."
   ]
  },
  {
   "cell_type": "markdown",
   "metadata": {},
   "source": [
    "#### 5.5.7 offer 9"
   ]
  },
  {
   "cell_type": "code",
   "execution_count": 104,
   "metadata": {},
   "outputs": [
    {
     "name": "stdout",
     "output_type": "stream",
     "text": [
      "#######################################################\n",
      "Offer 9 - confusion matrix:\n",
      "[[175 204]\n",
      " [156 554]] \n",
      "\n",
      "Offer 9 - classification report:\n",
      "              precision    recall  f1-score   support\n",
      "\n",
      "           0       0.53      0.46      0.49       379\n",
      "           1       0.73      0.78      0.75       710\n",
      "\n",
      "    accuracy                           0.67      1089\n",
      "   macro avg       0.63      0.62      0.62      1089\n",
      "weighted avg       0.66      0.67      0.66      1089\n",
      "\n",
      "Offer 9: Accuracy: 66.94 % | F1-score: 75.48 % \n",
      "        Recall: 78.03 % | Precision: 73.09 % \n",
      "\n"
     ]
    },
    {
     "data": {
      "text/plain": [
       "'Offer 9 - effect of hyperparameter tuning '"
      ]
     },
     "metadata": {},
     "output_type": "display_data"
    },
    {
     "data": {
      "text/html": [
       "<div>\n",
       "<style scoped>\n",
       "    .dataframe tbody tr th:only-of-type {\n",
       "        vertical-align: middle;\n",
       "    }\n",
       "\n",
       "    .dataframe tbody tr th {\n",
       "        vertical-align: top;\n",
       "    }\n",
       "\n",
       "    .dataframe thead th {\n",
       "        text-align: right;\n",
       "    }\n",
       "</style>\n",
       "<table border=\"1\" class=\"dataframe\">\n",
       "  <thead>\n",
       "    <tr style=\"text-align: right;\">\n",
       "      <th>classifier</th>\n",
       "      <th>best params</th>\n",
       "      <th>default params</th>\n",
       "      <th>improvement [%]</th>\n",
       "    </tr>\n",
       "  </thead>\n",
       "  <tbody>\n",
       "    <tr>\n",
       "      <th>accuracy</th>\n",
       "      <td>72.54</td>\n",
       "      <td>66.94</td>\n",
       "      <td>5.6</td>\n",
       "    </tr>\n",
       "    <tr>\n",
       "      <th>f1-score</th>\n",
       "      <td>80.26</td>\n",
       "      <td>75.48</td>\n",
       "      <td>4.8</td>\n",
       "    </tr>\n",
       "    <tr>\n",
       "      <th>recall</th>\n",
       "      <td>85.63</td>\n",
       "      <td>78.03</td>\n",
       "      <td>7.6</td>\n",
       "    </tr>\n",
       "    <tr>\n",
       "      <th>precision</th>\n",
       "      <td>75.53</td>\n",
       "      <td>73.09</td>\n",
       "      <td>2.4</td>\n",
       "    </tr>\n",
       "  </tbody>\n",
       "</table>\n",
       "</div>"
      ],
      "text/plain": [
       "classifier  best params  default params  improvement [%]\n",
       "accuracy          72.54           66.94              5.6\n",
       "f1-score          80.26           75.48              4.8\n",
       "recall            85.63           78.03              7.6\n",
       "precision         75.53           73.09              2.4"
      ]
     },
     "metadata": {},
     "output_type": "display_data"
    }
   ],
   "source": [
    "### define parameters and classifier for best algorithm with default parameters\n",
    "parameters = {}\n",
    "KNN = KNeighborsClassifier()\n",
    "clf = GridSearchCV(KNN, parameters) \n",
    "\n",
    "### train classifier, predict on test set and compute evaluation metrics\n",
    "knn_9_d, acc_knn_9_d, f1_knn_9_d, r_knn_9_d, p_knn_9_d = classifier(clf, 9, X9_train, X9_test, y9_train, y9_test)\n",
    "knn_9_default_params = [acc_knn_9_d, f1_knn_9_d, r_knn_9_d, p_knn_9_d]\n",
    "\n",
    "\n",
    "### create dataframe with column for best params\n",
    "offer_9_KNN = offer_9[[\"KNN\"]]\n",
    "offer_9_KNN.rename(columns={\"KNN\": \"best params\"}, inplace = True)\n",
    "### create column for default params\n",
    "offer_9_KNN[\"default params\"] = knn_9_default_params\n",
    "### create column for computing proportion of improvement of hyperparameter tuning with GridSearchCV\n",
    "offer_9_KNN[\"improvement [%]\"] = round((offer_9_KNN[\"best params\"] - offer_9_KNN[\"default params\"]),1)\n",
    "\n",
    "display(\"Offer 9 - effect of hyperparameter tuning \", offer_9_KNN)"
   ]
  },
  {
   "cell_type": "markdown",
   "metadata": {},
   "source": [
    "<p>The classification algorithm with best predictive performance is <b>K Nearest Neighbor (KNN)</b>. The effect of hyperparameter tuning for this algorithm results in <b>appr. 5 to 6 % higher values</b> for the metrics <b>Accuracy</b> and <b>F1-Score</b>. For <b>Recall</b> and <b>Precision</b> we have <b>appr. 8 %</b> respectively <b>appr. 2 %</b> higher values."
   ]
  },
  {
   "cell_type": "markdown",
   "metadata": {},
   "source": [
    "#### 5.5.8 offer 10"
   ]
  },
  {
   "cell_type": "code",
   "execution_count": 105,
   "metadata": {
    "scrolled": false
   },
   "outputs": [
    {
     "name": "stdout",
     "output_type": "stream",
     "text": [
      "#######################################################\n",
      "Offer 10 - confusion matrix:\n",
      "[[451 165]\n",
      " [246 234]] \n",
      "\n",
      "Offer 10 - classification report:\n",
      "              precision    recall  f1-score   support\n",
      "\n",
      "           0       0.65      0.73      0.69       616\n",
      "           1       0.59      0.49      0.53       480\n",
      "\n",
      "    accuracy                           0.62      1096\n",
      "   macro avg       0.62      0.61      0.61      1096\n",
      "weighted avg       0.62      0.62      0.62      1096\n",
      "\n",
      "Offer 10: Accuracy: 62.5 % | F1-score: 53.24 % \n",
      "        Recall: 48.75 % | Precision: 58.65 % \n",
      "\n"
     ]
    },
    {
     "data": {
      "text/plain": [
       "'Offer 10 - effect of hyperparameter tuning '"
      ]
     },
     "metadata": {},
     "output_type": "display_data"
    },
    {
     "data": {
      "text/html": [
       "<div>\n",
       "<style scoped>\n",
       "    .dataframe tbody tr th:only-of-type {\n",
       "        vertical-align: middle;\n",
       "    }\n",
       "\n",
       "    .dataframe tbody tr th {\n",
       "        vertical-align: top;\n",
       "    }\n",
       "\n",
       "    .dataframe thead th {\n",
       "        text-align: right;\n",
       "    }\n",
       "</style>\n",
       "<table border=\"1\" class=\"dataframe\">\n",
       "  <thead>\n",
       "    <tr style=\"text-align: right;\">\n",
       "      <th>classifier</th>\n",
       "      <th>best params</th>\n",
       "      <th>default params</th>\n",
       "      <th>improvement [%]</th>\n",
       "    </tr>\n",
       "  </thead>\n",
       "  <tbody>\n",
       "    <tr>\n",
       "      <th>accuracy</th>\n",
       "      <td>64.23</td>\n",
       "      <td>62.50</td>\n",
       "      <td>1.7</td>\n",
       "    </tr>\n",
       "    <tr>\n",
       "      <th>f1-score</th>\n",
       "      <td>53.99</td>\n",
       "      <td>53.24</td>\n",
       "      <td>0.8</td>\n",
       "    </tr>\n",
       "    <tr>\n",
       "      <th>recall</th>\n",
       "      <td>47.92</td>\n",
       "      <td>48.75</td>\n",
       "      <td>-0.8</td>\n",
       "    </tr>\n",
       "    <tr>\n",
       "      <th>precision</th>\n",
       "      <td>61.83</td>\n",
       "      <td>58.65</td>\n",
       "      <td>3.2</td>\n",
       "    </tr>\n",
       "  </tbody>\n",
       "</table>\n",
       "</div>"
      ],
      "text/plain": [
       "classifier  best params  default params  improvement [%]\n",
       "accuracy          64.23           62.50              1.7\n",
       "f1-score          53.99           53.24              0.8\n",
       "recall            47.92           48.75             -0.8\n",
       "precision         61.83           58.65              3.2"
      ]
     },
     "metadata": {},
     "output_type": "display_data"
    }
   ],
   "source": [
    "### define parameters and classifier for best algorithm with default parameters\n",
    "parameters = {}\n",
    "RF = RandomForestClassifier()\n",
    "clf = GridSearchCV(RF, parameters)\n",
    "\n",
    "### train classifier, predict on test set and compute evaluation metrics\n",
    "rf_10_d, acc_rf_10_d, f1_rf_10_d, r_rf_10_d, p_rf_10_d = classifier(clf, 10, X10_train, X10_test, y10_train, y10_test)\n",
    "rf_10_default_params = [acc_rf_10_d, f1_rf_10_d, r_rf_10_d, p_rf_10_d]\n",
    "\n",
    "\n",
    "### create dataframe with column for best params\n",
    "offer_10_RF = offer_10[[\"RF\"]]\n",
    "offer_10_RF.rename(columns={\"RF\": \"best params\"}, inplace = True)\n",
    "### create column for default params\n",
    "offer_10_RF[\"default params\"] = rf_10_default_params\n",
    "### create column for computing proportion of improvement of hyperparameter tuning with GridSearchCV\n",
    "offer_10_RF[\"improvement [%]\"] = round((offer_10_RF[\"best params\"] - offer_10_RF[\"default params\"]),1)\n",
    "\n",
    "display(\"Offer 10 - effect of hyperparameter tuning \", offer_10_RF)"
   ]
  },
  {
   "cell_type": "markdown",
   "metadata": {},
   "source": [
    "<p>The classification algorithm with best predictive performance is <b>Random Forest (RF)</b>. The effect of hyperparameter tuning for this algorithm results in <b>appr. 1 to 2 % higher values</b> for the metrics <b>Accuracy</b> and <b>F1-Score</b>. For <b>Recall</b> we have a deterioration of <b>appr. 1 %</b> and for <b>Precision</b> we have an <b>appr. 3 %</b> higher value. Furthermore we can observe that the class imbalance increases."
   ]
  },
  {
   "cell_type": "markdown",
   "metadata": {},
   "source": [
    "#### 5.5.9 Summary Hyperparameter Tuning"
   ]
  },
  {
   "cell_type": "markdown",
   "metadata": {},
   "source": [
    "<p>We measured the effect of hyperparameter tuning by cross-validated grid-search (GridSearchCV). Below we summarize where we had success with parameter tuning and where it would be advisible to go one step back and tune the algorithm once again with slightly different parameters.\n",
    "<ul>\n",
    "    <li>offer 1: <b>RF</b> - hyperparameter tuning was fully successful and increased metrics Accuracy, F1-Score, Recall and Precision by 3 to 5 %</li>\n",
    "    <li>offer 2: <b>RF</b> - hyperparameter tuning was fully successful and increased metrics Accuracy, F1-Score, Recall and Precision by 1 to 3 %</li>\n",
    "    <li>offer 4: <b>RF</b> - hyperparameter tuning was successful and increased metrics Accuracy, F1-Score and Precision by 0 to 2 %. Recall score decreased by 1 % which can be neglected</li>\n",
    "    <li>offer 5: <b>DT</b> - hyperparameter tuning was partially successful and increased metrics Accuracy and Precision by 13 and 32 %. F1 and Recall score decreased by 7 and 17 %. It has to be considered that going back and tune the algorithm once again with slightly different parameters would get us better metrics</li>\n",
    "    <li>offer 6: <b>SVM</b>  - hyperparameter tuning was modestly successful and increased metrics Accuracy, F1-Score and Precision by 0 to 2 %. Recall score decreased by 2 % which can be neglected</li>\n",
    "    <li>offer 7: <b>GNB</b> - no hyperparameter tuning possible for this classifier</li>\n",
    "    <li>offer 9: <b>KNN</b>  - hyperparameter tuning was fully successful and increased metrics Accuracy, F1-Score, Recall and Precision by 2 to 8 %</li>\n",
    "    <li>offer 10: <b>RF</b> - hyperparameter tuning was successful and increased metrics Accuracy, F1-Score and Precision by 1 to 3 %. Recall score decreased by 1 % which can be neglected</li>\n",
    "</ul>\n",
    "\n",
    "<p>Thus the results of the hyperparameter tuning are satisfying for algorithms RF, SVM, GNB and KNN. For the Decision Tree (DT) we should consider to tune the algorithm once again with slightly different parameters."
   ]
  },
  {
   "cell_type": "markdown",
   "metadata": {},
   "source": [
    "## 6 Deployment <a class='anchor' id='deployment'></a>"
   ]
  },
  {
   "cell_type": "markdown",
   "metadata": {},
   "source": [
    "<p>We built in chapter 5 machine learning models, one for each single offer, to predict which promotional offers will be completed by customers. We validated the trained models on test data and selected algorithm with best predictive performance according its evaluation metrics. Now we will deploy these trained models to predict whether a new customer with provided data of its age, income, registration date and gender would complete the promotional offer or not. \n",
    "\n",
    "<p>In real business life companies like Starbucks could investigate customer preferences on specific promotional offers before sending out offers to these customers. In this investigation we would filter out which customers would likely complete a specific offer and which ones would not. Thus as benefit the company would save expenses by not sending offers to customers who very likely won't respond to it and for the customers it would be pleasant to not get stalked by any additional advertising the customer is not interested in. \n",
    "    \n",
    "<p>In the following we build up a dataframe of 10 fictitious customers with information on their age, income, registration date and gender. With this data we will predict which offer would be completed by which customer using the machine learning models we selected to have the best predictive performance:  "
   ]
  },
  {
   "cell_type": "code",
   "execution_count": 106,
   "metadata": {
    "scrolled": true
   },
   "outputs": [
    {
     "data": {
      "text/html": [
       "<div>\n",
       "<style scoped>\n",
       "    .dataframe tbody tr th:only-of-type {\n",
       "        vertical-align: middle;\n",
       "    }\n",
       "\n",
       "    .dataframe tbody tr th {\n",
       "        vertical-align: top;\n",
       "    }\n",
       "\n",
       "    .dataframe thead th {\n",
       "        text-align: right;\n",
       "    }\n",
       "</style>\n",
       "<table border=\"1\" class=\"dataframe\">\n",
       "  <thead>\n",
       "    <tr style=\"text-align: right;\">\n",
       "      <th></th>\n",
       "      <th>age</th>\n",
       "      <th>became_member_on</th>\n",
       "      <th>income year (USD)</th>\n",
       "      <th>gender</th>\n",
       "    </tr>\n",
       "  </thead>\n",
       "  <tbody>\n",
       "    <tr>\n",
       "      <th>customer_01</th>\n",
       "      <td>20</td>\n",
       "      <td>2013-07-29</td>\n",
       "      <td>60000</td>\n",
       "      <td>M</td>\n",
       "    </tr>\n",
       "    <tr>\n",
       "      <th>customer_02</th>\n",
       "      <td>25</td>\n",
       "      <td>2016-07-29</td>\n",
       "      <td>40000</td>\n",
       "      <td>F</td>\n",
       "    </tr>\n",
       "    <tr>\n",
       "      <th>customer_03</th>\n",
       "      <td>30</td>\n",
       "      <td>2018-07-26</td>\n",
       "      <td>100000</td>\n",
       "      <td>F</td>\n",
       "    </tr>\n",
       "    <tr>\n",
       "      <th>customer_04</th>\n",
       "      <td>35</td>\n",
       "      <td>2013-07-29</td>\n",
       "      <td>100000</td>\n",
       "      <td>F</td>\n",
       "    </tr>\n",
       "    <tr>\n",
       "      <th>customer_05</th>\n",
       "      <td>45</td>\n",
       "      <td>2016-07-29</td>\n",
       "      <td>70000</td>\n",
       "      <td>O</td>\n",
       "    </tr>\n",
       "    <tr>\n",
       "      <th>customer_06</th>\n",
       "      <td>50</td>\n",
       "      <td>2018-07-26</td>\n",
       "      <td>40000</td>\n",
       "      <td>M</td>\n",
       "    </tr>\n",
       "    <tr>\n",
       "      <th>customer_07</th>\n",
       "      <td>55</td>\n",
       "      <td>2013-07-29</td>\n",
       "      <td>30000</td>\n",
       "      <td>F</td>\n",
       "    </tr>\n",
       "    <tr>\n",
       "      <th>customer_08</th>\n",
       "      <td>60</td>\n",
       "      <td>2015-07-29</td>\n",
       "      <td>80000</td>\n",
       "      <td>F</td>\n",
       "    </tr>\n",
       "    <tr>\n",
       "      <th>customer_09</th>\n",
       "      <td>70</td>\n",
       "      <td>2017-07-29</td>\n",
       "      <td>40000</td>\n",
       "      <td>F</td>\n",
       "    </tr>\n",
       "    <tr>\n",
       "      <th>customer_10</th>\n",
       "      <td>80</td>\n",
       "      <td>2017-07-29</td>\n",
       "      <td>100000</td>\n",
       "      <td>M</td>\n",
       "    </tr>\n",
       "  </tbody>\n",
       "</table>\n",
       "</div>"
      ],
      "text/plain": [
       "             age became_member_on  income year (USD) gender\n",
       "customer_01   20       2013-07-29              60000      M\n",
       "customer_02   25       2016-07-29              40000      F\n",
       "customer_03   30       2018-07-26             100000      F\n",
       "customer_04   35       2013-07-29             100000      F\n",
       "customer_05   45       2016-07-29              70000      O\n",
       "customer_06   50       2018-07-26              40000      M\n",
       "customer_07   55       2013-07-29              30000      F\n",
       "customer_08   60       2015-07-29              80000      F\n",
       "customer_09   70       2017-07-29              40000      F\n",
       "customer_10   80       2017-07-29             100000      M"
      ]
     },
     "metadata": {},
     "output_type": "display_data"
    }
   ],
   "source": [
    "### create dataframe with new customer data for prediction promomtion success\n",
    "customer_id = [\"customer_01\", \"customer_02\", \"customer_03\", \"customer_04\", \"customer_05\", \n",
    "               \"customer_06\", \"customer_07\", \"customer_08\", \"customer_09\", \"customer_10\"]\n",
    "age = [20, 25, 30, 35, 45, 50, 55, 60, 70, 80 ] # range: 18 - 101\n",
    "became_member_on = [\"2013-07-29\", \"2016-07-29\", \"2018-07-26\", \"2013-07-29\", \"2016-07-29\",\n",
    "                   \"2018-07-26\", \"2013-07-29\", \"2015-07-29\", \"2017-07-29\", \"2017-07-29\"] # range: 2013-07-29 - 2018-07-26\n",
    "income_year = [60000, 40000, 100000, 100000, 70000, 40000, 30000, 80000, 40000, 100000] # range: 30000 - 120000\n",
    "gender = [\"M\", \"F\", \"F\", \"F\", \"O\", \"M\", \"F\", \"F\", \"F\", \"M\"]\n",
    "\n",
    "customer_data = pd.DataFrame(\n",
    "    {\"age\": age,\n",
    "     \"became_member_on\": became_member_on,\n",
    "     \"income year (USD)\": income_year,\n",
    "     \"gender\": gender,\n",
    "     }, index = customer_id)\n",
    "display(customer_data)"
   ]
  },
  {
   "cell_type": "code",
   "execution_count": 67,
   "metadata": {},
   "outputs": [],
   "source": [
    "### add dummy columns for gender type categories. \n",
    "dummies_gender = pd.get_dummies(customer_data[\"gender\"], columns = [\"gender\"])\n",
    "customer_data = pd.concat([customer_data, dummies_gender.set_index(customer_data.index)], axis = 1)\n",
    "del customer_data[\"gender\"]\n",
    "\n",
    "### convert Dtype from object to datetime64\n",
    "customer_data[\"became_member_on\"] = pd.to_datetime(customer_data[\"became_member_on\"])\n",
    "### convert Dtype from datetime64 to ordinal\n",
    "customer_data[\"became_member_on\"] = customer_data[\"became_member_on\"].map(datetime.datetime.toordinal)\n",
    "\n",
    "### scale features of new customer data\n",
    "def scale_feature(ref_col, scale_col):\n",
    "    \"\"\"\n",
    "    Method for scaling one selected features column on min max values of a reference dataframe (i.e. master)\n",
    "\n",
    "    Args:\n",
    "        ref_df (pd.Series): Series with values whereof min and max values are taken for scaling\n",
    "        scale_df (pd.Series): Series with values of the same category as ref_df to be scaled\n",
    "\n",
    "    Returns:\n",
    "        scaled_values (pd.Series): Series with scaled values\n",
    "    \"\"\"\n",
    "    scaled_values = (scale_col - ref_col.min()) / (ref_col.max() - ref_col.min())\n",
    "\n",
    "    return scaled_values\n",
    "\n",
    "### scale columns age, become_member_on, income_year of new customer data\n",
    "customer_data[\"age\"] = scale_feature(master[\"age\"], customer_data[\"age\"])\n",
    "customer_data[\"became_member_on\"] = scale_feature(master[\"became_member_on\"], customer_data[\"became_member_on\"])\n",
    "customer_data[\"income year (USD)\"] = scale_feature(master[\"income year (USD)\"], customer_data[\"income year (USD)\"])"
   ]
  },
  {
   "cell_type": "code",
   "execution_count": 68,
   "metadata": {
    "scrolled": false
   },
   "outputs": [
    {
     "data": {
      "text/plain": [
       "'Overview table with promotion success prediction for test customers'"
      ]
     },
     "metadata": {},
     "output_type": "display_data"
    },
    {
     "data": {
      "text/html": [
       "<div>\n",
       "<style scoped>\n",
       "    .dataframe tbody tr th:only-of-type {\n",
       "        vertical-align: middle;\n",
       "    }\n",
       "\n",
       "    .dataframe tbody tr th {\n",
       "        vertical-align: top;\n",
       "    }\n",
       "\n",
       "    .dataframe thead th {\n",
       "        text-align: right;\n",
       "    }\n",
       "</style>\n",
       "<table border=\"1\" class=\"dataframe\">\n",
       "  <thead>\n",
       "    <tr style=\"text-align: right;\">\n",
       "      <th></th>\n",
       "      <th>offer_01</th>\n",
       "      <th>offer_02</th>\n",
       "      <th>offer_04</th>\n",
       "      <th>offer_05</th>\n",
       "      <th>offer_06</th>\n",
       "      <th>offer_07</th>\n",
       "      <th>offer_09</th>\n",
       "      <th>offer_10</th>\n",
       "      <th>sum success</th>\n",
       "    </tr>\n",
       "  </thead>\n",
       "  <tbody>\n",
       "    <tr>\n",
       "      <th>customer_01</th>\n",
       "      <td>0</td>\n",
       "      <td>0</td>\n",
       "      <td>0</td>\n",
       "      <td>0</td>\n",
       "      <td>0</td>\n",
       "      <td>0</td>\n",
       "      <td>0</td>\n",
       "      <td>0</td>\n",
       "      <td>0</td>\n",
       "    </tr>\n",
       "    <tr>\n",
       "      <th>customer_02</th>\n",
       "      <td>0</td>\n",
       "      <td>0</td>\n",
       "      <td>0</td>\n",
       "      <td>0</td>\n",
       "      <td>0</td>\n",
       "      <td>0</td>\n",
       "      <td>0</td>\n",
       "      <td>0</td>\n",
       "      <td>0</td>\n",
       "    </tr>\n",
       "    <tr>\n",
       "      <th>customer_03</th>\n",
       "      <td>1</td>\n",
       "      <td>0</td>\n",
       "      <td>1</td>\n",
       "      <td>0</td>\n",
       "      <td>0</td>\n",
       "      <td>0</td>\n",
       "      <td>0</td>\n",
       "      <td>1</td>\n",
       "      <td>3</td>\n",
       "    </tr>\n",
       "    <tr>\n",
       "      <th>customer_04</th>\n",
       "      <td>1</td>\n",
       "      <td>1</td>\n",
       "      <td>1</td>\n",
       "      <td>1</td>\n",
       "      <td>1</td>\n",
       "      <td>1</td>\n",
       "      <td>1</td>\n",
       "      <td>1</td>\n",
       "      <td>8</td>\n",
       "    </tr>\n",
       "    <tr>\n",
       "      <th>customer_05</th>\n",
       "      <td>1</td>\n",
       "      <td>1</td>\n",
       "      <td>1</td>\n",
       "      <td>1</td>\n",
       "      <td>1</td>\n",
       "      <td>1</td>\n",
       "      <td>1</td>\n",
       "      <td>1</td>\n",
       "      <td>8</td>\n",
       "    </tr>\n",
       "    <tr>\n",
       "      <th>customer_06</th>\n",
       "      <td>0</td>\n",
       "      <td>0</td>\n",
       "      <td>0</td>\n",
       "      <td>0</td>\n",
       "      <td>0</td>\n",
       "      <td>0</td>\n",
       "      <td>0</td>\n",
       "      <td>0</td>\n",
       "      <td>0</td>\n",
       "    </tr>\n",
       "    <tr>\n",
       "      <th>customer_07</th>\n",
       "      <td>0</td>\n",
       "      <td>0</td>\n",
       "      <td>0</td>\n",
       "      <td>0</td>\n",
       "      <td>0</td>\n",
       "      <td>1</td>\n",
       "      <td>0</td>\n",
       "      <td>0</td>\n",
       "      <td>1</td>\n",
       "    </tr>\n",
       "    <tr>\n",
       "      <th>customer_08</th>\n",
       "      <td>1</td>\n",
       "      <td>1</td>\n",
       "      <td>1</td>\n",
       "      <td>1</td>\n",
       "      <td>1</td>\n",
       "      <td>1</td>\n",
       "      <td>1</td>\n",
       "      <td>1</td>\n",
       "      <td>8</td>\n",
       "    </tr>\n",
       "    <tr>\n",
       "      <th>customer_09</th>\n",
       "      <td>0</td>\n",
       "      <td>0</td>\n",
       "      <td>0</td>\n",
       "      <td>0</td>\n",
       "      <td>0</td>\n",
       "      <td>0</td>\n",
       "      <td>0</td>\n",
       "      <td>0</td>\n",
       "      <td>0</td>\n",
       "    </tr>\n",
       "    <tr>\n",
       "      <th>customer_10</th>\n",
       "      <td>0</td>\n",
       "      <td>1</td>\n",
       "      <td>0</td>\n",
       "      <td>0</td>\n",
       "      <td>0</td>\n",
       "      <td>0</td>\n",
       "      <td>1</td>\n",
       "      <td>0</td>\n",
       "      <td>2</td>\n",
       "    </tr>\n",
       "  </tbody>\n",
       "</table>\n",
       "</div>"
      ],
      "text/plain": [
       "             offer_01  offer_02  offer_04  offer_05  offer_06  offer_07  \\\n",
       "customer_01         0         0         0         0         0         0   \n",
       "customer_02         0         0         0         0         0         0   \n",
       "customer_03         1         0         1         0         0         0   \n",
       "customer_04         1         1         1         1         1         1   \n",
       "customer_05         1         1         1         1         1         1   \n",
       "customer_06         0         0         0         0         0         0   \n",
       "customer_07         0         0         0         0         0         1   \n",
       "customer_08         1         1         1         1         1         1   \n",
       "customer_09         0         0         0         0         0         0   \n",
       "customer_10         0         1         0         0         0         0   \n",
       "\n",
       "             offer_09  offer_10  sum success  \n",
       "customer_01         0         0            0  \n",
       "customer_02         0         0            0  \n",
       "customer_03         0         1            3  \n",
       "customer_04         1         1            8  \n",
       "customer_05         1         1            8  \n",
       "customer_06         0         0            0  \n",
       "customer_07         0         0            1  \n",
       "customer_08         1         1            8  \n",
       "customer_09         0         0            0  \n",
       "customer_10         1         0            2  "
      ]
     },
     "metadata": {},
     "output_type": "display_data"
    }
   ],
   "source": [
    "### predict promotion success for new customer data with selected trained classifier\n",
    "pred_offer_1 = rf_1.predict(customer_data)\n",
    "pred_offer_2 = knn_2.predict(customer_data)\n",
    "pred_offer_4 = rf_4.predict(customer_data)\n",
    "pred_offer_5 = dt_5.predict(customer_data)\n",
    "pred_offer_6 = svm_6.predict(customer_data)\n",
    "pred_offer_7 = gnb_7.predict(customer_data)\n",
    "pred_offer_9 = knn_9.predict(customer_data)\n",
    "pred_offer_10 = rf_10.predict(customer_data)\n",
    "\n",
    "### create dataframe\n",
    "pred_offer = pd.DataFrame(\n",
    "    {\"offer_01\": pred_offer_1,\n",
    "     \"offer_02\": pred_offer_2,\n",
    "     \"offer_04\": pred_offer_4,\n",
    "     \"offer_05\": pred_offer_5,\n",
    "     \"offer_06\": pred_offer_6,\n",
    "     \"offer_07\": pred_offer_7,\n",
    "     \"offer_09\": pred_offer_9,\n",
    "     \"offer_10\": pred_offer_10,\n",
    "     }, index = customer_id)\n",
    "\n",
    "pred_offer[\"sum success\"] = pred_offer[[\"offer_01\", \"offer_02\", \"offer_04\", \n",
    "                                        \"offer_05\", \"offer_06\", \"offer_07\", \n",
    "                                        \"offer_09\", \"offer_10\"]].sum(axis=1)\n",
    "\n",
    "display(\"Overview table with promotion success prediction for test customers\", pred_offer)"
   ]
  },
  {
   "cell_type": "markdown",
   "metadata": {},
   "source": [
    "<p>The outcome of the promotion success prediction table gives us following valuable informations:\n",
    "<ul>\n",
    "    <li><b>Customer_01</b> is a 20 year old man with middle income who is registered for a long time. According our prediction he would complete none of the offers.</li>\n",
    "    <li><b>Customer_02</b> is a 25 year old woman with lower income who is registered somewhere in the middle. According our prediction she would complete none of the offers.</li>\n",
    "    <li><b>Customer_03</b> is a 30 year old woman with high income who is registered for short time. According our prediction she would complete none of the offers.</li>\n",
    "    <li><b>Customer_04</b> is a 35 year old woman with high income who is registered for long time. According our prediction she would complete offers 2, 5, 6, 7 and 9 (5 of 8). She is a customer who increases companies revenue and therefore we would send her the aforementioned offers.</li>\n",
    "    <li><b>Customer_05</b> is a 45 year old person with middle income who is registered somewhere in the middle. According our prediction the customer would complete all offers and is therefore the perfect customer who increases companies revenue. We would send him all offers.</li>\n",
    "    <li><b>Customer_06</b> is a 50 year old man with lower income who is registered for a short time. According our prediction he would complete none of the offers.</li>\n",
    "    <li><b>Customer_07</b> is a 55 year old woman with lower income who is registered for a short time. According our prediction she would complete only offer 7. We will send her the aforementioned offer.</li>\n",
    "    <li><b>Customer_08</b> is a 60 year old woman with middle to high income who is registered somewhere in the middle. According our prediction the customer would complete all offers and is therefore the perfect customer who increases companies revenue. We would send her all offers.</li>\n",
    "    <li><b>Customer_09</b> is a 70 year old woman with lower income who is registered for a short time. According our prediction she would complete none of the offers.</li>\n",
    "    <li><b>Customer_10</b> is a 80 year old man with high income who is registered for short time. According our prediction she would complete offers 2 and 9 (2 of 8). She is a customer who increases companies revenue and therefore we would send her the aforementioned offers.</li>\n",
    "</ul>\n",
    "\n",
    "<h4>Conclusion</h4>\n",
    "<p>In total we would send out 24 offers to these 10 customers according our prediction. Without our analysis we would have sent out 80 offers (10 customers * 8 offers). \n",
    "<p>Due to our target-oriented procedure we only send out 30 % of the offers (compared to case if we would have sent all offers to all 10 customers) and would probably achieve almost the number of completions as if we would have sent all offers to all customers. This procedure can be used in real business life with the benefits that the company will save expenses and not to many customers would feel stalked by undesirable adverising they aren't interested in.\n",
    "    \n",
    "\n",
    "<h4>Improvements and further devolpements of analysis and model</h4>\n",
    "<p>In this analysis and modeling we focused on building a classification model to predict promotional offer success for new customers based on their demographical data age, income, registration date and gender.\n",
    "\n",
    "<p>In another subsequent analysis we could improve predictive performance by:\n",
    "<ul>\n",
    "    <li>differentiate when one customer received same offer multiple times and analyize for each of these multiple times received offer whether it was successful or not (in current analysis promotion was determined as successful when customer completed at least once the offer)</li>\n",
    "    <li>find or create new variable with optional customer demographics to be used as additional feature for the modeling part</li>\n",
    "    <li>look for other classification algorithm</li>\n",
    "    <li>use kfold for cross validation to optimize model performance</li>\n",
    "</ul>\n",
    "\n",
    "<p>Or we could investigate following subject we might be interested in:\n",
    "<ul>\n",
    "    <li>predict expected transaction amount one customer would spend when completing an offers to determine which offers are most successful in generating revenue (one offer could have poor success rate but could produce high transactional amounts)</li>\n",
    "    <li>analyze how informational offers, which cannot be completed by a transaction, influence the purchasing of a customer</li>\n",
    "    <li>analyze how channel type for communication the promotional offer influence the completion of an offer</li>\n",
    "    <li>find out which meta data (like height of discount or duration of offer) of an offer has most influence on offer success</li>\n",
    "</ul>"
   ]
  },
  {
   "cell_type": "code",
   "execution_count": 107,
   "metadata": {},
   "outputs": [
    {
     "data": {
      "text/plain": [
       "0"
      ]
     },
     "execution_count": 107,
     "metadata": {},
     "output_type": "execute_result"
    }
   ],
   "source": [
    "from subprocess import call\n",
    "call([\"python\", \"-m\", \"nbconvert\", \"Starbucks_Capstone_notebook.ipynb\"])"
   ]
  },
  {
   "cell_type": "markdown",
   "metadata": {},
   "source": [
    "## References <a class='anchor' id='references'></a>"
   ]
  },
  {
   "cell_type": "markdown",
   "metadata": {},
   "source": [
    "<ul style=\"list-style-type:none\">\n",
    "    <li>[1] Starbucks Wikipedia article: <a href=\"url\">https://en.wikipedia.org/wiki/Starbucks</a></li>\n",
    "    <li>[2] Udacity Data Scientist Nanodegree Course Material: Starbucks Capstone Project jupyter notebook template: <a href=\"url\">https://classroom.udacity.com/nanodegrees/nd025/parts/84260e1f-2926-4127-895f-cc4432b05059/modules/78dd932d-67a7-4039-9907-f8e6211e4590/lessons/d6285247-6bc0-4783-b118-6f41981b9469/concepts/59623bdf-9fdf-4b34-a5f8-c56dc75fc512/</a></li>\n",
    "    <li>[3] t-test: <a href=\"url\">https://docs.scipy.org/doc/scipy/reference/generated/scipy.stats.ttest_ind.html</a></li>\n",
    "    <li>[4] Welch's t-test: <a href=\"url\">https://en.wikipedia.org/wiki/Welch%27s_t-test</a></li>\n",
    "    <li>[5] Features Scaling: <a href=\"url\">https://towardsdatascience.com/all-about-feature-scaling-bcc0ad75cb35#:~:text=Feature%20scaling%20is%20essential%20for,that%20calculate%20distances%20between%20data.&text=Since%20the%20range%20of%20values,not%20work%20correctly%20without%20normalization.</a></li> \n",
    "    <li>[6] Naive Bayes classifier: <a href=\"url\">https://www.datacamp.com/community/tutorials/naive-bayes-scikit-learn</a></li>\n",
    "    <li>[7] Logistic Regression classifier: <a href=\"url\">https://en.wikipedia.org/wiki/Logistic_regression</a></li>\n",
    "    <li>[8] SVM classifier: <a href=\"url\">https://scikit-learn.org/stable/modules/svm.html</a></li>   \n",
    "    <li>[9] Decision Trees: <a href=\"url\">https://scikit-learn.org/stable/modules/tree.html#tree</a></li>\n",
    "    <li>[10] Random Forest: <a href=\"url\">https://scikit-learn.org/stable/modules/generated/sklearn.ensemble.RandomForestClassifier.html</a></li>\n",
    "    <li>[11] Nearest Neighbors classification: <a href=\"url\">https://scikit-learn.org/stable/modules/neighbors.html#classification</a></li>    \n",
    "    <li>[12] Evaluation metrics for classification model: <a href=\"url\">https://www.analyticsvidhya.com/blog/2019/08/11-important-model-evaluation-error-metrics/</a></li>\n",
    "    \n",
    "    \n",
    "    \n",
    "</ul>    \n",
    "    \n",
    "\n",
    "    \n",
    "    \n",
    "</ul>"
   ]
  }
 ],
 "metadata": {
  "kernelspec": {
   "display_name": "Python 3",
   "language": "python",
   "name": "python3"
  },
  "language_info": {
   "codemirror_mode": {
    "name": "ipython",
    "version": 3
   },
   "file_extension": ".py",
   "mimetype": "text/x-python",
   "name": "python",
   "nbconvert_exporter": "python",
   "pygments_lexer": "ipython3",
   "version": "3.7.5"
  }
 },
 "nbformat": 4,
 "nbformat_minor": 2
}
